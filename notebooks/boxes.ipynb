{
 "cells": [
  {
   "cell_type": "code",
   "execution_count": 2,
   "id": "08848233",
   "metadata": {},
   "outputs": [
    {
     "name": "stdout",
     "output_type": "stream",
     "text": [
      "importing Jupyter notebook from helper_functions.ipynb\n"
     ]
    }
   ],
   "source": [
    "import import_ipynb\n",
    "from helper_functions import is_plugin, has_state"
   ]
  },
  {
   "cell_type": "code",
   "execution_count": null,
   "id": "2abf6f77",
   "metadata": {},
   "outputs": [],
   "source": [
    "def delete_empty_boxes(state, number_of_deleted_boxes):\n",
    "    if isinstance(state, list):\n",
    "        new_state = []\n",
    "        for sub_state in state:\n",
    "            [new_sub_state, number_of_deleted_boxes] = delete_empty_boxes(sub_state, number_of_deleted_boxes)\n",
    "            if new_sub_state:\n",
    "                new_state.append(new_sub_state)\n",
    "        return [new_state, number_of_deleted_boxes]\n",
    "    elif isinstance(state, dict):\n",
    "        if is_plugin(state):\n",
    "            match state[\"plugin\"]:\n",
    "                case \"box\":\n",
    "                    if is_empty_box(state):\n",
    "                        number_of_deleted_boxes += 1\n",
    "                        return [{}, number_of_deleted_boxes]\n",
    "                case \"rows\":\n",
    "                    [state[\"state\"], number_of_deleted_boxes] = delete_empty_boxes(state[\"state\"], number_of_deleted_boxes)\n",
    "                    if state[\"state\"]:\n",
    "                        return [state, number_of_deleted_boxes]\n",
    "                    else:\n",
    "                        return [{}, number_of_deleted_boxes]\n",
    "                case _:\n",
    "                    if has_state(state):\n",
    "                        [state[\"state\"], number_of_deleted_boxes] = delete_empty_boxes(state[\"state\"], number_of_deleted_boxes)\n",
    "                    return [state, number_of_deleted_boxes]\n",
    "    \n",
    "    return [state, number_of_deleted_boxes]\n",
    "    "
   ]
  },
  {
   "cell_type": "code",
   "execution_count": 1,
   "id": "d3de46b9",
   "metadata": {},
   "outputs": [],
   "source": [
    "def is_empty_row(row):\n",
    "    state = row[\"state\"]\n",
    "    match row[\"plugin\"]:\n",
    "        case \"rows\":\n",
    "            for sub_row in row[\"state\"]:\n",
    "                if not is_empty_row(sub_row):\n",
    "                    return False\n",
    "        case \"text\":\n",
    "            return empty_children(state)\n",
    "        case \"image\":\n",
    "            return is_empty_image(state)\n",
    "        case \"equations\":\n",
    "            return is_empty_equation(state)\n",
    "        case \"multimedia\":\n",
    "            return is_empty_multimedia(state)\n",
    "        case \"serloTable\":\n",
    "            #TODO\n",
    "            return False\n",
    "        case \"highlight\":\n",
    "            #TODO\n",
    "            return False\n",
    "        case _:\n",
    "            raise Exception('Unhandled plugin: {}'.format(row))\n",
    "    return True\n",
    "\n",
    "def is_empty_image(image):\n",
    "    src = image[\"src\"]\n",
    "    return not src or src.isspace()\n",
    "\n",
    "def is_empty_multimedia(multimedia):\n",
    "    if is_empty_row(multimedia[\"multimedia\"]):\n",
    "        return is_empty_row(multimedia[\"explanation\"]) and is_empty_row(multimedia[\"multimedia\"])\n",
    "\n",
    "def is_empty_box(box):\n",
    "    content = box[\"state\"][\"content\"]\n",
    "    if content[\"plugin\"] != \"rows\":\n",
    "        raise Exception('The box content is invalid: {}'.format(content))\n",
    "        \n",
    "    for row in content[\"state\"]:\n",
    "        if not is_empty_row(row):\n",
    "            return False\n",
    "    print(\"found empty box\")\n",
    "    print(box)\n",
    "    return True\n",
    "\n",
    "def is_empty_equation(equation):\n",
    "    if equation[\"steps\"]:\n",
    "        return False\n",
    "    return True\n",
    "\n",
    "\n",
    "def empty_children(children):\n",
    "    for child in children:\n",
    "        if not child:\n",
    "            continue\n",
    "        elif \"text\" in child:\n",
    "            if child[\"text\"] and not child[\"text\"].isspace():\n",
    "                return False\n",
    "        elif \"src\" in child:\n",
    "            if child[\"src\"] and not child[\"src\"].isspace():\n",
    "                return False\n",
    "        elif \"children\" in child:\n",
    "            if not empty_children(child[\"children\"]):\n",
    "                return False\n",
    "        else:\n",
    "            raise Exception('Unhandled text: {}'.format(child))\n",
    "    return True"
   ]
  },
  {
   "cell_type": "code",
   "execution_count": null,
   "id": "cd995de9",
   "metadata": {},
   "outputs": [],
   "source": []
  }
 ],
 "metadata": {
  "kernelspec": {
   "display_name": "Python 3 (ipykernel)",
   "language": "python",
   "name": "python3"
  },
  "language_info": {
   "codemirror_mode": {
    "name": "ipython",
    "version": 3
   },
   "file_extension": ".py",
   "mimetype": "text/x-python",
   "name": "python",
   "nbconvert_exporter": "python",
   "pygments_lexer": "ipython3",
   "version": "3.10.1"
  }
 },
 "nbformat": 4,
 "nbformat_minor": 5
}
