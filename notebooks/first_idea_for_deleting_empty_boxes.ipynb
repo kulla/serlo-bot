{
 "cells": [
  {
   "cell_type": "code",
   "execution_count": null,
   "id": "08848233",
   "metadata": {},
   "outputs": [],
   "source": [
    "import pandas as pd\n",
    "import json\n",
    "\n",
    "from serlo.mysql import db"
   ]
  },
  {
   "cell_type": "code",
   "execution_count": null,
   "id": "c326bf8a",
   "metadata": {},
   "outputs": [],
   "source": [
    "class entity:\n",
    "    def __init__(self, id, empty_boxes):\n",
    "        self.id = id\n",
    "        self.empty_boxes = empty_boxes\n",
    "        \n",
    "    "
   ]
  },
  {
   "cell_type": "code",
   "execution_count": null,
   "id": "4af6e6f6",
   "metadata": {},
   "outputs": [],
   "source": [
    "#def get_items(obj):\n",
    "\n",
    "def get_keys(obj, stack):\n",
    "    #print(\"this: \")\n",
    "    #print(obj)\n",
    "    for k, v in obj.items():\n",
    "      k2 = ([k] if k else []) + stack # don't return empty keys\n",
    "      if v and isinstance(v, dict):\n",
    "        for c in get_keys(v, k2):\n",
    "          yield c\n",
    "      else: # leaf\n",
    "        yield k2\n",
    "\n",
    "def get_values(obj):\n",
    "    for v in obj.values():\n",
    "      if not v: continue\n",
    "      if isinstance(v, dict):\n",
    "        for c in get_values(v):\n",
    "          yield c\n",
    "      else: # leaf\n",
    "        yield v if isinstance(v, list) else [v]\n",
    "        \n",
    "def get_value_from_key_array(obj, keys):\n",
    "    #print(keys)\n",
    "    if len(keys) == 0:\n",
    "        return\n",
    "    if len(keys) == 1:\n",
    "        return obj[keys[0]]\n",
    "    else:\n",
    "        key = keys.pop(-1)\n",
    "        #print(key)\n",
    "        return get_value_from_key_array(obj[key], keys)\n",
    "\n",
    "  #return list(get_keys(obj,[])), list(get_values(obj))"
   ]
  },
  {
   "cell_type": "code",
   "execution_count": null,
   "id": "d3de46b9",
   "metadata": {},
   "outputs": [],
   "source": [
    "def find_empty_boxes(obj):\n",
    "    empty_boxes = []\n",
    "    #print(obj)\n",
    "    keys = list(get_keys(obj, []))\n",
    "    #print(\"keys\")\n",
    "    #print(keys)\n",
    "    for i in range(len(keys)):\n",
    "        leaf = keys[i][0]\n",
    "        if leaf == \"plugin\":\n",
    "            plugin = {}\n",
    "            if len(keys[i]) == 1:\n",
    "                plugin = obj\n",
    "            else:\n",
    "                #print(\"test\")\n",
    "                plugin = get_value_from_key_array(obj, keys[i][1:])\n",
    "            if plugin[\"plugin\"] == \"box\":\n",
    "                #print(\"box\")\n",
    "                #print(plugin)\n",
    "                if is_empty_box(plugin[\"state\"]):\n",
    "                    empty_boxes.append(plugin[\"state\"][\"anchorId\"])\n",
    "                    #print(1)\n",
    "        elif leaf == \"state\":\n",
    "            #print(i)\n",
    "            #print(keys[i])\n",
    "            #print(\"value\")\n",
    "            #print(get_value_from_key_array(obj, keys[i]))\n",
    "            state = get_value_from_key_array(obj, keys[i])\n",
    "            if type(state) == list:\n",
    "                for sub_obj in state:\n",
    "                    print(\"subobj: \")\n",
    "                    print(sub_obj)\n",
    "                    #print(\"theses: \")\n",
    "                    #print(find_empty_boxes(sub_obj))\n",
    "                    empty_boxes.extend(find_empty_boxes(sub_obj))\n",
    "    return empty_boxes\n",
    "                    \n",
    "def handle_boxes(boxes):\n",
    "    if boxes:\n",
    "        for box in boxes:\n",
    "            if is_empty_box(box):\n",
    "                handle_empty_box(box)\n",
    "                    \n",
    "                    \n",
    "def is_empty_box(box):\n",
    "    keys = list(get_keys(box, []))\n",
    "    for i in range(len(keys)):\n",
    "        leaf = keys[i][0]\n",
    "        if leaf == \"text\":\n",
    "            if get_value_from_key_array(box, keys[i]):\n",
    "                return False\n",
    "    return True\n",
    "    \n",
    "    \n",
    "    \n",
    "#def is_empty_box(box):\n",
    "#    return is_empty_object(box[\"content\"])\n",
    "\n",
    "def is_empty_object(obj):\n",
    "    #print(\"plugin\")\n",
    "    #print(obj)\n",
    "    match obj[\"plugin\"]:\n",
    "        case \"rows\":\n",
    "            for row in obj[\"state\"]:\n",
    "                if not is_empty_object(row):\n",
    "                    return False\n",
    "        case \"text\":\n",
    "            for text in obj[\"state\"]:\n",
    "                if text[\"type\"] == 'p':\n",
    "                    return is_empty_text(text[\"children\"])\n",
    "                else:\n",
    "                    print(\"unhandled text type: \")\n",
    "                    print(text[\"type\"])\n",
    "                    return False\n",
    "        case _:\n",
    "            print(\"unhandled plugin: \")\n",
    "            print(obj[\"plugin\"])\n",
    "            return False\n",
    "            \n",
    "    return True\n",
    "    \n",
    "def is_empty_text(text):\n",
    "    #print(\"children\")\n",
    "    #print(text)\n",
    "    for child in text:\n",
    "        if child[\"text\"]:\n",
    "            return True\n",
    "    return False"
   ]
  },
  {
   "cell_type": "code",
   "execution_count": null,
   "id": "e5995273",
   "metadata": {},
   "outputs": [],
   "source": [
    "df = pd.read_sql(\"\"\"\n",
    "SELECT entity.id, value\n",
    "FROM entity_revision_field, entity\n",
    "where field = \"content\"\n",
    "    AND entity.current_revision_id = entity_revision_field.entity_revision_id;\n",
    "\"\"\", db)\n",
    "\n",
    "df.head()"
   ]
  },
  {
   "cell_type": "code",
   "execution_count": null,
   "id": "79335fa3",
   "metadata": {},
   "outputs": [],
   "source": [
    "entities = []\n",
    "for i, revision in df.iterrows():\n",
    "    #print(\"id\")\n",
    "    #print(revision[\"id\"])\n",
    "    try:\n",
    "        currentObject = json.loads(revision[\"value\"])\n",
    "    except:\n",
    "        print(\"id\")\n",
    "        continue\n",
    "    if isinstance(currentObject, dict):\n",
    "        empty_boxes = find_empty_boxes(currentObject)\n",
    "        if len(empty_boxes):\n",
    "            entities.append(entity(revision[\"id\"], empty_boxes))\n",
    "            "
   ]
  },
  {
   "cell_type": "code",
   "execution_count": null,
   "id": "c8db002d",
   "metadata": {},
   "outputs": [],
   "source": [
    "entities[0].id"
   ]
  },
  {
   "cell_type": "code",
   "execution_count": null,
   "id": "f98fa15f",
   "metadata": {},
   "outputs": [],
   "source": [
    "#df[\"id\" == 16078]\n",
    "df[df.id == 1511]#[\"value\"]\n",
    "df[\"value\"][8]"
   ]
  },
  {
   "cell_type": "code",
   "execution_count": null,
   "id": "8346176c",
   "metadata": {},
   "outputs": [],
   "source": [
    "entities[0].empty_boxes"
   ]
  },
  {
   "cell_type": "code",
   "execution_count": null,
   "id": "dae7cc7c",
   "metadata": {},
   "outputs": [],
   "source": [
    "bytes(df[\"value\"][400], \"latin1\").decode(\"utf8\")"
   ]
  },
  {
   "cell_type": "code",
   "execution_count": null,
   "id": "abfa1704",
   "metadata": {},
   "outputs": [],
   "source": [
    "test = '{\"plugin\":\"article\",\"state\":{\"introduction\":{\"plugin\":\"articleIntroduction\",\"state\":{\"explanation\":{\"plugin\":\"text\",\"state\":[{\"type\":\"p\",\"children\":[{\"text\":\"In diesem Artikel werden Boxen und ihre Verwandten ausprobiert :)\"}]}]},\"multimedia\":{\"plugin\":\"image\",\"state\":{\"src\":\"\",\"caption\":{\"plugin\":\"text\",\"state\":[{\"type\":\"p\",\"children\":[{}]}]}}},\"illustrating\":true,\"width\":50}},\"content\":{\"plugin\":\"rows\",\"state\":[{\"plugin\":\"text\",\"state\":[{\"type\":\"p\",\"children\":[{\"text\":\"Text Anfang\"}]}]},{\"plugin\":\"box\",\"state\":{\"title\":{\"plugin\":\"text\",\"state\":[{\"type\":\"p\",\"children\":[{}]}]},\"content\":{\"plugin\":\"rows\",\"state\":[{\"plugin\":\"text\",\"state\":[{\"type\":\"p\",\"children\":[{\"text\":\"Das hier ist ein Merksatz. In der Plugin-Beschreibung steht auch, sodass dieser bisher wohl nicht besonders semantisch verwendet wurde.\"}]},{\"type\":\"p\",\"children\":[{\"text\":\"\"}]}]}]},\"type\":\"blank\",\"anchorId\":\"box80970\"}},{\"plugin\":\"text\",\"state\":[{\"type\":\"p\",\"children\":[{\"text\":\"Zwischentext zwischen den Elementen\"}]}]},{\"plugin\":\"box\",\"state\":{\"title\":{\"plugin\":\"text\",\"state\":[{\"type\":\"p\",\"children\":[{}]}]},\"content\":{\"plugin\":\"rows\",\"state\":[{\"plugin\":\"text\",\"state\":[{\"type\":\"p\",\"children\":[{\"text\":\"Das hier ist ein Zitat. Angeblich ist es einfach eingerückt, oder passiert hier noch mehr?\"}]},{\"type\":\"p\",\"children\":[{\"text\":\"\"}]}]}]},\"type\":\"quote\",\"anchorId\":\"box35521\"}},{\"plugin\":\"text\",\"state\":[{\"type\":\"p\",\"children\":[{\"text\":\"Noch ein schicker Zwischentext\"}]}]},{\"plugin\":\"spoiler\",\"state\":{\"title\":\"Das ist der Spoiler-Titel\",\"content\":{\"plugin\":\"rows\",\"state\":[{\"plugin\":\"text\",\"state\":[{\"type\":\"p\",\"children\":[{\"text\":\"Das ist der Spoiler-Inhalt, hoffentlich.\"}]}]}]}}},{\"plugin\":\"text\",\"state\":[{\"type\":\"p\",\"children\":[{\"text\":\"Und zum Abschluss kommt noch mal normaler Text\"}]}]},{\"plugin\":\"text\",\"state\":[{\"type\":\"p\",\"children\":[{\"text\":\"Und hier ein Experiment mit Tastendrücken: \"},{\"type\":\"math\",\"src\":\"\\\\\\\\fbox {~1~} ~\\\\\\\\fbox{Enter}~\\\\\\\\fbox{~2~} ~\\\\\\\\fbox{Enter}~\\\\\\\\fbox{~+~}\",\"inline\":true,\"children\":[{\"text\":\"1 Enter\"}]},{\"text\":\"\"}]}]},{\"plugin\":\"text\",\"state\":[{\"type\":\"p\",\"children\":[{}]}]},{\"plugin\":\"box\",\"state\":{\"type\":\"note\",\"title\":{\"plugin\":\"text\",\"state\":[{\"type\":\"p\",\"children\":[{}]}]},\"anchorId\":\"box32917\",\"content\":{\"plugin\":\"rows\",\"state\":[{\"plugin\":\"text\",\"state\":[{\"type\":\"p\",\"children\":[{\"text\":\"Das ist eine schicke neue Box.\"}]}]}]}}}]},\"exercises\":[],\"exerciseFolder\":{\"id\":\"\",\"title\":\"\"},\"relatedContent\":{\"articles\":[],\"courses\":[],\"videos\":[]},\"sources\":[]}}'"
   ]
  },
  {
   "cell_type": "code",
   "execution_count": null,
   "id": "ca170346",
   "metadata": {},
   "outputs": [],
   "source": [
    "obj = json.loads(test)\n",
    "keys = list(get_keys(obj, []))\n",
    "keys"
   ]
  },
  {
   "cell_type": "code",
   "execution_count": null,
   "id": "2bcbab80",
   "metadata": {},
   "outputs": [],
   "source": [
    "key_arr = ['plugin', 'introduction', 'state']\n",
    "value = get_value_from_key_array(obj, key_arr)\n",
    "value"
   ]
  },
  {
   "cell_type": "code",
   "execution_count": null,
   "id": "51b19b5d",
   "metadata": {},
   "outputs": [],
   "source": []
  }
 ],
 "metadata": {
  "kernelspec": {
   "display_name": "Python 3 (ipykernel)",
   "language": "python",
   "name": "python3"
  },
  "language_info": {
   "codemirror_mode": {
    "name": "ipython",
    "version": 3
   },
   "file_extension": ".py",
   "mimetype": "text/x-python",
   "name": "python",
   "nbconvert_exporter": "python",
   "pygments_lexer": "ipython3",
   "version": "3.10.1"
  }
 },
 "nbformat": 4,
 "nbformat_minor": 5
}
