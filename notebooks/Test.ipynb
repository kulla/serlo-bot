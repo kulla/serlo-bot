{
 "cells": [
  {
   "cell_type": "code",
   "execution_count": 1,
   "id": "a1121a8e",
   "metadata": {},
   "outputs": [
    {
     "name": "stderr",
     "output_type": "stream",
     "text": [
      "/home/moe/.asdf/installs/python/3.10.1/lib/python3.10/site-packages/pandas/io/sql.py:761: UserWarning: pandas only support SQLAlchemy connectable(engine/connection) ordatabase string URI or sqlite3 DBAPI2 connectionother DBAPI2 objects are not tested, please consider using SQLAlchemy\n",
      "  warnings.warn(\n"
     ]
    },
    {
     "data": {
      "text/html": [
       "<div>\n",
       "<style scoped>\n",
       "    .dataframe tbody tr th:only-of-type {\n",
       "        vertical-align: middle;\n",
       "    }\n",
       "\n",
       "    .dataframe tbody tr th {\n",
       "        vertical-align: top;\n",
       "    }\n",
       "\n",
       "    .dataframe thead th {\n",
       "        text-align: right;\n",
       "    }\n",
       "</style>\n",
       "<table border=\"1\" class=\"dataframe\">\n",
       "  <thead>\n",
       "    <tr style=\"text-align: right;\">\n",
       "      <th></th>\n",
       "      <th>id</th>\n",
       "      <th>content</th>\n",
       "    </tr>\n",
       "  </thead>\n",
       "  <tbody>\n",
       "    <tr>\n",
       "      <th>0</th>\n",
       "      <td>1</td>\n",
       "      <td>Weltgeschehen zwischen Krieg, Innovation, Wide...</td>\n",
       "    </tr>\n",
       "    <tr>\n",
       "      <th>1</th>\n",
       "      <td>2</td>\n",
       "      <td>Im Auslandsjournal gibt es Berichte, Geschicht...</td>\n",
       "    </tr>\n",
       "    <tr>\n",
       "      <th>2</th>\n",
       "      <td>3</td>\n",
       "      <td>\"Kunst ist nicht ein Spiegel, den man der Wirk...</td>\n",
       "    </tr>\n",
       "    <tr>\n",
       "      <th>3</th>\n",
       "      <td>4</td>\n",
       "      <td>\"Die politischen KrÃ¤fteverhÃ¤ltnisse in der g...</td>\n",
       "    </tr>\n",
       "    <tr>\n",
       "      <th>4</th>\n",
       "      <td>5</td>\n",
       "      <td>Das Wissensmagazin moderiert von Harald Lesch,...</td>\n",
       "    </tr>\n",
       "  </tbody>\n",
       "</table>\n",
       "</div>"
      ],
      "text/plain": [
       "   id                                            content\n",
       "0   1  Weltgeschehen zwischen Krieg, Innovation, Wide...\n",
       "1   2  Im Auslandsjournal gibt es Berichte, Geschicht...\n",
       "2   3  \"Kunst ist nicht ein Spiegel, den man der Wirk...\n",
       "3   4  \"Die politischen KrÃ¤fteverhÃ¤ltnisse in der g...\n",
       "4   5  Das Wissensmagazin moderiert von Harald Lesch,..."
      ]
     },
     "execution_count": 1,
     "metadata": {},
     "output_type": "execute_result"
    }
   ],
   "source": [
    "import pandas as pd\n",
    "\n",
    "from serlo.mysql import db\n",
    "\n",
    "df = pd.read_sql(\"\"\"\n",
    "SELECT id, content\n",
    "FROM ad\n",
    "LIMIT 10;\n",
    "\"\"\", db)\n",
    "df.head()"
   ]
  },
  {
   "cell_type": "code",
   "execution_count": 2,
   "id": "9b4212df",
   "metadata": {},
   "outputs": [
    {
     "name": "stderr",
     "output_type": "stream",
     "text": [
      "/home/moe/.asdf/installs/python/3.10.1/lib/python3.10/site-packages/pandas/io/sql.py:761: UserWarning: pandas only support SQLAlchemy connectable(engine/connection) ordatabase string URI or sqlite3 DBAPI2 connectionother DBAPI2 objects are not tested, please consider using SQLAlchemy\n",
      "  warnings.warn(\n"
     ]
    },
    {
     "data": {
      "text/html": [
       "<div>\n",
       "<style scoped>\n",
       "    .dataframe tbody tr th:only-of-type {\n",
       "        vertical-align: middle;\n",
       "    }\n",
       "\n",
       "    .dataframe tbody tr th {\n",
       "        vertical-align: top;\n",
       "    }\n",
       "\n",
       "    .dataframe thead th {\n",
       "        text-align: right;\n",
       "    }\n",
       "</style>\n",
       "<table border=\"1\" class=\"dataframe\">\n",
       "  <thead>\n",
       "    <tr style=\"text-align: right;\">\n",
       "      <th></th>\n",
       "      <th>id</th>\n",
       "      <th>trashed</th>\n",
       "      <th>discriminator</th>\n",
       "    </tr>\n",
       "  </thead>\n",
       "  <tbody>\n",
       "    <tr>\n",
       "      <th>0</th>\n",
       "      <td>181580</td>\n",
       "      <td>0</td>\n",
       "      <td>entity</td>\n",
       "    </tr>\n",
       "  </tbody>\n",
       "</table>\n",
       "</div>"
      ],
      "text/plain": [
       "       id  trashed discriminator\n",
       "0  181580        0        entity"
      ]
     },
     "execution_count": 2,
     "metadata": {},
     "output_type": "execute_result"
    }
   ],
   "source": [
    "test = pd.read_sql(\"\"\"\n",
    "SELECT *\n",
    "FROM uuid\n",
    "WHERE id = 181580;\n",
    "\"\"\", db)\n",
    "test.head()"
   ]
  },
  {
   "cell_type": "code",
   "execution_count": 3,
   "id": "7a37676f",
   "metadata": {},
   "outputs": [
    {
     "name": "stderr",
     "output_type": "stream",
     "text": [
      "/home/moe/.asdf/installs/python/3.10.1/lib/python3.10/site-packages/pandas/io/sql.py:761: UserWarning: pandas only support SQLAlchemy connectable(engine/connection) ordatabase string URI or sqlite3 DBAPI2 connectionother DBAPI2 objects are not tested, please consider using SQLAlchemy\n",
      "  warnings.warn(\n"
     ]
    },
    {
     "data": {
      "text/html": [
       "<div>\n",
       "<style scoped>\n",
       "    .dataframe tbody tr th:only-of-type {\n",
       "        vertical-align: middle;\n",
       "    }\n",
       "\n",
       "    .dataframe tbody tr th {\n",
       "        vertical-align: top;\n",
       "    }\n",
       "\n",
       "    .dataframe thead th {\n",
       "        text-align: right;\n",
       "    }\n",
       "</style>\n",
       "<table border=\"1\" class=\"dataframe\">\n",
       "  <thead>\n",
       "    <tr style=\"text-align: right;\">\n",
       "      <th></th>\n",
       "      <th>id</th>\n",
       "      <th>type_id</th>\n",
       "      <th>instance_id</th>\n",
       "      <th>license_id</th>\n",
       "      <th>date</th>\n",
       "      <th>current_revision_id</th>\n",
       "    </tr>\n",
       "  </thead>\n",
       "  <tbody>\n",
       "    <tr>\n",
       "      <th>0</th>\n",
       "      <td>226222</td>\n",
       "      <td>3</td>\n",
       "      <td>1</td>\n",
       "      <td>1</td>\n",
       "      <td>2021-10-02 15:44:36</td>\n",
       "      <td>245912</td>\n",
       "    </tr>\n",
       "  </tbody>\n",
       "</table>\n",
       "</div>"
      ],
      "text/plain": [
       "       id  type_id  instance_id  license_id                date  \\\n",
       "0  226222        3            1           1 2021-10-02 15:44:36   \n",
       "\n",
       "   current_revision_id  \n",
       "0               245912  "
      ]
     },
     "execution_count": 3,
     "metadata": {},
     "output_type": "execute_result"
    }
   ],
   "source": [
    "entity = pd.read_sql(\"\"\"\n",
    "SELECT *\n",
    "FROM entity\n",
    "WHERE id = 226222;\n",
    "\"\"\", db)\n",
    "entity.head()"
   ]
  },
  {
   "cell_type": "code",
   "execution_count": 5,
   "id": "1492d9bc",
   "metadata": {},
   "outputs": [
    {
     "name": "stderr",
     "output_type": "stream",
     "text": [
      "/home/moe/.asdf/installs/python/3.10.1/lib/python3.10/site-packages/pandas/io/sql.py:761: UserWarning: pandas only support SQLAlchemy connectable(engine/connection) ordatabase string URI or sqlite3 DBAPI2 connectionother DBAPI2 objects are not tested, please consider using SQLAlchemy\n",
      "  warnings.warn(\n"
     ]
    },
    {
     "data": {
      "text/html": [
       "<div>\n",
       "<style scoped>\n",
       "    .dataframe tbody tr th:only-of-type {\n",
       "        vertical-align: middle;\n",
       "    }\n",
       "\n",
       "    .dataframe tbody tr th {\n",
       "        vertical-align: top;\n",
       "    }\n",
       "\n",
       "    .dataframe thead th {\n",
       "        text-align: right;\n",
       "    }\n",
       "</style>\n",
       "<table border=\"1\" class=\"dataframe\">\n",
       "  <thead>\n",
       "    <tr style=\"text-align: right;\">\n",
       "      <th></th>\n",
       "      <th>id</th>\n",
       "      <th>author_id</th>\n",
       "      <th>repository_id</th>\n",
       "      <th>date</th>\n",
       "    </tr>\n",
       "  </thead>\n",
       "  <tbody>\n",
       "    <tr>\n",
       "      <th>0</th>\n",
       "      <td>245912</td>\n",
       "      <td>63374</td>\n",
       "      <td>226222</td>\n",
       "      <td>2022-05-16 21:20:33</td>\n",
       "    </tr>\n",
       "  </tbody>\n",
       "</table>\n",
       "</div>"
      ],
      "text/plain": [
       "       id  author_id  repository_id                date\n",
       "0  245912      63374         226222 2022-05-16 21:20:33"
      ]
     },
     "execution_count": 5,
     "metadata": {},
     "output_type": "execute_result"
    }
   ],
   "source": [
    "revision = pd.read_sql(\"\"\"\n",
    "SELECT *\n",
    "FROM entity_revision\n",
    "WHERE id = 245912;\n",
    "\"\"\", db)\n",
    "revision.head()"
   ]
  },
  {
   "cell_type": "code",
   "execution_count": 6,
   "id": "863694e7",
   "metadata": {},
   "outputs": [
    {
     "name": "stderr",
     "output_type": "stream",
     "text": [
      "/home/moe/.asdf/installs/python/3.10.1/lib/python3.10/site-packages/pandas/io/sql.py:761: UserWarning: pandas only support SQLAlchemy connectable(engine/connection) ordatabase string URI or sqlite3 DBAPI2 connectionother DBAPI2 objects are not tested, please consider using SQLAlchemy\n",
      "  warnings.warn(\n"
     ]
    },
    {
     "data": {
      "text/plain": [
       "'{\"plugin\":\"article\",\"state\":{\"introduction\":{\"plugin\":\"articleIntroduction\",\"state\":{\"explanation\":{\"plugin\":\"text\",\"state\":[{\"type\":\"p\",\"children\":[{\"text\":\"In diesem Artikel werden Boxen und ihre Verwandten ausprobiert :)\"}]}]},\"multimedia\":{\"plugin\":\"image\",\"state\":{\"src\":\"\",\"caption\":{\"plugin\":\"text\",\"state\":[{\"type\":\"p\",\"children\":[{}]}]}}},\"illustrating\":true,\"width\":50}},\"content\":{\"plugin\":\"rows\",\"state\":[{\"plugin\":\"text\",\"state\":[{\"type\":\"p\",\"children\":[{\"text\":\"Text Anfang\"}]}]},{\"plugin\":\"box\",\"state\":{\"title\":{\"plugin\":\"text\",\"state\":[{\"type\":\"p\",\"children\":[{}]}]},\"content\":{\"plugin\":\"rows\",\"state\":[{\"plugin\":\"text\",\"state\":[{\"type\":\"p\",\"children\":[{\"text\":\"Das hier ist ein Merksatz. In der Plugin-Beschreibung steht auch \\\\\"oder hebe wichtige Aussagen hervor\\\\\", sodass dieser bisher wohl nicht besonders semantisch verwendet wurde.\"}]},{\"type\":\"p\",\"children\":[{\"text\":\"\"}]}]}]},\"type\":\"blank\",\"anchorId\":\"box80970\"}},{\"plugin\":\"text\",\"state\":[{\"type\":\"p\",\"children\":[{\"text\":\"Zwischentext zwischen den Elementen\"}]}]},{\"plugin\":\"box\",\"state\":{\"title\":{\"plugin\":\"text\",\"state\":[{\"type\":\"p\",\"children\":[{}]}]},\"content\":{\"plugin\":\"rows\",\"state\":[{\"plugin\":\"text\",\"state\":[{\"type\":\"p\",\"children\":[{\"text\":\"Das hier ist ein Zitat. Angeblich ist es einfach eingerückt, oder passiert hier noch mehr?\"}]},{\"type\":\"p\",\"children\":[{\"text\":\"\"}]}]}]},\"type\":\"quote\",\"anchorId\":\"box35521\"}},{\"plugin\":\"text\",\"state\":[{\"type\":\"p\",\"children\":[{\"text\":\"Noch ein schicker Zwischentext\"}]}]},{\"plugin\":\"spoiler\",\"state\":{\"title\":\"Das ist der Spoiler-Titel\",\"content\":{\"plugin\":\"rows\",\"state\":[{\"plugin\":\"text\",\"state\":[{\"type\":\"p\",\"children\":[{\"text\":\"Das ist der Spoiler-Inhalt, hoffentlich.\"}]}]}]}}},{\"plugin\":\"text\",\"state\":[{\"type\":\"p\",\"children\":[{\"text\":\"Und zum Abschluss kommt noch mal normaler Text\"}]}]},{\"plugin\":\"text\",\"state\":[{\"type\":\"p\",\"children\":[{\"text\":\"Und hier ein Experiment mit Tastendrücken: \"},{\"type\":\"math\",\"src\":\"\\\\\\\\fbox {~1~} ~\\\\\\\\fbox{Enter}~\\\\\\\\fbox{~2~} ~\\\\\\\\fbox{Enter}~\\\\\\\\fbox{~+~}\",\"inline\":true,\"children\":[{\"text\":\"1 Enter\"}]},{\"text\":\"\"}]}]},{\"plugin\":\"text\",\"state\":[{\"type\":\"p\",\"children\":[{}]}]},{\"plugin\":\"box\",\"state\":{\"type\":\"note\",\"title\":{\"plugin\":\"text\",\"state\":[{\"type\":\"p\",\"children\":[{}]}]},\"anchorId\":\"box32917\",\"content\":{\"plugin\":\"rows\",\"state\":[{\"plugin\":\"text\",\"state\":[{\"type\":\"p\",\"children\":[{\"text\":\"Das ist eine schicke neue Box.\"}]}]}]}}}]},\"exercises\":[],\"exerciseFolder\":{\"id\":\"\",\"title\":\"\"},\"relatedContent\":{\"articles\":[],\"courses\":[],\"videos\":[]},\"sources\":[]}}'"
      ]
     },
     "execution_count": 6,
     "metadata": {},
     "output_type": "execute_result"
    }
   ],
   "source": [
    "field = pd.read_sql(\"\"\"\n",
    "SELECT value\n",
    "FROM entity_revision_field\n",
    "WHERE entity_revision_id = 245912;\n",
    "\"\"\", db)\n",
    "a = field[\"value\"][0]\n",
    "bytes(a, \"latin1\").decode(\"utf8\")"
   ]
  },
  {
   "cell_type": "code",
   "execution_count": 6,
   "id": "f4305130",
   "metadata": {},
   "outputs": [
    {
     "name": "stderr",
     "output_type": "stream",
     "text": [
      "/home/moe/.asdf/installs/python/3.10.1/lib/python3.10/site-packages/pandas/io/sql.py:761: UserWarning: pandas only support SQLAlchemy connectable(engine/connection) ordatabase string URI or sqlite3 DBAPI2 connectionother DBAPI2 objects are not tested, please consider using SQLAlchemy\n",
      "  warnings.warn(\n"
     ]
    },
    {
     "data": {
      "text/html": [
       "<div>\n",
       "<style scoped>\n",
       "    .dataframe tbody tr th:only-of-type {\n",
       "        vertical-align: middle;\n",
       "    }\n",
       "\n",
       "    .dataframe tbody tr th {\n",
       "        vertical-align: top;\n",
       "    }\n",
       "\n",
       "    .dataframe thead th {\n",
       "        text-align: right;\n",
       "    }\n",
       "</style>\n",
       "<table border=\"1\" class=\"dataframe\">\n",
       "  <thead>\n",
       "    <tr style=\"text-align: right;\">\n",
       "      <th></th>\n",
       "      <th>id</th>\n",
       "      <th>parent_id</th>\n",
       "      <th>child_id</th>\n",
       "      <th>type_id</th>\n",
       "      <th>order</th>\n",
       "    </tr>\n",
       "  </thead>\n",
       "  <tbody>\n",
       "    <tr>\n",
       "      <th>0</th>\n",
       "      <td>26501</td>\n",
       "      <td>181580</td>\n",
       "      <td>223711</td>\n",
       "      <td>9</td>\n",
       "      <td>0</td>\n",
       "    </tr>\n",
       "  </tbody>\n",
       "</table>\n",
       "</div>"
      ],
      "text/plain": [
       "      id  parent_id  child_id  type_id  order\n",
       "0  26501     181580    223711        9      0"
      ]
     },
     "execution_count": 6,
     "metadata": {},
     "output_type": "execute_result"
    }
   ],
   "source": [
    "link = pd.read_sql(\"\"\"\n",
    "SELECT *\n",
    "FROM entity_link\n",
    "WHERE parent_id = 181580;\n",
    "\"\"\", db)\n",
    "link.head()"
   ]
  },
  {
   "cell_type": "code",
   "execution_count": 7,
   "id": "6d2be69f",
   "metadata": {},
   "outputs": [
    {
     "name": "stderr",
     "output_type": "stream",
     "text": [
      "/home/moe/.asdf/installs/python/3.10.1/lib/python3.10/site-packages/pandas/io/sql.py:761: UserWarning: pandas only support SQLAlchemy connectable(engine/connection) ordatabase string URI or sqlite3 DBAPI2 connectionother DBAPI2 objects are not tested, please consider using SQLAlchemy\n",
      "  warnings.warn(\n"
     ]
    },
    {
     "data": {
      "text/html": [
       "<div>\n",
       "<style scoped>\n",
       "    .dataframe tbody tr th:only-of-type {\n",
       "        vertical-align: middle;\n",
       "    }\n",
       "\n",
       "    .dataframe tbody tr th {\n",
       "        vertical-align: top;\n",
       "    }\n",
       "\n",
       "    .dataframe thead th {\n",
       "        text-align: right;\n",
       "    }\n",
       "</style>\n",
       "<table border=\"1\" class=\"dataframe\">\n",
       "  <thead>\n",
       "    <tr style=\"text-align: right;\">\n",
       "      <th></th>\n",
       "      <th>id</th>\n",
       "      <th>type_id</th>\n",
       "      <th>instance_id</th>\n",
       "      <th>license_id</th>\n",
       "      <th>date</th>\n",
       "      <th>current_revision_id</th>\n",
       "    </tr>\n",
       "  </thead>\n",
       "  <tbody>\n",
       "    <tr>\n",
       "      <th>0</th>\n",
       "      <td>223711</td>\n",
       "      <td>2</td>\n",
       "      <td>1</td>\n",
       "      <td>1</td>\n",
       "      <td>2021-08-30 09:58:11</td>\n",
       "      <td>224461</td>\n",
       "    </tr>\n",
       "  </tbody>\n",
       "</table>\n",
       "</div>"
      ],
      "text/plain": [
       "       id  type_id  instance_id  license_id                date  \\\n",
       "0  223711        2            1           1 2021-08-30 09:58:11   \n",
       "\n",
       "   current_revision_id  \n",
       "0               224461  "
      ]
     },
     "execution_count": 7,
     "metadata": {},
     "output_type": "execute_result"
    }
   ],
   "source": [
    "solution = pd.read_sql(\"\"\"\n",
    "SELECT *\n",
    "FROM entity\n",
    "WHERE id = 223711;\n",
    "\"\"\", db)\n",
    "solution.head()"
   ]
  },
  {
   "cell_type": "code",
   "execution_count": 31,
   "id": "aa1c452e",
   "metadata": {},
   "outputs": [
    {
     "name": "stderr",
     "output_type": "stream",
     "text": [
      "/home/moe/.asdf/installs/python/3.10.1/lib/python3.10/site-packages/pandas/io/sql.py:761: UserWarning: pandas only support SQLAlchemy connectable(engine/connection) ordatabase string URI or sqlite3 DBAPI2 connectionother DBAPI2 objects are not tested, please consider using SQLAlchemy\n",
      "  warnings.warn(\n"
     ]
    },
    {
     "data": {
      "text/html": [
       "<div>\n",
       "<style scoped>\n",
       "    .dataframe tbody tr th:only-of-type {\n",
       "        vertical-align: middle;\n",
       "    }\n",
       "\n",
       "    .dataframe tbody tr th {\n",
       "        vertical-align: top;\n",
       "    }\n",
       "\n",
       "    .dataframe thead th {\n",
       "        text-align: right;\n",
       "    }\n",
       "</style>\n",
       "<table border=\"1\" class=\"dataframe\">\n",
       "  <thead>\n",
       "    <tr style=\"text-align: right;\">\n",
       "      <th></th>\n",
       "      <th>id</th>\n",
       "      <th>type_id</th>\n",
       "      <th>instance_id</th>\n",
       "      <th>license_id</th>\n",
       "      <th>date</th>\n",
       "      <th>current_revision_id</th>\n",
       "    </tr>\n",
       "  </thead>\n",
       "  <tbody>\n",
       "    <tr>\n",
       "      <th>0</th>\n",
       "      <td>226222</td>\n",
       "      <td>3</td>\n",
       "      <td>1</td>\n",
       "      <td>1</td>\n",
       "      <td>2021-10-02 15:44:36</td>\n",
       "      <td>245912</td>\n",
       "    </tr>\n",
       "  </tbody>\n",
       "</table>\n",
       "</div>"
      ],
      "text/plain": [
       "       id  type_id  instance_id  license_id                date  \\\n",
       "0  226222        3            1           1 2021-10-02 15:44:36   \n",
       "\n",
       "   current_revision_id  \n",
       "0               245912  "
      ]
     },
     "execution_count": 31,
     "metadata": {},
     "output_type": "execute_result"
    }
   ],
   "source": [
    "solution = pd.read_sql(\"\"\"\n",
    "SELECT *\n",
    "FROM entity\n",
    "WHERE id = 226222;\n",
    "\"\"\", db)\n",
    "solution.head()"
   ]
  },
  {
   "cell_type": "code",
   "execution_count": 10,
   "id": "9a1591e7",
   "metadata": {},
   "outputs": [
    {
     "name": "stderr",
     "output_type": "stream",
     "text": [
      "/home/moe/.asdf/installs/python/3.10.1/lib/python3.10/site-packages/pandas/io/sql.py:761: UserWarning: pandas only support SQLAlchemy connectable(engine/connection) ordatabase string URI or sqlite3 DBAPI2 connectionother DBAPI2 objects are not tested, please consider using SQLAlchemy\n",
      "  warnings.warn(\n"
     ]
    },
    {
     "data": {
      "text/html": [
       "<div>\n",
       "<style scoped>\n",
       "    .dataframe tbody tr th:only-of-type {\n",
       "        vertical-align: middle;\n",
       "    }\n",
       "\n",
       "    .dataframe tbody tr th {\n",
       "        vertical-align: top;\n",
       "    }\n",
       "\n",
       "    .dataframe thead th {\n",
       "        text-align: right;\n",
       "    }\n",
       "</style>\n",
       "<table border=\"1\" class=\"dataframe\">\n",
       "  <thead>\n",
       "    <tr style=\"text-align: right;\">\n",
       "      <th></th>\n",
       "      <th>id</th>\n",
       "      <th>field</th>\n",
       "      <th>entity_revision_id</th>\n",
       "      <th>value</th>\n",
       "    </tr>\n",
       "  </thead>\n",
       "  <tbody>\n",
       "    <tr>\n",
       "      <th>0</th>\n",
       "      <td>384066</td>\n",
       "      <td>content</td>\n",
       "      <td>245912</td>\n",
       "      <td>{\"plugin\":\"article\",\"state\":{\"introduction\":{\"...</td>\n",
       "    </tr>\n",
       "    <tr>\n",
       "      <th>1</th>\n",
       "      <td>384067</td>\n",
       "      <td>title</td>\n",
       "      <td>245912</td>\n",
       "      <td>Boxen und Co</td>\n",
       "    </tr>\n",
       "    <tr>\n",
       "      <th>2</th>\n",
       "      <td>384068</td>\n",
       "      <td>changes</td>\n",
       "      <td>245912</td>\n",
       "      <td>Neue Beachte-Box</td>\n",
       "    </tr>\n",
       "    <tr>\n",
       "      <th>3</th>\n",
       "      <td>384069</td>\n",
       "      <td>meta_title</td>\n",
       "      <td>245912</td>\n",
       "      <td></td>\n",
       "    </tr>\n",
       "    <tr>\n",
       "      <th>4</th>\n",
       "      <td>384070</td>\n",
       "      <td>meta_description</td>\n",
       "      <td>245912</td>\n",
       "      <td></td>\n",
       "    </tr>\n",
       "  </tbody>\n",
       "</table>\n",
       "</div>"
      ],
      "text/plain": [
       "       id             field  entity_revision_id  \\\n",
       "0  384066           content              245912   \n",
       "1  384067             title              245912   \n",
       "2  384068           changes              245912   \n",
       "3  384069        meta_title              245912   \n",
       "4  384070  meta_description              245912   \n",
       "\n",
       "                                               value  \n",
       "0  {\"plugin\":\"article\",\"state\":{\"introduction\":{\"...  \n",
       "1                                       Boxen und Co  \n",
       "2                                   Neue Beachte-Box  \n",
       "3                                                     \n",
       "4                                                     "
      ]
     },
     "execution_count": 10,
     "metadata": {},
     "output_type": "execute_result"
    }
   ],
   "source": [
    "text = pd.read_sql(\"\"\"\n",
    "SELECT *\n",
    "FROM entity_revision_field\n",
    "WHERE entity_revision_id = 245912;\n",
    "\"\"\", db)\n",
    "text"
   ]
  },
  {
   "cell_type": "code",
   "execution_count": 8,
   "id": "bad673ab",
   "metadata": {},
   "outputs": [
    {
     "name": "stderr",
     "output_type": "stream",
     "text": [
      "/home/moe/.asdf/installs/python/3.10.1/lib/python3.10/site-packages/pandas/io/sql.py:761: UserWarning: pandas only support SQLAlchemy connectable(engine/connection) ordatabase string URI or sqlite3 DBAPI2 connectionother DBAPI2 objects are not tested, please consider using SQLAlchemy\n",
      "  warnings.warn(\n"
     ]
    },
    {
     "data": {
      "text/html": [
       "<div>\n",
       "<style scoped>\n",
       "    .dataframe tbody tr th:only-of-type {\n",
       "        vertical-align: middle;\n",
       "    }\n",
       "\n",
       "    .dataframe tbody tr th {\n",
       "        vertical-align: top;\n",
       "    }\n",
       "\n",
       "    .dataframe thead th {\n",
       "        text-align: right;\n",
       "    }\n",
       "</style>\n",
       "<table border=\"1\" class=\"dataframe\">\n",
       "  <thead>\n",
       "    <tr style=\"text-align: right;\">\n",
       "      <th></th>\n",
       "      <th>id</th>\n",
       "      <th>field</th>\n",
       "      <th>entity_revision_id</th>\n",
       "      <th>value</th>\n",
       "    </tr>\n",
       "  </thead>\n",
       "  <tbody>\n",
       "  </tbody>\n",
       "</table>\n",
       "</div>"
      ],
      "text/plain": [
       "Empty DataFrame\n",
       "Columns: [id, field, entity_revision_id, value]\n",
       "Index: []"
      ]
     },
     "execution_count": 8,
     "metadata": {},
     "output_type": "execute_result"
    }
   ],
   "source": [
    "text = pd.read_sql(\"\"\"\n",
    "SELECT *\n",
    "FROM entity_revision_field\n",
    "WHERE entity_revision_id = 226222;\n",
    "\"\"\", db)\n",
    "text"
   ]
  },
  {
   "cell_type": "code",
   "execution_count": 11,
   "id": "eb5d894d",
   "metadata": {},
   "outputs": [
    {
     "data": {
      "text/plain": [
       "'{\"plugin\":\"article\",\"state\":{\"introduction\":{\"plugin\":\"articleIntroduction\",\"state\":{\"explanation\":{\"plugin\":\"text\",\"state\":[{\"type\":\"p\",\"children\":[{\"text\":\"In diesem Artikel werden Boxen und ihre Verwandten ausprobiert :)\"}]}]},\"multimedia\":{\"plugin\":\"image\",\"state\":{\"src\":\"\",\"caption\":{\"plugin\":\"text\",\"state\":[{\"type\":\"p\",\"children\":[{}]}]}}},\"illustrating\":true,\"width\":50}},\"content\":{\"plugin\":\"rows\",\"state\":[{\"plugin\":\"text\",\"state\":[{\"type\":\"p\",\"children\":[{\"text\":\"Text Anfang\"}]}]},{\"plugin\":\"box\",\"state\":{\"title\":{\"plugin\":\"text\",\"state\":[{\"type\":\"p\",\"children\":[{}]}]},\"content\":{\"plugin\":\"rows\",\"state\":[{\"plugin\":\"text\",\"state\":[{\"type\":\"p\",\"children\":[{\"text\":\"Das hier ist ein Merksatz. In der Plugin-Beschreibung steht auch \\\\\"oder hebe wichtige Aussagen hervor\\\\\", sodass dieser bisher wohl nicht besonders semantisch verwendet wurde.\"}]},{\"type\":\"p\",\"children\":[{\"text\":\"\"}]}]}]},\"type\":\"blank\",\"anchorId\":\"box80970\"}},{\"plugin\":\"text\",\"state\":[{\"type\":\"p\",\"children\":[{\"text\":\"Zwischentext zwischen den Elementen\"}]}]},{\"plugin\":\"box\",\"state\":{\"title\":{\"plugin\":\"text\",\"state\":[{\"type\":\"p\",\"children\":[{}]}]},\"content\":{\"plugin\":\"rows\",\"state\":[{\"plugin\":\"text\",\"state\":[{\"type\":\"p\",\"children\":[{\"text\":\"Das hier ist ein Zitat. Angeblich ist es einfach eingerückt, oder passiert hier noch mehr?\"}]},{\"type\":\"p\",\"children\":[{\"text\":\"\"}]}]}]},\"type\":\"quote\",\"anchorId\":\"box35521\"}},{\"plugin\":\"text\",\"state\":[{\"type\":\"p\",\"children\":[{\"text\":\"Noch ein schicker Zwischentext\"}]}]},{\"plugin\":\"spoiler\",\"state\":{\"title\":\"Das ist der Spoiler-Titel\",\"content\":{\"plugin\":\"rows\",\"state\":[{\"plugin\":\"text\",\"state\":[{\"type\":\"p\",\"children\":[{\"text\":\"Das ist der Spoiler-Inhalt, hoffentlich.\"}]}]}]}}},{\"plugin\":\"text\",\"state\":[{\"type\":\"p\",\"children\":[{\"text\":\"Und zum Abschluss kommt noch mal normaler Text\"}]}]},{\"plugin\":\"text\",\"state\":[{\"type\":\"p\",\"children\":[{\"text\":\"Und hier ein Experiment mit Tastendrücken: \"},{\"type\":\"math\",\"src\":\"\\\\\\\\fbox {~1~} ~\\\\\\\\fbox{Enter}~\\\\\\\\fbox{~2~} ~\\\\\\\\fbox{Enter}~\\\\\\\\fbox{~+~}\",\"inline\":true,\"children\":[{\"text\":\"1 Enter\"}]},{\"text\":\"\"}]}]},{\"plugin\":\"text\",\"state\":[{\"type\":\"p\",\"children\":[{}]}]},{\"plugin\":\"box\",\"state\":{\"type\":\"note\",\"title\":{\"plugin\":\"text\",\"state\":[{\"type\":\"p\",\"children\":[{}]}]},\"anchorId\":\"box32917\",\"content\":{\"plugin\":\"rows\",\"state\":[{\"plugin\":\"text\",\"state\":[{\"type\":\"p\",\"children\":[{\"text\":\"Das ist eine schicke neue Box.\"}]}]}]}}}]},\"exercises\":[],\"exerciseFolder\":{\"id\":\"\",\"title\":\"\"},\"relatedContent\":{\"articles\":[],\"courses\":[],\"videos\":[]},\"sources\":[]}}'"
      ]
     },
     "execution_count": 11,
     "metadata": {},
     "output_type": "execute_result"
    }
   ],
   "source": [
    "value = text[\"value\"][0]\n",
    "bytes(value, \"latin1\").decode(\"utf8\")"
   ]
  },
  {
   "cell_type": "code",
   "execution_count": 27,
   "id": "cbe0dce5",
   "metadata": {},
   "outputs": [
    {
     "name": "stderr",
     "output_type": "stream",
     "text": [
      "/home/moe/.asdf/installs/python/3.10.1/lib/python3.10/site-packages/pandas/io/sql.py:761: UserWarning: pandas only support SQLAlchemy connectable(engine/connection) ordatabase string URI or sqlite3 DBAPI2 connectionother DBAPI2 objects are not tested, please consider using SQLAlchemy\n",
      "  warnings.warn(\n"
     ]
    },
    {
     "data": {
      "text/html": [
       "<div>\n",
       "<style scoped>\n",
       "    .dataframe tbody tr th:only-of-type {\n",
       "        vertical-align: middle;\n",
       "    }\n",
       "\n",
       "    .dataframe tbody tr th {\n",
       "        vertical-align: top;\n",
       "    }\n",
       "\n",
       "    .dataframe thead th {\n",
       "        text-align: right;\n",
       "    }\n",
       "</style>\n",
       "<table border=\"1\" class=\"dataframe\">\n",
       "  <thead>\n",
       "    <tr style=\"text-align: right;\">\n",
       "      <th></th>\n",
       "      <th>id</th>\n",
       "      <th>value</th>\n",
       "    </tr>\n",
       "  </thead>\n",
       "  <tbody>\n",
       "    <tr>\n",
       "      <th>0</th>\n",
       "      <td>148316</td>\n",
       "      <td>{\"plugin\":\"rows\",\"state\":[{\"plugin\":\"text\",\"st...</td>\n",
       "    </tr>\n",
       "    <tr>\n",
       "      <th>1</th>\n",
       "      <td>149487</td>\n",
       "      <td>{\"plugin\":\"exercise\",\"state\":{\"content\":{\"plug...</td>\n",
       "    </tr>\n",
       "    <tr>\n",
       "      <th>2</th>\n",
       "      <td>223711</td>\n",
       "      <td>{\"plugin\":\"solution\",\"state\":{\"prerequisite\":{...</td>\n",
       "    </tr>\n",
       "    <tr>\n",
       "      <th>3</th>\n",
       "      <td>240351</td>\n",
       "      <td>{\"plugin\":\"article\",\"state\":{\"introduction\":{\"...</td>\n",
       "    </tr>\n",
       "  </tbody>\n",
       "</table>\n",
       "</div>"
      ],
      "text/plain": [
       "       id                                              value\n",
       "0  148316  {\"plugin\":\"rows\",\"state\":[{\"plugin\":\"text\",\"st...\n",
       "1  149487  {\"plugin\":\"exercise\",\"state\":{\"content\":{\"plug...\n",
       "2  223711  {\"plugin\":\"solution\",\"state\":{\"prerequisite\":{...\n",
       "3  240351  {\"plugin\":\"article\",\"state\":{\"introduction\":{\"..."
      ]
     },
     "execution_count": 27,
     "metadata": {},
     "output_type": "execute_result"
    }
   ],
   "source": [
    "df = pd.read_sql(\"\"\"\n",
    "SELECT entity.id, value\n",
    "FROM entity_revision_field, entity\n",
    "where field = \"content\"\n",
    "    AND entity.current_revision_id = entity_revision_field.entity_revision_id\n",
    "    AND value LIKE '%\"plugin\":\"box\",\"state\":{\"title\":{\"plugin\":\"text\",\"state\":[{\"type\":\"p\",\"children\":[{}]}]},\"content\":{\"plugin\":\"rows\",\"state\":[{\"plugin\":\"text\",\"state\":[{\"type\":\"p\",\"children\":[{}]}]}]}%'\n",
    "LIMIT 10;\n",
    "\"\"\", db)\n",
    "df.head()"
   ]
  },
  {
   "cell_type": "code",
   "execution_count": 28,
   "id": "0e5a3008",
   "metadata": {},
   "outputs": [
    {
     "data": {
      "text/plain": [
       "'{\"plugin\":\"exercise\",\"state\":{\"content\":{\"plugin\":\"rows\",\"state\":[{\"plugin\":\"text\",\"state\":[{\"type\":\"p\",\"children\":[{\"text\":\"Eine coole Bspaufgabe\"}]}]},{\"plugin\":\"box\",\"state\":{\"title\":{\"plugin\":\"text\",\"state\":[{\"type\":\"p\",\"children\":[{}]}]},\"content\":{\"plugin\":\"rows\",\"state\":[{\"plugin\":\"text\",\"state\":[{\"type\":\"p\",\"children\":[{}]}]}]},\"type\":\"quote\",\"anchorId\":\"box66070\"}}]},\"interactive\":{\"plugin\":\"scMcExercise\",\"state\":{\"isSingleChoice\":false,\"answers\":[{\"content\":{\"plugin\":\"text\",\"state\":[{\"type\":\"p\",\"children\":[{\"text\":\"ollah\"}]}]},\"isCorrect\":true,\"feedback\":{\"plugin\":\"text\",\"state\":[{\"type\":\"p\",\"children\":[{}]}]}},{\"content\":{\"plugin\":\"text\",\"state\":[{\"type\":\"p\",\"children\":[{\"text\":\")b\"}]}]},\"isCorrect\":false,\"feedback\":{\"plugin\":\"text\",\"state\":[{\"type\":\"p\",\"children\":[{}]}]}}]}}}}'"
      ]
     },
     "execution_count": 28,
     "metadata": {},
     "output_type": "execute_result"
    }
   ],
   "source": [
    "\n",
    "a = df[\"value\"] [1]\n",
    "bytes(a, \"latin1\").decode(\"utf8\")"
   ]
  },
  {
   "cell_type": "code",
   "execution_count": 29,
   "id": "c40a5955",
   "metadata": {},
   "outputs": [
    {
     "name": "stderr",
     "output_type": "stream",
     "text": [
      "/home/moe/.asdf/installs/python/3.10.1/lib/python3.10/site-packages/pandas/io/sql.py:761: UserWarning: pandas only support SQLAlchemy connectable(engine/connection) ordatabase string URI or sqlite3 DBAPI2 connectionother DBAPI2 objects are not tested, please consider using SQLAlchemy\n",
      "  warnings.warn(\n"
     ]
    },
    {
     "data": {
      "text/html": [
       "<div>\n",
       "<style scoped>\n",
       "    .dataframe tbody tr th:only-of-type {\n",
       "        vertical-align: middle;\n",
       "    }\n",
       "\n",
       "    .dataframe tbody tr th {\n",
       "        vertical-align: top;\n",
       "    }\n",
       "\n",
       "    .dataframe thead th {\n",
       "        text-align: right;\n",
       "    }\n",
       "</style>\n",
       "<table border=\"1\" class=\"dataframe\">\n",
       "  <thead>\n",
       "    <tr style=\"text-align: right;\">\n",
       "      <th></th>\n",
       "      <th>id</th>\n",
       "      <th>value</th>\n",
       "    </tr>\n",
       "  </thead>\n",
       "  <tbody>\n",
       "    <tr>\n",
       "      <th>0</th>\n",
       "      <td>1495</td>\n",
       "      <td>{\"plugin\":\"article\",\"state\":{\"introduction\":{\"...</td>\n",
       "    </tr>\n",
       "    <tr>\n",
       "      <th>1</th>\n",
       "      <td>1497</td>\n",
       "      <td>{\"plugin\":\"article\",\"state\":{\"introduction\":{\"...</td>\n",
       "    </tr>\n",
       "    <tr>\n",
       "      <th>2</th>\n",
       "      <td>1499</td>\n",
       "      <td>{\"plugin\":\"article\",\"state\":{\"introduction\":{\"...</td>\n",
       "    </tr>\n",
       "    <tr>\n",
       "      <th>3</th>\n",
       "      <td>1501</td>\n",
       "      <td>{\"plugin\":\"article\",\"state\":{\"introduction\":{\"...</td>\n",
       "    </tr>\n",
       "    <tr>\n",
       "      <th>4</th>\n",
       "      <td>1503</td>\n",
       "      <td>{\"plugin\":\"article\",\"state\":{\"introduction\":{\"...</td>\n",
       "    </tr>\n",
       "  </tbody>\n",
       "</table>\n",
       "</div>"
      ],
      "text/plain": [
       "     id                                              value\n",
       "0  1495  {\"plugin\":\"article\",\"state\":{\"introduction\":{\"...\n",
       "1  1497  {\"plugin\":\"article\",\"state\":{\"introduction\":{\"...\n",
       "2  1499  {\"plugin\":\"article\",\"state\":{\"introduction\":{\"...\n",
       "3  1501  {\"plugin\":\"article\",\"state\":{\"introduction\":{\"...\n",
       "4  1503  {\"plugin\":\"article\",\"state\":{\"introduction\":{\"..."
      ]
     },
     "execution_count": 29,
     "metadata": {},
     "output_type": "execute_result"
    }
   ],
   "source": [
    "df = pd.read_sql(\"\"\"\n",
    "SELECT entity.id, value\n",
    "FROM entity_revision_field, entity\n",
    "where field = \"content\"\n",
    "    AND entity.current_revision_id = entity_revision_field.entity_revision_id;\n",
    "\"\"\", db)\n",
    "\n",
    "df.head()"
   ]
  },
  {
   "cell_type": "code",
   "execution_count": 15,
   "id": "7ac13bc4",
   "metadata": {},
   "outputs": [],
   "source": [
    "#def getitems(obj):\n",
    "\n",
    "def getkeys(obj, stack):\n",
    "    for k, v in obj.items():\n",
    "      k2 = ([k] if k else []) + stack # don't return empty keys\n",
    "      if v and isinstance(v, dict):\n",
    "        for c in getkeys(v, k2):\n",
    "          yield c\n",
    "      else: # leaf\n",
    "        yield k2\n",
    "\n",
    "def getvalues(obj):\n",
    "    for v in obj.values():\n",
    "      if not v: continue\n",
    "      if isinstance(v, dict):\n",
    "        for c in getvalues(v):\n",
    "          yield c\n",
    "      else: # leaf\n",
    "        yield v if isinstance(v, list) else [v]\n",
    "\n",
    "  #return list(getkeys(obj,[])), list(getvalues(obj))"
   ]
  },
  {
   "cell_type": "code",
   "execution_count": 16,
   "id": "2fc81429",
   "metadata": {},
   "outputs": [],
   "source": [
    "import json\n",
    "obj = json.loads(df[\"value\"][0])\n"
   ]
  },
  {
   "cell_type": "code",
   "execution_count": 17,
   "id": "7ab1e9d6",
   "metadata": {},
   "outputs": [
    {
     "data": {
      "text/plain": [
       "[['plugin'],\n",
       " ['plugin', 'introduction', 'state'],\n",
       " ['plugin', 'explanation', 'state', 'introduction', 'state'],\n",
       " ['state', 'explanation', 'state', 'introduction', 'state'],\n",
       " ['plugin', 'multimedia', 'state', 'introduction', 'state'],\n",
       " ['src', 'state', 'multimedia', 'state', 'introduction', 'state'],\n",
       " ['plugin',\n",
       "  'caption',\n",
       "  'state',\n",
       "  'multimedia',\n",
       "  'state',\n",
       "  'introduction',\n",
       "  'state'],\n",
       " ['state', 'caption', 'state', 'multimedia', 'state', 'introduction', 'state'],\n",
       " ['illustrating', 'state', 'introduction', 'state'],\n",
       " ['width', 'state', 'introduction', 'state'],\n",
       " ['plugin', 'content', 'state'],\n",
       " ['state', 'content', 'state'],\n",
       " ['exercises', 'state'],\n",
       " ['id', 'exerciseFolder', 'state'],\n",
       " ['title', 'exerciseFolder', 'state'],\n",
       " ['articles', 'relatedContent', 'state'],\n",
       " ['courses', 'relatedContent', 'state'],\n",
       " ['videos', 'relatedContent', 'state'],\n",
       " ['sources', 'state']]"
      ]
     },
     "execution_count": 17,
     "metadata": {},
     "output_type": "execute_result"
    }
   ],
   "source": [
    "keys = list(getkeys(obj, []))\n",
    "keys"
   ]
  },
  {
   "cell_type": "code",
   "execution_count": 19,
   "id": "287c9bce",
   "metadata": {},
   "outputs": [
    {
     "data": {
      "text/plain": [
       "[['article'],\n",
       " ['articleIntroduction'],\n",
       " ['text'],\n",
       " [{'type': 'p',\n",
       "   'children': [{'text': 'Dieser Artikel befasst sich mit der Grundrechenart Addition.'}]}],\n",
       " ['image'],\n",
       " ['text'],\n",
       " [{'type': 'p', 'children': [{}]}],\n",
       " [True],\n",
       " [50],\n",
       " ['rows'],\n",
       " [{'plugin': 'text',\n",
       "   'state': [{'type': 'p',\n",
       "     'children': [{'text': 'Die '},\n",
       "      {'text': 'Addition', 'strong': True},\n",
       "      {'text': ', umgangssprachlich auch '},\n",
       "      {'text': 'Plus-Rechnen', 'strong': True},\n",
       "      {'text': ' genannt, ist eine der vier  '},\n",
       "      {'type': 'a',\n",
       "       'href': '/1871',\n",
       "       'children': [{'text': 'Grundrechenarten'}]},\n",
       "      {'text': '. Oft sagt man statt â\\x80\\x9eaddierenâ\\x80\\x9c auch '},\n",
       "      {'text': 'â\\x80\\x9ezusammenzÃ¤hlenâ\\x80\\x9c', 'strong': True},\n",
       "      {'text': '. '}]},\n",
       "    {'type': 'p',\n",
       "     'children': [{'text': 'Die Zahlen, die addiert werden, nennt man '},\n",
       "      {'text': 'Summanden', 'strong': True},\n",
       "      {'text': ', den Ausdruck\\n'},\n",
       "      {'text': '1. Summand + 2. Summand', 'strong': True},\n",
       "      {'text': ' nennt man '},\n",
       "      {'text': 'Summe', 'strong': True},\n",
       "      {'text': ' und das Ergebnis der Rechnung '},\n",
       "      {'text': 'Wert der Summe', 'strong': True},\n",
       "      {'text': '.'}]}]},\n",
       "  {'plugin': 'image',\n",
       "   'state': {'src': 'https://assets.serlo.org/5b6018974f73c_a1bfde10aa23e0411af426a46be1c6c532ca9482.jpg',\n",
       "    'alt': 'Bestandteile einer Summe, Summand',\n",
       "    'caption': {'plugin': 'text',\n",
       "     'state': [{'type': 'p', 'children': [{}]}]}}},\n",
       "  {'plugin': 'text',\n",
       "   'state': [{'type': 'h',\n",
       "     'level': 2,\n",
       "     'children': [{'text': 'Wie kann man sich das vorstellen?'}]}]},\n",
       "  {'plugin': 'text',\n",
       "   'state': [{'type': 'h',\n",
       "     'level': 3,\n",
       "     'children': [{'text': 'Mit GegenstÃ¤nden'}]}]},\n",
       "  {'plugin': 'text',\n",
       "   'state': [{'type': 'p',\n",
       "     'children': [{'text': 'Wenn Peter zwei Murmeln hat und Kira drei, dann haben sie '},\n",
       "      {'text': 'zusammen', 'strong': True},\n",
       "      {'text': ' fÃ¼nf Murmeln.'}]}]},\n",
       "  {'plugin': 'image',\n",
       "   'state': {'src': 'https://assets.serlo.org/legacy/57221a8971dcd_a49de3af22922fc7a58ac3a494245a7a054f0c4c.png',\n",
       "    'alt': 'ErklÃ¤rung einer Summe mithilfe von Murmeln',\n",
       "    'caption': {'plugin': 'text',\n",
       "     'state': [{'type': 'p', 'children': [{}]}]}}},\n",
       "  {'plugin': 'text',\n",
       "   'state': [{'type': 'h',\n",
       "     'level': 3,\n",
       "     'children': [{'text': 'Mit einer Zahlengeraden'}]}]},\n",
       "  {'plugin': 'text',\n",
       "   'state': [{'type': 'p',\n",
       "     'children': [{'text': 'Mit der '},\n",
       "      {'type': 'a', 'href': '/2067', 'children': [{'text': 'Zahlengerade'}]},\n",
       "      {'text': ' kÃ¶nnen wir uns die Addition als SchrittezÃ¤hlen vorstellen.'}]},\n",
       "    {'type': 'p',\n",
       "     'children': [{'text': 'Um 2 + 3Â\\xa0zu berechnen, markiert man zuerst die Zahl 2 auf der Zahlengerade und geht von dort aus drei â\\x80\\x9eSchritteâ\\x80\\x9c nach rechts. Die Zahl, auf der man landet, ist dann die Summe.'}]}]},\n",
       "  {'plugin': 'image',\n",
       "   'state': {'src': 'https://assets.serlo.org/5e5a5ed3ed8e2_9ac24a2177b0ff20cd1f7ce8661591bae0647b59.png',\n",
       "    'alt': 'Addition auf der Zahlengerade',\n",
       "    'caption': {'plugin': 'text',\n",
       "     'state': [{'type': 'p', 'children': [{}]}]}}},\n",
       "  {'plugin': 'text',\n",
       "   'state': [{'type': 'p',\n",
       "     'children': [{'text': 'Schritte zÃ¤hlen ist nicht besonders schwer. Es kann aber viel Zeit kosten, vor allem wenn man groÃ\\x9fe Zahlen addiert. Um groÃ\\x9fe Zahlen zu addieren, kann man die '},\n",
       "      {'type': 'a',\n",
       "       'href': '/2153',\n",
       "       'children': [{'text': 'schriftliche Additon'}]},\n",
       "      {'text': ' verwenden.'}]}]},\n",
       "  {'plugin': 'text',\n",
       "   'state': [{'type': 'h',\n",
       "     'level': 2,\n",
       "     'children': [{'text': 'Die besondere Zahl - Null'}]}]},\n",
       "  {'plugin': 'text',\n",
       "   'state': [{'type': 'p',\n",
       "     'children': [{'text': 'Wenn die Zahl Null ein Summand einer Summe ist, trÃ¤gt sie zum Wert der Summe nichts bei, man kann sie '},\n",
       "      {'text': 'beim Addieren', 'strong': True},\n",
       "      {'text': ' also auch einfach weglassen. So gilt zum Beispielï»¿'}]},\n",
       "    {'type': 'math',\n",
       "     'src': '3+0=3, \\\\\\\\0+74=74',\n",
       "     'inline': False,\n",
       "     'children': [{'text': ''}]}]},\n",
       "  {'plugin': 'text',\n",
       "   'state': [{'type': 'p', 'children': [{'text': 'sowieï»¿'}]},\n",
       "    {'type': 'math',\n",
       "     'src': '5+0+7=5+7.',\n",
       "     'inline': False,\n",
       "     'children': [{'text': ''}]},\n",
       "    {'type': 'p',\n",
       "     'children': [{'text': 'Die Null ist die '},\n",
       "      {'text': 'einzige Zahl', 'strong': True},\n",
       "      {'text': ' mit dieser Eigenschaft.'}]}]}],\n",
       " [{'plugin': 'injection', 'state': '9741'},\n",
       "  {'plugin': 'injection', 'state': '96143'},\n",
       "  {'plugin': 'injection', 'state': '75523'}],\n",
       " [{'id': '2153', 'title': 'Schriftliche Addition'},\n",
       "  {'id': '62546', 'title': 'Addition und Subtraktion ganzer Zahlen\\n\\n'}]]"
      ]
     },
     "execution_count": 19,
     "metadata": {},
     "output_type": "execute_result"
    }
   ],
   "source": [
    "values = list(getvalues(obj))\n",
    "values"
   ]
  },
  {
   "cell_type": "code",
   "execution_count": 20,
   "id": "68c082e3",
   "metadata": {},
   "outputs": [
    {
     "data": {
      "text/plain": [
       "'{\"plugin\":\"article\",\"state\":{\"introduction\":{\"plugin\":\"articleIntroduction\",\"state\":{\"explanation\":{\"plugin\":\"text\",\"state\":[{\"type\":\"p\",\"children\":[{\"text\":\"Dieser Artikel befasst sich mit der Grundrechenart Addition.\"}]}]},\"multimedia\":{\"plugin\":\"image\",\"state\":{\"src\":\"\",\"caption\":{\"plugin\":\"text\",\"state\":[{\"type\":\"p\",\"children\":[{}]}]}}},\"illustrating\":true,\"width\":50}},\"content\":{\"plugin\":\"rows\",\"state\":[{\"plugin\":\"text\",\"state\":[{\"type\":\"p\",\"children\":[{\"text\":\"Die \"},{\"text\":\"Addition\",\"strong\":true},{\"text\":\", umgangssprachlich auch \"},{\"text\":\"Plus-Rechnen\",\"strong\":true},{\"text\":\" genannt, ist eine der vier  \"},{\"type\":\"a\",\"href\":\"/1871\",\"children\":[{\"text\":\"Grundrechenarten\"}]},{\"text\":\". Oft sagt man statt „addieren“ auch \"},{\"text\":\"„zusammenzählen“\",\"strong\":true},{\"text\":\". \"}]},{\"type\":\"p\",\"children\":[{\"text\":\"Die Zahlen, die addiert werden, nennt man \"},{\"text\":\"Summanden\",\"strong\":true},{\"text\":\", den Ausdruck\\\\n\"},{\"text\":\"1. Summand + 2. Summand\",\"strong\":true},{\"text\":\" nennt man \"},{\"text\":\"Summe\",\"strong\":true},{\"text\":\" und das Ergebnis der Rechnung \"},{\"text\":\"Wert der Summe\",\"strong\":true},{\"text\":\".\"}]}]},{\"plugin\":\"image\",\"state\":{\"src\":\"https://assets.serlo.org/5b6018974f73c_a1bfde10aa23e0411af426a46be1c6c532ca9482.jpg\",\"alt\":\"Bestandteile einer Summe, Summand\",\"caption\":{\"plugin\":\"text\",\"state\":[{\"type\":\"p\",\"children\":[{}]}]}}},{\"plugin\":\"text\",\"state\":[{\"type\":\"h\",\"level\":2,\"children\":[{\"text\":\"Wie kann man sich das vorstellen?\"}]}]},{\"plugin\":\"text\",\"state\":[{\"type\":\"h\",\"level\":3,\"children\":[{\"text\":\"Mit Gegenständen\"}]}]},{\"plugin\":\"text\",\"state\":[{\"type\":\"p\",\"children\":[{\"text\":\"Wenn Peter zwei Murmeln hat und Kira drei, dann haben sie \"},{\"text\":\"zusammen\",\"strong\":true},{\"text\":\" fünf Murmeln.\"}]}]},{\"plugin\":\"image\",\"state\":{\"src\":\"https://assets.serlo.org/legacy/57221a8971dcd_a49de3af22922fc7a58ac3a494245a7a054f0c4c.png\",\"alt\":\"Erklärung einer Summe mithilfe von Murmeln\",\"caption\":{\"plugin\":\"text\",\"state\":[{\"type\":\"p\",\"children\":[{}]}]}}},{\"plugin\":\"text\",\"state\":[{\"type\":\"h\",\"level\":3,\"children\":[{\"text\":\"Mit einer Zahlengeraden\"}]}]},{\"plugin\":\"text\",\"state\":[{\"type\":\"p\",\"children\":[{\"text\":\"Mit der \"},{\"type\":\"a\",\"href\":\"/2067\",\"children\":[{\"text\":\"Zahlengerade\"}]},{\"text\":\" können wir uns die Addition als Schrittezählen vorstellen.\"}]},{\"type\":\"p\",\"children\":[{\"text\":\"Um 2 + 3\\xa0zu berechnen, markiert man zuerst die Zahl 2 auf der Zahlengerade und geht von dort aus drei „Schritte“ nach rechts. Die Zahl, auf der man landet, ist dann die Summe.\"}]}]},{\"plugin\":\"image\",\"state\":{\"src\":\"https://assets.serlo.org/5e5a5ed3ed8e2_9ac24a2177b0ff20cd1f7ce8661591bae0647b59.png\",\"alt\":\"Addition auf der Zahlengerade\",\"caption\":{\"plugin\":\"text\",\"state\":[{\"type\":\"p\",\"children\":[{}]}]}}},{\"plugin\":\"text\",\"state\":[{\"type\":\"p\",\"children\":[{\"text\":\"Schritte zählen ist nicht besonders schwer. Es kann aber viel Zeit kosten, vor allem wenn man große Zahlen addiert. Um große Zahlen zu addieren, kann man die \"},{\"type\":\"a\",\"href\":\"/2153\",\"children\":[{\"text\":\"schriftliche Additon\"}]},{\"text\":\" verwenden.\"}]}]},{\"plugin\":\"text\",\"state\":[{\"type\":\"h\",\"level\":2,\"children\":[{\"text\":\"Die besondere Zahl - Null\"}]}]},{\"plugin\":\"text\",\"state\":[{\"type\":\"p\",\"children\":[{\"text\":\"Wenn die Zahl Null ein Summand einer Summe ist, trägt sie zum Wert der Summe nichts bei, man kann sie \"},{\"text\":\"beim Addieren\",\"strong\":true},{\"text\":\" also auch einfach weglassen. So gilt zum Beispiel\\ufeff\"}]},{\"type\":\"math\",\"src\":\"3+0=3, \\\\\\\\\\\\\\\\0+74=74\",\"inline\":false,\"children\":[{\"text\":\"\"}]}]},{\"plugin\":\"text\",\"state\":[{\"type\":\"p\",\"children\":[{\"text\":\"sowie\\ufeff\"}]},{\"type\":\"math\",\"src\":\"5+0+7=5+7.\",\"inline\":false,\"children\":[{\"text\":\"\"}]},{\"type\":\"p\",\"children\":[{\"text\":\"Die Null ist die \"},{\"text\":\"einzige Zahl\",\"strong\":true},{\"text\":\" mit dieser Eigenschaft.\"}]}]}]},\"exercises\":[{\"plugin\":\"injection\",\"state\":\"9741\"},{\"plugin\":\"injection\",\"state\":\"96143\"},{\"plugin\":\"injection\",\"state\":\"75523\"}],\"exerciseFolder\":{\"id\":\"\",\"title\":\"\"},\"relatedContent\":{\"articles\":[{\"id\":\"2153\",\"title\":\"Schriftliche Addition\"},{\"id\":\"62546\",\"title\":\"Addition und Subtraktion ganzer Zahlen\\\\n\\\\n\"}],\"courses\":[],\"videos\":[]},\"sources\":[]}}'"
      ]
     },
     "execution_count": 20,
     "metadata": {},
     "output_type": "execute_result"
    }
   ],
   "source": [
    "\n",
    "bytes(df[\"value\"][0], \"latin1\").decode(\"utf8\")"
   ]
  },
  {
   "cell_type": "code",
   "execution_count": 21,
   "id": "1863decc",
   "metadata": {},
   "outputs": [
    {
     "data": {
      "text/plain": [
       "[]"
      ]
     },
     "execution_count": 21,
     "metadata": {},
     "output_type": "execute_result"
    }
   ],
   "source": [
    "values = list(getvalues(obj))\n",
    "boxes = []\n",
    "for i in range(len(keys)):\n",
    "    for j in range(len(keys[i])):\n",
    "        if keys[i][j] == \"plugin\":\n",
    "            if values[i][j] == \"box\":\n",
    "                boxes.append((i,j))\n",
    "                \n",
    "boxes"
   ]
  },
  {
   "cell_type": "code",
   "execution_count": 22,
   "id": "0f755c02",
   "metadata": {},
   "outputs": [
    {
     "ename": "KeyError",
     "evalue": "3",
     "output_type": "error",
     "traceback": [
      "\u001b[0;31m---------------------------------------------------------------------------\u001b[0m",
      "\u001b[0;31mKeyError\u001b[0m                                  Traceback (most recent call last)",
      "Input \u001b[0;32mIn [22]\u001b[0m, in \u001b[0;36m<cell line: 1>\u001b[0;34m()\u001b[0m\n\u001b[0;32m----> 1\u001b[0m obj \u001b[38;5;241m=\u001b[39m \u001b[43mjson\u001b[49m\u001b[38;5;241;43m.\u001b[39;49m\u001b[43mloads\u001b[49m\u001b[43m(\u001b[49m\u001b[43mdf\u001b[49m\u001b[43m[\u001b[49m\u001b[38;5;124;43m\"\u001b[39;49m\u001b[38;5;124;43mvalue\u001b[39;49m\u001b[38;5;124;43m\"\u001b[39;49m\u001b[43m]\u001b[49m\u001b[43m[\u001b[49m\u001b[38;5;241;43m0\u001b[39;49m\u001b[43m]\u001b[49m\u001b[43m)\u001b[49m\u001b[43m[\u001b[49m\u001b[38;5;124;43m\"\u001b[39;49m\u001b[38;5;124;43mstate\u001b[39;49m\u001b[38;5;124;43m\"\u001b[39;49m\u001b[43m]\u001b[49m\u001b[43m[\u001b[49m\u001b[38;5;241;43m3\u001b[39;49m\u001b[43m]\u001b[49m\n\u001b[1;32m      2\u001b[0m obj\n",
      "\u001b[0;31mKeyError\u001b[0m: 3"
     ]
    }
   ],
   "source": [
    "obj = json.loads(df[\"value\"][0])[\"state\"][3]\n",
    "obj"
   ]
  }
 ],
 "metadata": {
  "kernelspec": {
   "display_name": "Python 3 (ipykernel)",
   "language": "python",
   "name": "python3"
  },
  "language_info": {
   "codemirror_mode": {
    "name": "ipython",
    "version": 3
   },
   "file_extension": ".py",
   "mimetype": "text/x-python",
   "name": "python",
   "nbconvert_exporter": "python",
   "pygments_lexer": "ipython3",
   "version": "3.10.1"
  }
 },
 "nbformat": 4,
 "nbformat_minor": 5
}
