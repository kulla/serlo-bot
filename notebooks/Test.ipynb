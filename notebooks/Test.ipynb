{
 "cells": [
  {
   "cell_type": "code",
   "execution_count": 3,
   "id": "a1121a8e",
   "metadata": {},
   "outputs": [
    {
     "name": "stderr",
     "output_type": "stream",
     "text": [
      "/home/moe/.asdf/installs/python/3.10.1/lib/python3.10/site-packages/pandas/io/sql.py:761: UserWarning: pandas only support SQLAlchemy connectable(engine/connection) ordatabase string URI or sqlite3 DBAPI2 connectionother DBAPI2 objects are not tested, please consider using SQLAlchemy\n",
      "  warnings.warn(\n"
     ]
    },
    {
     "data": {
      "text/html": [
       "<div>\n",
       "<style scoped>\n",
       "    .dataframe tbody tr th:only-of-type {\n",
       "        vertical-align: middle;\n",
       "    }\n",
       "\n",
       "    .dataframe tbody tr th {\n",
       "        vertical-align: top;\n",
       "    }\n",
       "\n",
       "    .dataframe thead th {\n",
       "        text-align: right;\n",
       "    }\n",
       "</style>\n",
       "<table border=\"1\" class=\"dataframe\">\n",
       "  <thead>\n",
       "    <tr style=\"text-align: right;\">\n",
       "      <th></th>\n",
       "      <th>id</th>\n",
       "      <th>content</th>\n",
       "    </tr>\n",
       "  </thead>\n",
       "  <tbody>\n",
       "    <tr>\n",
       "      <th>0</th>\n",
       "      <td>1</td>\n",
       "      <td>Weltgeschehen zwischen Krieg, Innovation, Wide...</td>\n",
       "    </tr>\n",
       "    <tr>\n",
       "      <th>1</th>\n",
       "      <td>2</td>\n",
       "      <td>Im Auslandsjournal gibt es Berichte, Geschicht...</td>\n",
       "    </tr>\n",
       "    <tr>\n",
       "      <th>2</th>\n",
       "      <td>3</td>\n",
       "      <td>\"Kunst ist nicht ein Spiegel, den man der Wirk...</td>\n",
       "    </tr>\n",
       "    <tr>\n",
       "      <th>3</th>\n",
       "      <td>4</td>\n",
       "      <td>\"Die politischen KrÃ¤fteverhÃ¤ltnisse in der g...</td>\n",
       "    </tr>\n",
       "    <tr>\n",
       "      <th>4</th>\n",
       "      <td>5</td>\n",
       "      <td>Das Wissensmagazin moderiert von Harald Lesch,...</td>\n",
       "    </tr>\n",
       "  </tbody>\n",
       "</table>\n",
       "</div>"
      ],
      "text/plain": [
       "   id                                            content\n",
       "0   1  Weltgeschehen zwischen Krieg, Innovation, Wide...\n",
       "1   2  Im Auslandsjournal gibt es Berichte, Geschicht...\n",
       "2   3  \"Kunst ist nicht ein Spiegel, den man der Wirk...\n",
       "3   4  \"Die politischen KrÃ¤fteverhÃ¤ltnisse in der g...\n",
       "4   5  Das Wissensmagazin moderiert von Harald Lesch,..."
      ]
     },
     "execution_count": 3,
     "metadata": {},
     "output_type": "execute_result"
    }
   ],
   "source": [
    "import pandas as pd\n",
    "\n",
    "from serlo.mysql import db\n",
    "\n",
    "\n",
    "\n",
    "\n",
    "\n",
    "\n",
    "\n",
    "\n",
    "\n",
    "\n",
    "\n",
    "\n",
    "\n",
    "\n",
    "\n",
    "\n",
    "\n",
    "\n",
    "\n",
    "\n",
    "df = pd.read_sql(\"\"\"\n",
    "SELECT id, content\n",
    "FROM ad\n",
    "LIMIT 10;\n",
    "\"\"\", db)\n",
    "df.head()"
   ]
  },
  {
   "cell_type": "code",
   "execution_count": 3,
   "id": "9b4212df",
   "metadata": {},
   "outputs": [
    {
     "name": "stderr",
     "output_type": "stream",
     "text": [
      "/home/moe/.asdf/installs/python/3.10.1/lib/python3.10/site-packages/pandas/io/sql.py:761: UserWarning: pandas only support SQLAlchemy connectable(engine/connection) ordatabase string URI or sqlite3 DBAPI2 connectionother DBAPI2 objects are not tested, please consider using SQLAlchemy\n",
      "  warnings.warn(\n"
     ]
    },
    {
     "data": {
      "text/html": [
       "<div>\n",
       "<style scoped>\n",
       "    .dataframe tbody tr th:only-of-type {\n",
       "        vertical-align: middle;\n",
       "    }\n",
       "\n",
       "    .dataframe tbody tr th {\n",
       "        vertical-align: top;\n",
       "    }\n",
       "\n",
       "    .dataframe thead th {\n",
       "        text-align: right;\n",
       "    }\n",
       "</style>\n",
       "<table border=\"1\" class=\"dataframe\">\n",
       "  <thead>\n",
       "    <tr style=\"text-align: right;\">\n",
       "      <th></th>\n",
       "      <th>id</th>\n",
       "      <th>trashed</th>\n",
       "      <th>discriminator</th>\n",
       "    </tr>\n",
       "  </thead>\n",
       "  <tbody>\n",
       "    <tr>\n",
       "      <th>0</th>\n",
       "      <td>181580</td>\n",
       "      <td>0</td>\n",
       "      <td>entity</td>\n",
       "    </tr>\n",
       "  </tbody>\n",
       "</table>\n",
       "</div>"
      ],
      "text/plain": [
       "       id  trashed discriminator\n",
       "0  181580        0        entity"
      ]
     },
     "execution_count": 3,
     "metadata": {},
     "output_type": "execute_result"
    }
   ],
   "source": [
    "test = pd.read_sql(\"\"\"\n",
    "SELECT *\n",
    "FROM uuid\n",
    "WHERE id = 181580;\n",
    "\"\"\", db)\n",
    "test.head()"
   ]
  },
  {
   "cell_type": "code",
   "execution_count": 4,
   "id": "7a37676f",
   "metadata": {},
   "outputs": [
    {
     "name": "stderr",
     "output_type": "stream",
     "text": [
      "/home/moe/.asdf/installs/python/3.10.1/lib/python3.10/site-packages/pandas/io/sql.py:761: UserWarning: pandas only support SQLAlchemy connectable(engine/connection) ordatabase string URI or sqlite3 DBAPI2 connectionother DBAPI2 objects are not tested, please consider using SQLAlchemy\n",
      "  warnings.warn(\n"
     ]
    },
    {
     "data": {
      "text/html": [
       "<div>\n",
       "<style scoped>\n",
       "    .dataframe tbody tr th:only-of-type {\n",
       "        vertical-align: middle;\n",
       "    }\n",
       "\n",
       "    .dataframe tbody tr th {\n",
       "        vertical-align: top;\n",
       "    }\n",
       "\n",
       "    .dataframe thead th {\n",
       "        text-align: right;\n",
       "    }\n",
       "</style>\n",
       "<table border=\"1\" class=\"dataframe\">\n",
       "  <thead>\n",
       "    <tr style=\"text-align: right;\">\n",
       "      <th></th>\n",
       "      <th>id</th>\n",
       "      <th>type_id</th>\n",
       "      <th>instance_id</th>\n",
       "      <th>license_id</th>\n",
       "      <th>date</th>\n",
       "      <th>current_revision_id</th>\n",
       "    </tr>\n",
       "  </thead>\n",
       "  <tbody>\n",
       "    <tr>\n",
       "      <th>0</th>\n",
       "      <td>181580</td>\n",
       "      <td>1</td>\n",
       "      <td>1</td>\n",
       "      <td>1</td>\n",
       "      <td>2020-10-22 08:42:06</td>\n",
       "      <td>181778</td>\n",
       "    </tr>\n",
       "  </tbody>\n",
       "</table>\n",
       "</div>"
      ],
      "text/plain": [
       "       id  type_id  instance_id  license_id                date  \\\n",
       "0  181580        1            1           1 2020-10-22 08:42:06   \n",
       "\n",
       "   current_revision_id  \n",
       "0               181778  "
      ]
     },
     "execution_count": 4,
     "metadata": {},
     "output_type": "execute_result"
    }
   ],
   "source": [
    "entity = pd.read_sql(\"\"\"\n",
    "SELECT *\n",
    "FROM entity\n",
    "WHERE id = 181580;\n",
    "\"\"\", db)\n",
    "entity.head()"
   ]
  },
  {
   "cell_type": "code",
   "execution_count": 5,
   "id": "1492d9bc",
   "metadata": {},
   "outputs": [
    {
     "name": "stderr",
     "output_type": "stream",
     "text": [
      "/home/moe/.asdf/installs/python/3.10.1/lib/python3.10/site-packages/pandas/io/sql.py:761: UserWarning: pandas only support SQLAlchemy connectable(engine/connection) ordatabase string URI or sqlite3 DBAPI2 connectionother DBAPI2 objects are not tested, please consider using SQLAlchemy\n",
      "  warnings.warn(\n"
     ]
    },
    {
     "data": {
      "text/html": [
       "<div>\n",
       "<style scoped>\n",
       "    .dataframe tbody tr th:only-of-type {\n",
       "        vertical-align: middle;\n",
       "    }\n",
       "\n",
       "    .dataframe tbody tr th {\n",
       "        vertical-align: top;\n",
       "    }\n",
       "\n",
       "    .dataframe thead th {\n",
       "        text-align: right;\n",
       "    }\n",
       "</style>\n",
       "<table border=\"1\" class=\"dataframe\">\n",
       "  <thead>\n",
       "    <tr style=\"text-align: right;\">\n",
       "      <th></th>\n",
       "      <th>id</th>\n",
       "      <th>author_id</th>\n",
       "      <th>repository_id</th>\n",
       "      <th>date</th>\n",
       "    </tr>\n",
       "  </thead>\n",
       "  <tbody>\n",
       "    <tr>\n",
       "      <th>0</th>\n",
       "      <td>181778</td>\n",
       "      <td>87602</td>\n",
       "      <td>181580</td>\n",
       "      <td>2020-10-23 13:07:52</td>\n",
       "    </tr>\n",
       "  </tbody>\n",
       "</table>\n",
       "</div>"
      ],
      "text/plain": [
       "       id  author_id  repository_id                date\n",
       "0  181778      87602         181580 2020-10-23 13:07:52"
      ]
     },
     "execution_count": 5,
     "metadata": {},
     "output_type": "execute_result"
    }
   ],
   "source": [
    "revision = pd.read_sql(\"\"\"\n",
    "SELECT *\n",
    "FROM entity_revision\n",
    "WHERE id = 181778;\n",
    "\"\"\", db)\n",
    "revision.head()"
   ]
  },
  {
   "cell_type": "code",
   "execution_count": 47,
   "id": "863694e7",
   "metadata": {},
   "outputs": [
    {
     "name": "stderr",
     "output_type": "stream",
     "text": [
      "/home/moe/.asdf/installs/python/3.10.1/lib/python3.10/site-packages/pandas/io/sql.py:761: UserWarning: pandas only support SQLAlchemy connectable(engine/connection) ordatabase string URI or sqlite3 DBAPI2 connectionother DBAPI2 objects are not tested, please consider using SQLAlchemy\n",
      "  warnings.warn(\n"
     ]
    },
    {
     "data": {
      "text/plain": [
       "'{\"plugin\":\"exercise\",\"state\":{\"content\":{\"plugin\":\"rows\",\"state\":[{\"plugin\":\"text\",\"state\":[{\"type\":\"p\",\"children\":[{\"text\":\"2.0\",\"strong\":true},{\"text\":\" Der  Punkt \"},{\"type\":\"math\",\"src\":\"\\\\\\\\textrm{C}(2|-1)\",\"inline\":true,\"children\":[{\"text\":\"\\uf028\\uf029C2 1\\uf02d\"}]},{\"text\":\" ist gemeinsamer Eckpunkt von Rauten \"},{\"type\":\"math\",\"src\":\"A_nB_nCD_n\",\"inline\":true,\"children\":[{\"text\":\"nn  nABCD\"}]},{\"text\":\" mit den Diagonalenschnittpunkten \"},{\"type\":\"math\",\"src\":\"M_n\",\"inline\":true,\"children\":[{\"text\":\"nM\"}]},{\"text\":\". Die Punkte \"},{\"type\":\"math\",\"src\":\"\\\\\\\\textrm{A}_n(\\\\\\\\textrm{x}|0,25\\\\\\\\textrm{x}+2)\",\"inline\":true,\"children\":[{\"text\":\"\\uf028\\uf029nA x 0,25x 2\\uf02b\"}]},{\"text\":\" liegen auf der Geraden \"},{\"type\":\"math\",\"src\":\"g\",\"inline\":true,\"children\":[{\"text\":\"g\"}]},{\"text\":\" mit  der  Gleichung \"},{\"type\":\"math\",\"src\":\"\\\\\\\\textrm{y}=0,25\\\\\\\\textrm{x}+2\",\"inline\":true,\"children\":[{\"text\":\"\\uf028\\uf029y  0,25x 2 G\"}]},{\"text\":\"  \"},{\"type\":\"math\",\"src\":\"(\\\\\\\\mathbb{G}=\\\\\\\\mathbb{R}\\\\\\\\times\\\\\\\\mathbb{R})\",\"inline\":true,\"children\":[{\"text\":\"IR IR\\uf03d\\uf02b\\uf03d\\uf0b4I\"}]},{\"text\":\".  Die  Diagonalen \"},{\"type\":\"math\",\"src\":\"[A_nC]\",\"inline\":true,\"children\":[{\"text\":\"\\uf05b\\uf05dnAC\"}]},{\"text\":\" der Rauten sind doppelt so lang wie die Diagonalen \"},{\"type\":\"math\",\"src\":\"[B_nD_n]\",\"inline\":true,\"children\":[{\"text\":\"\\uf05b\\uf05dnnBD\"}]},{\"text\":\". Runden Sie im Folgenden auf zwei Stellen nach dem Komma.\"}]}]},{\"plugin\":\"text\",\"state\":[{\"type\":\"p\",\"children\":[{\"text\":\"2.1\",\"strong\":true},{\"text\":\" Zeichnen Sie die Gerade \"},{\"type\":\"math\",\"src\":\"g\",\"inline\":true,\"children\":[{\"text\":\"g\"}]},{\"text\":\" und die Rauten \"},{\"type\":\"math\",\"src\":\"A_1B_1CD_1\",\"inline\":true,\"children\":[{\"text\":\"11  1ABCD für x8\\uf03d\\uf02d und 22  2ABCD für x4\\uf03d\"}]},{\"text\":\" für \"},{\"type\":\"math\",\"src\":\"\\\\\\\\textrm{x}=-8\",\"inline\":true,\"children\":[{\"text\":\"x=-8\"}]},{\"text\":\" und  \"},{\"type\":\"math\",\"src\":\"A_2B_2CD_2\",\"inline\":true,\"children\":[{\"text\":\"ABCD\"}]},{\"text\":\" für \"},{\"type\":\"math\",\"src\":\"\\\\\\\\textrm{x}=4 \",\"inline\":true,\"children\":[{\"text\":\"x=4\"}]},{\"text\":\" in ein Koordinatensystem. Für die Zeichnung: \"}]},{\"type\":\"p\",\"children\":[{\"text\":\"Längeneinheit \"},{\"type\":\"math\",\"src\":\"1 \\\\\\\\textrm{cm}; -9\\\\\\\\leqq x \\\\\\\\leqq5;-3\\\\\\\\leqq y\\\\\\\\leqq4\",\"inline\":true,\"children\":[{\"text\":\"1 cm; <<9x5\\uf02d; <<3y\"}]},{\"text\":\"\"}]}]},{\"plugin\":\"text\",\"state\":[{\"type\":\"p\",\"children\":[{\"text\":\"2.2\",\"strong\":true},{\"text\":\" Begründen Sie, weshalb die Winkel \"},{\"type\":\"math\",\"src\":\"B_nA_nC\",\"inline\":true,\"children\":[{\"text\":\"nnBAC\"}]},{\"text\":\" stets das gleiche Maß besitzen.\"}]}]},{\"plugin\":\"text\",\"state\":[{\"type\":\"p\",\"children\":[{\"text\":\"2.3\",\"strong\":true},{\"text\":\" Für die Rauten \"},{\"type\":\"math\",\"src\":\"A_3B_3CD_3\",\"inline\":true,\"children\":[{\"text\":\"33  3ABCD\"}]},{\"text\":\" und   \"},{\"type\":\"math\",\"src\":\" A_4B_4CD_4\",\"inline\":true,\"children\":[{\"text\":\"4ABCD\"}]},{\"text\":\" gilt: \"},{\"type\":\"math\",\"src\":\"\\\\\\\\overline{A_3C}=\\\\\\\\overline{A_4C}=7\\\\\\\\,LE\",\"inline\":true,\"children\":[{\"text\":\"34AC AC 7LE\\uf03d\\uf03d\"}]},{\"text\":\". Berechnen Sie die zugehörigen Belegungen von \"},{\"type\":\"math\",\"src\":\"\\\\\\\\textrm{x}\",\"inline\":true,\"children\":[{\"text\":\"x\"}]},{\"text\":\".\"}]}]},{\"plugin\":\"text\",\"state\":[{\"type\":\"p\",\"children\":[{\"text\":\"2.4\",\"strong\":true},{\"text\":\" Zeigen Sie, dass für die Koordinaten der Punkte \"},{\"type\":\"math\",\"src\":\"M_n\",\"inline\":true,\"children\":[{\"text\":\"nM\"}]},{\"text\":\" und \"},{\"type\":\"math\",\"src\":\"D_n\",\"inline\":true,\"children\":[{\"text\":\"nD\"}]},{\"text\":\" in Abhängigkeit von der Abszisse \"},{\"type\":\"math\",\"src\":\"\\\\\\\\textrm{x}\",\"inline\":true,\"children\":[{\"text\":\"x\"}]},{\"text\":\" der Punkte \"},{\"type\":\"math\",\"src\":\"A_n\",\"inline\":true,\"children\":[{\"text\":\"nA\"}]},{\"text\":\" gilt:  \"},{\"type\":\"math\",\"src\":\"M_n(0,5\\\\\\\\textrm{x}+1|0,13\\\\\\\\textrm{x}+0,5)\",\"inline\":true,\"children\":[{\"text\":\"\\uf028\\uf029nM0,5x10,13x0,5\\uf02b\\uf02b\"}]},{\"text\":\" und \"},{\"type\":\"math\",\"src\":\"D_n(0,57\\\\\\\\textrm{x}+1,75|-0,12\\\\\\\\textrm{x}+1)\",\"inline\":true,\"children\":[{\"text\":\"\\uf028\\uf029nD 0,57x 1,75  0,12x 1\\uf02b\\uf02d\"}]},{\"text\":\".\"}]}]},{\"plugin\":\"text\",\"state\":[{\"type\":\"p\",\"children\":[{\"text\":\"2.5\",\"strong\":true},{\"text\":\" Bestimmen Sie rechnerisch die Gleichung des Trägergraphen \"},{\"type\":\"math\",\"src\":\"t \",\"inline\":true,\"children\":[{\"text\":\"t\"}]},{\"text\":\" der Punkte \"},{\"type\":\"math\",\"src\":\"D_n\",\"inline\":true,\"children\":[{\"text\":\"nD\"}]},{\"text\":\".\"}]}]},{\"plugin\":\"text\",\"state\":[{\"type\":\"p\",\"children\":[{\"text\":\"2.6\",\"strong\":true},{\"text\":\" Bei der Raute \"},{\"type\":\"math\",\"src\":\"A_5B_5CD_5\",\"inline\":true,\"children\":[{\"text\":\"55  5ABCD\"}]},{\"text\":\" liegt der Punkt \"},{\"type\":\"math\",\"src\":\"D_5\",\"inline\":true,\"children\":[{\"text\":\"5D\"}]},{\"text\":\" ebenfalls auf der Geraden \"},{\"type\":\"math\",\"src\":\"g\",\"inline\":true,\"children\":[{\"text\":\"g\"}]},{\"text\":\". Berechnen Sie die Koordinaten des Punktes \"},{\"type\":\"math\",\"src\":\"A_5\",\"inline\":true,\"children\":[{\"text\":\"5A\"}]},{\"text\":\". \"}]}]}]}}}'"
      ]
     },
     "execution_count": 47,
     "metadata": {},
     "output_type": "execute_result"
    }
   ],
   "source": [
    "field = pd.read_sql(\"\"\"\n",
    "SELECT value\n",
    "FROM entity_revision_field\n",
    "WHERE entity_revision_id = 181778;\n",
    "\"\"\", db)\n",
    "a = field[\"value\"][0]\n",
    "bytes(a, \"latin1\").decode(\"utf8\")"
   ]
  },
  {
   "cell_type": "code",
   "execution_count": 29,
   "id": "f4305130",
   "metadata": {},
   "outputs": [
    {
     "name": "stderr",
     "output_type": "stream",
     "text": [
      "/home/moe/.asdf/installs/python/3.10.1/lib/python3.10/site-packages/pandas/io/sql.py:761: UserWarning: pandas only support SQLAlchemy connectable(engine/connection) ordatabase string URI or sqlite3 DBAPI2 connectionother DBAPI2 objects are not tested, please consider using SQLAlchemy\n",
      "  warnings.warn(\n"
     ]
    },
    {
     "data": {
      "text/html": [
       "<div>\n",
       "<style scoped>\n",
       "    .dataframe tbody tr th:only-of-type {\n",
       "        vertical-align: middle;\n",
       "    }\n",
       "\n",
       "    .dataframe tbody tr th {\n",
       "        vertical-align: top;\n",
       "    }\n",
       "\n",
       "    .dataframe thead th {\n",
       "        text-align: right;\n",
       "    }\n",
       "</style>\n",
       "<table border=\"1\" class=\"dataframe\">\n",
       "  <thead>\n",
       "    <tr style=\"text-align: right;\">\n",
       "      <th></th>\n",
       "      <th>id</th>\n",
       "      <th>parent_id</th>\n",
       "      <th>child_id</th>\n",
       "      <th>type_id</th>\n",
       "      <th>order</th>\n",
       "    </tr>\n",
       "  </thead>\n",
       "  <tbody>\n",
       "    <tr>\n",
       "      <th>0</th>\n",
       "      <td>26501</td>\n",
       "      <td>181580</td>\n",
       "      <td>223711</td>\n",
       "      <td>9</td>\n",
       "      <td>0</td>\n",
       "    </tr>\n",
       "  </tbody>\n",
       "</table>\n",
       "</div>"
      ],
      "text/plain": [
       "      id  parent_id  child_id  type_id  order\n",
       "0  26501     181580    223711        9      0"
      ]
     },
     "execution_count": 29,
     "metadata": {},
     "output_type": "execute_result"
    }
   ],
   "source": [
    "link = pd.read_sql(\"\"\"\n",
    "SELECT *\n",
    "FROM entity_link\n",
    "WHERE parent_id = 181580;\n",
    "\"\"\", db)\n",
    "link.head()"
   ]
  },
  {
   "cell_type": "code",
   "execution_count": 30,
   "id": "6d2be69f",
   "metadata": {},
   "outputs": [
    {
     "name": "stderr",
     "output_type": "stream",
     "text": [
      "/home/moe/.asdf/installs/python/3.10.1/lib/python3.10/site-packages/pandas/io/sql.py:761: UserWarning: pandas only support SQLAlchemy connectable(engine/connection) ordatabase string URI or sqlite3 DBAPI2 connectionother DBAPI2 objects are not tested, please consider using SQLAlchemy\n",
      "  warnings.warn(\n"
     ]
    },
    {
     "data": {
      "text/html": [
       "<div>\n",
       "<style scoped>\n",
       "    .dataframe tbody tr th:only-of-type {\n",
       "        vertical-align: middle;\n",
       "    }\n",
       "\n",
       "    .dataframe tbody tr th {\n",
       "        vertical-align: top;\n",
       "    }\n",
       "\n",
       "    .dataframe thead th {\n",
       "        text-align: right;\n",
       "    }\n",
       "</style>\n",
       "<table border=\"1\" class=\"dataframe\">\n",
       "  <thead>\n",
       "    <tr style=\"text-align: right;\">\n",
       "      <th></th>\n",
       "      <th>id</th>\n",
       "      <th>type_id</th>\n",
       "      <th>instance_id</th>\n",
       "      <th>license_id</th>\n",
       "      <th>date</th>\n",
       "      <th>current_revision_id</th>\n",
       "    </tr>\n",
       "  </thead>\n",
       "  <tbody>\n",
       "    <tr>\n",
       "      <th>0</th>\n",
       "      <td>223711</td>\n",
       "      <td>2</td>\n",
       "      <td>1</td>\n",
       "      <td>1</td>\n",
       "      <td>2021-08-30 09:58:11</td>\n",
       "      <td>224461</td>\n",
       "    </tr>\n",
       "  </tbody>\n",
       "</table>\n",
       "</div>"
      ],
      "text/plain": [
       "       id  type_id  instance_id  license_id                date  \\\n",
       "0  223711        2            1           1 2021-08-30 09:58:11   \n",
       "\n",
       "   current_revision_id  \n",
       "0               224461  "
      ]
     },
     "execution_count": 30,
     "metadata": {},
     "output_type": "execute_result"
    }
   ],
   "source": [
    "solution = pd.read_sql(\"\"\"\n",
    "SELECT *\n",
    "FROM entity\n",
    "WHERE id = 223711;\n",
    "\"\"\", db)\n",
    "solution.head()"
   ]
  },
  {
   "cell_type": "code",
   "execution_count": 30,
   "id": "aa1c452e",
   "metadata": {},
   "outputs": [
    {
     "name": "stderr",
     "output_type": "stream",
     "text": [
      "/home/moe/.asdf/installs/python/3.10.1/lib/python3.10/site-packages/pandas/io/sql.py:761: UserWarning: pandas only support SQLAlchemy connectable(engine/connection) ordatabase string URI or sqlite3 DBAPI2 connectionother DBAPI2 objects are not tested, please consider using SQLAlchemy\n",
      "  warnings.warn(\n"
     ]
    },
    {
     "data": {
      "text/html": [
       "<div>\n",
       "<style scoped>\n",
       "    .dataframe tbody tr th:only-of-type {\n",
       "        vertical-align: middle;\n",
       "    }\n",
       "\n",
       "    .dataframe tbody tr th {\n",
       "        vertical-align: top;\n",
       "    }\n",
       "\n",
       "    .dataframe thead th {\n",
       "        text-align: right;\n",
       "    }\n",
       "</style>\n",
       "<table border=\"1\" class=\"dataframe\">\n",
       "  <thead>\n",
       "    <tr style=\"text-align: right;\">\n",
       "      <th></th>\n",
       "      <th>id</th>\n",
       "      <th>type_id</th>\n",
       "      <th>instance_id</th>\n",
       "      <th>license_id</th>\n",
       "      <th>date</th>\n",
       "      <th>current_revision_id</th>\n",
       "    </tr>\n",
       "  </thead>\n",
       "  <tbody>\n",
       "    <tr>\n",
       "      <th>0</th>\n",
       "      <td>1567</td>\n",
       "      <td>3</td>\n",
       "      <td>1</td>\n",
       "      <td>1</td>\n",
       "      <td>2014-03-01 20:38:25</td>\n",
       "      <td>1568</td>\n",
       "    </tr>\n",
       "  </tbody>\n",
       "</table>\n",
       "</div>"
      ],
      "text/plain": [
       "     id  type_id  instance_id  license_id                date  \\\n",
       "0  1567        3            1           1 2014-03-01 20:38:25   \n",
       "\n",
       "   current_revision_id  \n",
       "0                 1568  "
      ]
     },
     "execution_count": 30,
     "metadata": {},
     "output_type": "execute_result"
    }
   ],
   "source": [
    "solution = pd.read_sql(\"\"\"\n",
    "SELECT *\n",
    "FROM entity\n",
    "WHERE id = 1567;\n",
    "\"\"\", db)\n",
    "solution.head()"
   ]
  },
  {
   "cell_type": "code",
   "execution_count": 31,
   "id": "9a1591e7",
   "metadata": {},
   "outputs": [
    {
     "name": "stderr",
     "output_type": "stream",
     "text": [
      "/home/moe/.asdf/installs/python/3.10.1/lib/python3.10/site-packages/pandas/io/sql.py:761: UserWarning: pandas only support SQLAlchemy connectable(engine/connection) ordatabase string URI or sqlite3 DBAPI2 connectionother DBAPI2 objects are not tested, please consider using SQLAlchemy\n",
      "  warnings.warn(\n"
     ]
    },
    {
     "data": {
      "text/html": [
       "<div>\n",
       "<style scoped>\n",
       "    .dataframe tbody tr th:only-of-type {\n",
       "        vertical-align: middle;\n",
       "    }\n",
       "\n",
       "    .dataframe tbody tr th {\n",
       "        vertical-align: top;\n",
       "    }\n",
       "\n",
       "    .dataframe thead th {\n",
       "        text-align: right;\n",
       "    }\n",
       "</style>\n",
       "<table border=\"1\" class=\"dataframe\">\n",
       "  <thead>\n",
       "    <tr style=\"text-align: right;\">\n",
       "      <th></th>\n",
       "      <th>id</th>\n",
       "      <th>field</th>\n",
       "      <th>entity_revision_id</th>\n",
       "      <th>value</th>\n",
       "    </tr>\n",
       "  </thead>\n",
       "  <tbody>\n",
       "    <tr>\n",
       "      <th>0</th>\n",
       "      <td>73</td>\n",
       "      <td>title</td>\n",
       "      <td>1568</td>\n",
       "      <td>Geschwindigkeit</td>\n",
       "    </tr>\n",
       "    <tr>\n",
       "      <th>1</th>\n",
       "      <td>74</td>\n",
       "      <td>content</td>\n",
       "      <td>1568</td>\n",
       "      <td>[[{\"col\":24,\"content\":\"Die Geschwindigkeit ist...</td>\n",
       "    </tr>\n",
       "  </tbody>\n",
       "</table>\n",
       "</div>"
      ],
      "text/plain": [
       "   id    field  entity_revision_id  \\\n",
       "0  73    title                1568   \n",
       "1  74  content                1568   \n",
       "\n",
       "                                               value  \n",
       "0                                    Geschwindigkeit  \n",
       "1  [[{\"col\":24,\"content\":\"Die Geschwindigkeit ist...  "
      ]
     },
     "execution_count": 31,
     "metadata": {},
     "output_type": "execute_result"
    }
   ],
   "source": [
    "text = pd.read_sql(\"\"\"\n",
    "SELECT *\n",
    "FROM entity_revision_field\n",
    "WHERE entity_revision_id = 1568;\n",
    "\"\"\", db)\n",
    "text"
   ]
  },
  {
   "cell_type": "code",
   "execution_count": 35,
   "id": "bad673ab",
   "metadata": {},
   "outputs": [
    {
     "name": "stderr",
     "output_type": "stream",
     "text": [
      "/home/moe/.asdf/installs/python/3.10.1/lib/python3.10/site-packages/pandas/io/sql.py:761: UserWarning: pandas only support SQLAlchemy connectable(engine/connection) ordatabase string URI or sqlite3 DBAPI2 connectionother DBAPI2 objects are not tested, please consider using SQLAlchemy\n",
      "  warnings.warn(\n"
     ]
    },
    {
     "data": {
      "text/html": [
       "<div>\n",
       "<style scoped>\n",
       "    .dataframe tbody tr th:only-of-type {\n",
       "        vertical-align: middle;\n",
       "    }\n",
       "\n",
       "    .dataframe tbody tr th {\n",
       "        vertical-align: top;\n",
       "    }\n",
       "\n",
       "    .dataframe thead th {\n",
       "        text-align: right;\n",
       "    }\n",
       "</style>\n",
       "<table border=\"1\" class=\"dataframe\">\n",
       "  <thead>\n",
       "    <tr style=\"text-align: right;\">\n",
       "      <th></th>\n",
       "      <th>id</th>\n",
       "      <th>field</th>\n",
       "      <th>entity_revision_id</th>\n",
       "      <th>value</th>\n",
       "    </tr>\n",
       "  </thead>\n",
       "  <tbody>\n",
       "    <tr>\n",
       "      <th>0</th>\n",
       "      <td>349025</td>\n",
       "      <td>content</td>\n",
       "      <td>224461</td>\n",
       "      <td>{\"plugin\":\"solution\",\"state\":{\"prerequisite\":{...</td>\n",
       "    </tr>\n",
       "    <tr>\n",
       "      <th>1</th>\n",
       "      <td>349026</td>\n",
       "      <td>changes</td>\n",
       "      <td>224461</td>\n",
       "      <td>Teilaufgabe 2.5 und 2.6</td>\n",
       "    </tr>\n",
       "  </tbody>\n",
       "</table>\n",
       "</div>"
      ],
      "text/plain": [
       "       id    field  entity_revision_id  \\\n",
       "0  349025  content              224461   \n",
       "1  349026  changes              224461   \n",
       "\n",
       "                                               value  \n",
       "0  {\"plugin\":\"solution\",\"state\":{\"prerequisite\":{...  \n",
       "1                            Teilaufgabe 2.5 und 2.6  "
      ]
     },
     "execution_count": 35,
     "metadata": {},
     "output_type": "execute_result"
    }
   ],
   "source": [
    "text = pd.read_sql(\"\"\"\n",
    "SELECT *\n",
    "FROM entity_revision_field\n",
    "WHERE entity_revision_id = 224461;\n",
    "\"\"\", db)\n",
    "text"
   ]
  },
  {
   "cell_type": "code",
   "execution_count": 33,
   "id": "eb5d894d",
   "metadata": {},
   "outputs": [
    {
     "data": {
      "text/plain": [
       "'[[{\"col\":24,\"content\":\"Die Geschwindigkeit ist ein Ma\\\\u00df daf\\\\u00fcr, wie schnell sich ein K\\\\u00f6rper bewegt.\\\\n\\\\n\\\\u00a0\\\\n\\\\n\\\\n# Bekannte Ma\\\\u00dfeinheiten\\\\n\\\\n\"}],[{\"col\":8,\"content\":\"%%\\\\\\\\frac ms%%\"},{\"col\":8,\"content\":\"\\\\n\\\\n [Meter](/1681)  pro Sekunde\"},{\"col\":8,\"content\":\"\\\\n\\\\n%%1\\\\\\\\frac ms=1\\\\\\\\cdot3,6\\\\\\\\frac{\\\\\\\\mathrm{km}}h=3,6\\\\\\\\;\\\\\\\\frac{\\\\\\\\mathrm{km}}h%%\"}],[{\"col\":8,\"content\":\"\\\\n\\\\n%%\\\\\\\\frac{\\\\\\\\mathrm{km}}h%%\"},{\"col\":8,\"content\":\"\\\\n\\\\n [Kilometer](/1681)  pro Stunde\"},{\"col\":8,\"content\":\"\\\\n\\\\n\\\\u00a0\"}],[{\"col\":8,\"content\":\"\\\\n\\\\nmph\"},{\"col\":8,\"content\":\"\\\\n\\\\n [Meilen](/1681)  pro Stunde\"},{\"col\":8,\"content\":\"\\\\n\\\\n%%1\\\\\\\\frac{\\\\\\\\mathrm{km}}h=0,62\\\\\\\\;\\\\\\\\mathrm{mph}%%\"}],[{\"col\":8,\"content\":\"\\\\n\\\\nkn \\\\/ %%\\\\\\\\frac{\\\\\\\\mathrm{sm}}h%%\"},{\"col\":8,\"content\":\"\\\\n\\\\nKnoten \\\\/  [Seemeilen](/1681)  pro Stunde\"},{\"col\":8,\"content\":\"\\\\n\\\\n%%1\\\\\\\\mathrm{kn}=1\\\\\\\\frac{\\\\\\\\mathrm{sm}}h=1,852\\\\\\\\frac{\\\\\\\\mathrm{km}}h%%\"}],[{\"col\":24,\"content\":\"\"}]]'"
      ]
     },
     "execution_count": 33,
     "metadata": {},
     "output_type": "execute_result"
    }
   ],
   "source": [
    "value = text[\"value\"][1]\n",
    "bytes(value, \"latin1\").decode(\"utf8\")"
   ]
  },
  {
   "cell_type": "code",
   "execution_count": 18,
   "id": "cbe0dce5",
   "metadata": {},
   "outputs": [
    {
     "name": "stderr",
     "output_type": "stream",
     "text": [
      "/home/moe/.asdf/installs/python/3.10.1/lib/python3.10/site-packages/pandas/io/sql.py:761: UserWarning: pandas only support SQLAlchemy connectable(engine/connection) ordatabase string URI or sqlite3 DBAPI2 connectionother DBAPI2 objects are not tested, please consider using SQLAlchemy\n",
      "  warnings.warn(\n"
     ]
    },
    {
     "data": {
      "text/html": [
       "<div>\n",
       "<style scoped>\n",
       "    .dataframe tbody tr th:only-of-type {\n",
       "        vertical-align: middle;\n",
       "    }\n",
       "\n",
       "    .dataframe tbody tr th {\n",
       "        vertical-align: top;\n",
       "    }\n",
       "\n",
       "    .dataframe thead th {\n",
       "        text-align: right;\n",
       "    }\n",
       "</style>\n",
       "<table border=\"1\" class=\"dataframe\">\n",
       "  <thead>\n",
       "    <tr style=\"text-align: right;\">\n",
       "      <th></th>\n",
       "      <th>id</th>\n",
       "      <th>value</th>\n",
       "    </tr>\n",
       "  </thead>\n",
       "  <tbody>\n",
       "    <tr>\n",
       "      <th>0</th>\n",
       "      <td>148316</td>\n",
       "      <td>{\"plugin\":\"rows\",\"state\":[{\"plugin\":\"text\",\"st...</td>\n",
       "    </tr>\n",
       "    <tr>\n",
       "      <th>1</th>\n",
       "      <td>149487</td>\n",
       "      <td>{\"plugin\":\"exercise\",\"state\":{\"content\":{\"plug...</td>\n",
       "    </tr>\n",
       "    <tr>\n",
       "      <th>2</th>\n",
       "      <td>223711</td>\n",
       "      <td>{\"plugin\":\"solution\",\"state\":{\"prerequisite\":{...</td>\n",
       "    </tr>\n",
       "    <tr>\n",
       "      <th>3</th>\n",
       "      <td>240351</td>\n",
       "      <td>{\"plugin\":\"article\",\"state\":{\"introduction\":{\"...</td>\n",
       "    </tr>\n",
       "  </tbody>\n",
       "</table>\n",
       "</div>"
      ],
      "text/plain": [
       "       id                                              value\n",
       "0  148316  {\"plugin\":\"rows\",\"state\":[{\"plugin\":\"text\",\"st...\n",
       "1  149487  {\"plugin\":\"exercise\",\"state\":{\"content\":{\"plug...\n",
       "2  223711  {\"plugin\":\"solution\",\"state\":{\"prerequisite\":{...\n",
       "3  240351  {\"plugin\":\"article\",\"state\":{\"introduction\":{\"..."
      ]
     },
     "execution_count": 18,
     "metadata": {},
     "output_type": "execute_result"
    }
   ],
   "source": [
    "df = pd.read_sql(\"\"\"\n",
    "SELECT entity.id, value\n",
    "FROM entity_revision_field, entity\n",
    "where field = \"content\"\n",
    "    AND entity.current_revision_id = entity_revision_field.entity_revision_id\n",
    "    AND value LIKE '%\"plugin\":\"box\",\"state\":{\"title\":{\"plugin\":\"text\",\"state\":[{\"type\":\"p\",\"children\":[{}]}]},\"content\":{\"plugin\":\"rows\",\"state\":[{\"plugin\":\"text\",\"state\":[{\"type\":\"p\",\"children\":[{}]}]}]}%'\n",
    "LIMIT 10;\n",
    "\"\"\", db)\n",
    "df.head()"
   ]
  },
  {
   "cell_type": "code",
   "execution_count": 53,
   "id": "0e5a3008",
   "metadata": {},
   "outputs": [
    {
     "data": {
      "text/plain": [
       "'{\"plugin\":\"exercise\",\"state\":{\"content\":{\"plugin\":\"rows\",\"state\":[{\"plugin\":\"text\",\"state\":[{\"type\":\"p\",\"children\":[{\"text\":\"Eine coole Bspaufgabe\"}]}]},{\"plugin\":\"box\",\"state\":{\"title\":{\"plugin\":\"text\",\"state\":[{\"type\":\"p\",\"children\":[{}]}]},\"content\":{\"plugin\":\"rows\",\"state\":[{\"plugin\":\"text\",\"state\":[{\"type\":\"p\",\"children\":[{}]}]}]},\"type\":\"quote\",\"anchorId\":\"box66070\"}}]},\"interactive\":{\"plugin\":\"scMcExercise\",\"state\":{\"isSingleChoice\":false,\"answers\":[{\"content\":{\"plugin\":\"text\",\"state\":[{\"type\":\"p\",\"children\":[{\"text\":\"ollah\"}]}]},\"isCorrect\":true,\"feedback\":{\"plugin\":\"text\",\"state\":[{\"type\":\"p\",\"children\":[{}]}]}},{\"content\":{\"plugin\":\"text\",\"state\":[{\"type\":\"p\",\"children\":[{\"text\":\")b\"}]}]},\"isCorrect\":false,\"feedback\":{\"plugin\":\"text\",\"state\":[{\"type\":\"p\",\"children\":[{}]}]}}]}}}}'"
      ]
     },
     "execution_count": 53,
     "metadata": {},
     "output_type": "execute_result"
    }
   ],
   "source": [
    "\n",
    "a = df[\"value\"] [1]\n",
    "bytes(a, \"latin1\").decode(\"utf8\")"
   ]
  },
  {
   "cell_type": "code",
   "execution_count": 4,
   "id": "c40a5955",
   "metadata": {},
   "outputs": [
    {
     "name": "stderr",
     "output_type": "stream",
     "text": [
      "/home/moe/.asdf/installs/python/3.10.1/lib/python3.10/site-packages/pandas/io/sql.py:761: UserWarning: pandas only support SQLAlchemy connectable(engine/connection) ordatabase string URI or sqlite3 DBAPI2 connectionother DBAPI2 objects are not tested, please consider using SQLAlchemy\n",
      "  warnings.warn(\n"
     ]
    },
    {
     "data": {
      "text/html": [
       "<div>\n",
       "<style scoped>\n",
       "    .dataframe tbody tr th:only-of-type {\n",
       "        vertical-align: middle;\n",
       "    }\n",
       "\n",
       "    .dataframe tbody tr th {\n",
       "        vertical-align: top;\n",
       "    }\n",
       "\n",
       "    .dataframe thead th {\n",
       "        text-align: right;\n",
       "    }\n",
       "</style>\n",
       "<table border=\"1\" class=\"dataframe\">\n",
       "  <thead>\n",
       "    <tr style=\"text-align: right;\">\n",
       "      <th></th>\n",
       "      <th>id</th>\n",
       "      <th>value</th>\n",
       "    </tr>\n",
       "  </thead>\n",
       "  <tbody>\n",
       "    <tr>\n",
       "      <th>0</th>\n",
       "      <td>1495</td>\n",
       "      <td>{\"plugin\":\"article\",\"state\":{\"introduction\":{\"...</td>\n",
       "    </tr>\n",
       "    <tr>\n",
       "      <th>1</th>\n",
       "      <td>1497</td>\n",
       "      <td>{\"plugin\":\"article\",\"state\":{\"introduction\":{\"...</td>\n",
       "    </tr>\n",
       "    <tr>\n",
       "      <th>2</th>\n",
       "      <td>1499</td>\n",
       "      <td>{\"plugin\":\"article\",\"state\":{\"introduction\":{\"...</td>\n",
       "    </tr>\n",
       "    <tr>\n",
       "      <th>3</th>\n",
       "      <td>1501</td>\n",
       "      <td>{\"plugin\":\"article\",\"state\":{\"introduction\":{\"...</td>\n",
       "    </tr>\n",
       "    <tr>\n",
       "      <th>4</th>\n",
       "      <td>1503</td>\n",
       "      <td>{\"plugin\":\"article\",\"state\":{\"introduction\":{\"...</td>\n",
       "    </tr>\n",
       "  </tbody>\n",
       "</table>\n",
       "</div>"
      ],
      "text/plain": [
       "     id                                              value\n",
       "0  1495  {\"plugin\":\"article\",\"state\":{\"introduction\":{\"...\n",
       "1  1497  {\"plugin\":\"article\",\"state\":{\"introduction\":{\"...\n",
       "2  1499  {\"plugin\":\"article\",\"state\":{\"introduction\":{\"...\n",
       "3  1501  {\"plugin\":\"article\",\"state\":{\"introduction\":{\"...\n",
       "4  1503  {\"plugin\":\"article\",\"state\":{\"introduction\":{\"..."
      ]
     },
     "execution_count": 4,
     "metadata": {},
     "output_type": "execute_result"
    }
   ],
   "source": [
    "df = pd.read_sql(\"\"\"\n",
    "SELECT entity.id, value\n",
    "FROM entity_revision_field, entity\n",
    "where field = \"content\"\n",
    "    AND entity.current_revision_id = entity_revision_field.entity_revision_id;\n",
    "\"\"\", db)\n",
    "\n",
    "df.head()"
   ]
  },
  {
   "cell_type": "code",
   "execution_count": 11,
   "id": "7ac13bc4",
   "metadata": {},
   "outputs": [],
   "source": [
    "#def getitems(obj):\n",
    "\n",
    "def getkeys(obj, stack):\n",
    "    for k, v in obj.items():\n",
    "      k2 = ([k] if k else []) + stack # don't return empty keys\n",
    "      if v and isinstance(v, dict):\n",
    "        for c in getkeys(v, k2):\n",
    "          yield c\n",
    "      else: # leaf\n",
    "        yield k2\n",
    "\n",
    "def getvalues(obj):\n",
    "    for v in obj.values():\n",
    "      if not v: continue\n",
    "      if isinstance(v, dict):\n",
    "        for c in getvalues(v):\n",
    "          yield c\n",
    "      else: # leaf\n",
    "        yield v if isinstance(v, list) else [v]\n",
    "\n",
    "  #return list(getkeys(obj,[])), list(getvalues(obj))"
   ]
  },
  {
   "cell_type": "code",
   "execution_count": 19,
   "id": "2fc81429",
   "metadata": {},
   "outputs": [
    {
     "data": {
      "text/plain": [
       "[['plugin'], ['state']]"
      ]
     },
     "execution_count": 19,
     "metadata": {},
     "output_type": "execute_result"
    }
   ],
   "source": [
    "import json\n",
    "obj = json.loads(df[\"value\"][0])\n"
   ]
  },
  {
   "cell_type": "code",
   "execution_count": 27,
   "id": "7ab1e9d6",
   "metadata": {},
   "outputs": [
    {
     "data": {
      "text/plain": [
       "[['plugin'],\n",
       " ['plugin', 'title', 'state'],\n",
       " ['state', 'title', 'state'],\n",
       " ['plugin', 'content', 'state'],\n",
       " ['state', 'content', 'state'],\n",
       " ['type', 'state'],\n",
       " ['anchorId', 'state']]"
      ]
     },
     "execution_count": 27,
     "metadata": {},
     "output_type": "execute_result"
    }
   ],
   "source": [
    "keys = list(getkeys(obj, []))\n",
    "keys"
   ]
  },
  {
   "cell_type": "code",
   "execution_count": 28,
   "id": "68c082e3",
   "metadata": {},
   "outputs": [
    {
     "data": {
      "text/plain": [
       "'{\"plugin\":\"rows\",\"state\":[{\"plugin\":\"text\",\"state\":[{\"type\":\"p\",\"children\":[{\"text\":\"t.b.a\"}]}]},{\"plugin\":\"text\",\"state\":[{\"type\":\"p\",\"children\":[{\"text\":\"asdf\"}]}]},{\"plugin\":\"spoiler\",\"state\":{\"title\":\"\",\"content\":{\"plugin\":\"rows\",\"state\":[{\"plugin\":\"text\",\"state\":[{\"type\":\"p\",\"children\":[{}]}]}]}}},{\"plugin\":\"box\",\"state\":{\"title\":{\"plugin\":\"text\",\"state\":[{\"type\":\"p\",\"children\":[{}]}]},\"content\":{\"plugin\":\"rows\",\"state\":[{\"plugin\":\"text\",\"state\":[{\"type\":\"p\",\"children\":[{}]}]}]},\"type\":\"blank\",\"anchorId\":\"box31707\"}}]}'"
      ]
     },
     "execution_count": 28,
     "metadata": {},
     "output_type": "execute_result"
    }
   ],
   "source": [
    "\n",
    "bytes(df[\"value\"][0], \"latin1\").decode(\"utf8\")"
   ]
  },
  {
   "cell_type": "code",
   "execution_count": 29,
   "id": "1863decc",
   "metadata": {},
   "outputs": [
    {
     "data": {
      "text/plain": [
       "[(0, 0)]"
      ]
     },
     "execution_count": 29,
     "metadata": {},
     "output_type": "execute_result"
    }
   ],
   "source": [
    "values = list(getvalues(obj))\n",
    "boxes = []\n",
    "for i in range(len(keys)):\n",
    "    for j in range(len(keys[i])):\n",
    "        if keys[i][j] == \"plugin\":\n",
    "            if values[i][j] == \"box\":\n",
    "                boxes.append((i,j))\n",
    "                \n",
    "boxes"
   ]
  },
  {
   "cell_type": "code",
   "execution_count": 26,
   "id": "0f755c02",
   "metadata": {},
   "outputs": [
    {
     "data": {
      "text/plain": [
       "{'plugin': 'box',\n",
       " 'state': {'title': {'plugin': 'text',\n",
       "   'state': [{'type': 'p', 'children': [{}]}]},\n",
       "  'content': {'plugin': 'rows',\n",
       "   'state': [{'plugin': 'text', 'state': [{'type': 'p', 'children': [{}]}]}]},\n",
       "  'type': 'blank',\n",
       "  'anchorId': 'box31707'}}"
      ]
     },
     "execution_count": 26,
     "metadata": {},
     "output_type": "execute_result"
    }
   ],
   "source": [
    "obj = json.loads(df[\"value\"][0])[\"state\"][3]\n",
    "obj"
   ]
  }
 ],
 "metadata": {
  "kernelspec": {
   "display_name": "Python 3 (ipykernel)",
   "language": "python",
   "name": "python3"
  },
  "language_info": {
   "codemirror_mode": {
    "name": "ipython",
    "version": 3
   },
   "file_extension": ".py",
   "mimetype": "text/x-python",
   "name": "python",
   "nbconvert_exporter": "python",
   "pygments_lexer": "ipython3",
   "version": "3.10.1"
  }
 },
 "nbformat": 4,
 "nbformat_minor": 5
}
