{
 "cells": [
  {
   "cell_type": "code",
   "execution_count": 2,
   "id": "ea6684dc",
   "metadata": {},
   "outputs": [
    {
     "name": "stdout",
     "output_type": "stream",
     "text": [
      "Serlo-Username: ········\n",
      "Serlo-Password: ········\n"
     ]
    },
    {
     "ename": "AttributeError",
     "evalue": "'NoneType' object has no attribute 'select'",
     "output_type": "error",
     "traceback": [
      "\u001b[0;31m---------------------------------------------------------------------------\u001b[0m",
      "\u001b[0;31mAttributeError\u001b[0m                            Traceback (most recent call last)",
      "Input \u001b[0;32mIn [2]\u001b[0m, in \u001b[0;36m<cell line: 4>\u001b[0;34m()\u001b[0m\n\u001b[1;32m      1\u001b[0m \u001b[38;5;28;01mfrom\u001b[39;00m \u001b[38;5;21;01mserlo\u001b[39;00m \u001b[38;5;28;01mimport\u001b[39;00m SerloBot, Environment\n\u001b[1;32m      3\u001b[0m bot \u001b[38;5;241m=\u001b[39m SerloBot(Environment\u001b[38;5;241m.\u001b[39mSTAGING)\n\u001b[0;32m----> 4\u001b[0m \u001b[43mbot\u001b[49m\u001b[38;5;241;43m.\u001b[39;49m\u001b[43mlogin\u001b[49m\u001b[43m(\u001b[49m\u001b[43m)\u001b[49m\n\u001b[1;32m      6\u001b[0m \u001b[38;5;28;01mimport\u001b[39;00m \u001b[38;5;21;01mimport_ipynb\u001b[39;00m\n\u001b[1;32m      7\u001b[0m \u001b[38;5;28;01mfrom\u001b[39;00m \u001b[38;5;21;01mhelper_functions\u001b[39;00m \u001b[38;5;28;01mimport\u001b[39;00m get_newest_unrevised_revision, save_revision, select_all_entities\n",
      "File \u001b[0;32m~/Code/serlo-bot/serlo/bot.py:29\u001b[0m, in \u001b[0;36mSerloBot.login\u001b[0;34m(self, username, password)\u001b[0m\n\u001b[1;32m     26\u001b[0m login_html \u001b[38;5;241m=\u001b[39m BeautifulSoup(login_page\u001b[38;5;241m.\u001b[39mtext, \u001b[38;5;124m\"\u001b[39m\u001b[38;5;124mhtml.parser\u001b[39m\u001b[38;5;124m\"\u001b[39m)\n\u001b[1;32m     27\u001b[0m form \u001b[38;5;241m=\u001b[39m login_html\u001b[38;5;241m.\u001b[39mfind(\u001b[38;5;124m\"\u001b[39m\u001b[38;5;124mform\u001b[39m\u001b[38;5;124m\"\u001b[39m, \u001b[38;5;28mid\u001b[39m\u001b[38;5;241m=\u001b[39m\u001b[38;5;124m\"\u001b[39m\u001b[38;5;124mlogin\u001b[39m\u001b[38;5;124m\"\u001b[39m)\n\u001b[0;32m---> 29\u001b[0m csrf \u001b[38;5;241m=\u001b[39m \u001b[43mform\u001b[49m\u001b[38;5;241;43m.\u001b[39;49m\u001b[43mselect\u001b[49m(\u001b[38;5;124m'\u001b[39m\u001b[38;5;124minput[name=\u001b[39m\u001b[38;5;124m\"\u001b[39m\u001b[38;5;124mcsrf\u001b[39m\u001b[38;5;124m\"\u001b[39m\u001b[38;5;124m]\u001b[39m\u001b[38;5;124m'\u001b[39m)[\u001b[38;5;241m0\u001b[39m][\u001b[38;5;124m\"\u001b[39m\u001b[38;5;124mvalue\u001b[39m\u001b[38;5;124m\"\u001b[39m]\n\u001b[1;32m     30\u001b[0m challenge \u001b[38;5;241m=\u001b[39m form\u001b[38;5;241m.\u001b[39mselect(\u001b[38;5;124m'\u001b[39m\u001b[38;5;124minput[name=\u001b[39m\u001b[38;5;124m\"\u001b[39m\u001b[38;5;124mlogin_challenge\u001b[39m\u001b[38;5;124m\"\u001b[39m\u001b[38;5;124m]\u001b[39m\u001b[38;5;124m'\u001b[39m)[\u001b[38;5;241m0\u001b[39m][\u001b[38;5;124m\"\u001b[39m\u001b[38;5;124mvalue\u001b[39m\u001b[38;5;124m\"\u001b[39m]\n\u001b[1;32m     32\u001b[0m after_login \u001b[38;5;241m=\u001b[39m \u001b[38;5;28mself\u001b[39m\u001b[38;5;241m.\u001b[39msession\u001b[38;5;241m.\u001b[39mpost(login_page\u001b[38;5;241m.\u001b[39murl, data\u001b[38;5;241m=\u001b[39m{\n\u001b[1;32m     33\u001b[0m     \u001b[38;5;124m\"\u001b[39m\u001b[38;5;124mcsrf\u001b[39m\u001b[38;5;124m\"\u001b[39m: csrf,\n\u001b[1;32m     34\u001b[0m     \u001b[38;5;124m\"\u001b[39m\u001b[38;5;124mlogin_challenge\u001b[39m\u001b[38;5;124m\"\u001b[39m: challenge,\n\u001b[0;32m   (...)\u001b[0m\n\u001b[1;32m     38\u001b[0m     \u001b[38;5;124m\"\u001b[39m\u001b[38;5;124mremember\u001b[39m\u001b[38;5;124m\"\u001b[39m: [\u001b[38;5;124m\"\u001b[39m\u001b[38;5;124m0\u001b[39m\u001b[38;5;124m\"\u001b[39m, \u001b[38;5;124m\"\u001b[39m\u001b[38;5;124m1\u001b[39m\u001b[38;5;124m\"\u001b[39m]\n\u001b[1;32m     39\u001b[0m })\n",
      "\u001b[0;31mAttributeError\u001b[0m: 'NoneType' object has no attribute 'select'"
     ]
    }
   ],
   "source": [
    "from serlo import SerloBot, Environment\n",
    "\n",
    "bot = SerloBot(Environment.STAGING)\n",
    "bot.login()\n",
    "\n",
    "import import_ipynb\n",
    "from helper_functions import get_newest_unrevised_revision, save_revision, select_all_entities\n",
    "from boxes import delete_empty_boxes\n",
    "\n",
    "import json"
   ]
  },
  {
   "cell_type": "code",
   "execution_count": null,
   "id": "5d1d4c1c",
   "metadata": {},
   "outputs": [],
   "source": [
    "def get_potential_entites_to_be_updated():\n",
    "    def has_empty_boxes(revision):\n",
    "        try:\n",
    "            currentObject = json.loads(revision[\"value\"])\n",
    "        except:\n",
    "            return False\n",
    "        \n",
    "        return isinstance(currentObject, dict) and delete_empty_boxes(currentObject)[1] > 0\n",
    "    \n",
    "    return [revision[\"id\"] for revision in select_all_entities().iterrows() if has_empty_boxes(revision)]\n",
    "\n",
    "def apply_rules(state):\n",
    "    #[state, number_of_deleted_equations] = delete_empty_equations(new_revision)\n",
    "    [state, number_of_deleted_boxes] = delete_empty_boxes(state, 0)\n",
    "    rules = \"\"\n",
    "    #if number_of_deleted_equations:\n",
    "    #    rules.concat(\"Deleted {number_of_deleted_equations} empty equations.\")\n",
    "    print(\"#found_empty_boxes:\")\n",
    "    print(number_of_deleted_boxes)\n",
    "    if number_of_deleted_boxes == 1:\n",
    "        rules += \"Deleted 1 empty box.\"\n",
    "    elif number_of_deleted_boxes:\n",
    "        rules += \"Deleted %s empty boxes.\" % number_of_deleted_boxes\n",
    "        \n",
    "    return {\"new_revision\": state, \"rules\": rules}"
   ]
  },
  {
   "cell_type": "code",
   "execution_count": null,
   "id": "a830ba60",
   "metadata": {},
   "outputs": [],
   "source": [
    "entities_to_be_updated = get_potential_entites_to_be_updated()\n",
    "print(\"to be updated\")\n",
    "print(entities_to_be_updated)\n",
    "\n",
    "for entity in entities_to_be_updated:\n",
    "    newest_unrevised_revision = get_newest_unrevised_revision(entity, bot)\n",
    "    json_readable_content = newest_unrevised_revision[\"revision\"][\"content\"].replace(\"'\", \"\\\"\")\n",
    "    content = json.loads(json_readable_content)\n",
    "\n",
    "    if newest_unrevised_revision[\"revision\"][\"trashed\"]:\n",
    "        continue\n",
    "\n",
    "    new_revision = apply_rules(content.copy())\n",
    "\n",
    "    if new_revision[\"new_revision\"] != content:\n",
    "        save_revision(\n",
    "            entity,\n",
    "            new_revision[\"new_revision\"],\n",
    "            new_revision[\"rules\"],\n",
    "            newest_unrevised_revision,\n",
    "            bot\n",
    "        )"
   ]
  }
 ],
 "metadata": {
  "kernelspec": {
   "display_name": "Python 3 (ipykernel)",
   "language": "python",
   "name": "python3"
  },
  "language_info": {
   "codemirror_mode": {
    "name": "ipython",
    "version": 3
   },
   "file_extension": ".py",
   "mimetype": "text/x-python",
   "name": "python",
   "nbconvert_exporter": "python",
   "pygments_lexer": "ipython3",
   "version": "3.10.1"
  }
 },
 "nbformat": 4,
 "nbformat_minor": 5
}
