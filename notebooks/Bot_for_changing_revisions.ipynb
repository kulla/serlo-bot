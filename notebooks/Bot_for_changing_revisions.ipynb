{
 "cells": [
  {
   "cell_type": "code",
   "execution_count": null,
   "id": "ea6684dc",
   "metadata": {},
   "outputs": [],
   "source": [
    "from serlo import SerloBot, Environment\n",
    "\n",
    "bot = SerloBot(Environment.STAGING)\n",
    "bot.login()\n",
    "\n",
    "import import_ipynb\n",
    "from helper_functions import get_newest_unrevised_revision, save_revision, select_all_entities\n",
    "from boxes import delete_empty_boxes\n",
    "\n",
    "import json"
   ]
  },
  {
   "cell_type": "code",
   "execution_count": null,
   "id": "5d1d4c1c",
   "metadata": {},
   "outputs": [],
   "source": [
    "def get_potential_entites_to_be_updated():\n",
    "    def has_empty_boxes(revision):\n",
    "        try:\n",
    "            currentObject = json.loads(revision[\"value\"])\n",
    "        except:\n",
    "            return False\n",
    "        \n",
    "        return isinstance(currentObject, dict) and delete_empty_boxes(currentObject)[1] > 0\n",
    "    \n",
    "    return [revision[\"id\"] for revision in select_all_entities().iterrows() if has_empty_boxes(revision)]\n",
    "\n",
    "def apply_rules(state):\n",
    "    #[state, number_of_deleted_equations] = delete_empty_equations(new_revision)\n",
    "    [state, number_of_deleted_boxes] = delete_empty_boxes(state, 0)\n",
    "    rules = \"\"\n",
    "    #if number_of_deleted_equations:\n",
    "    #    rules.concat(\"Deleted {number_of_deleted_equations} empty equations.\")\n",
    "    print(\"#found_empty_boxes:\")\n",
    "    print(number_of_deleted_boxes)\n",
    "    if number_of_deleted_boxes == 1:\n",
    "        rules += \"Deleted 1 empty box.\"\n",
    "    elif number_of_deleted_boxes:\n",
    "        rules += \"Deleted %s empty boxes.\" % number_of_deleted_boxes\n",
    "        \n",
    "    return {\"new_revision\": state, \"rules\": rules}"
   ]
  },
  {
   "cell_type": "code",
   "execution_count": null,
   "id": "a830ba60",
   "metadata": {},
   "outputs": [],
   "source": [
    "entities_to_be_updated = get_potential_entites_to_be_updated()\n",
    "print(\"to be updated\")\n",
    "print(entities_to_be_updated)\n",
    "\n",
    "for entity in entities_to_be_updated:\n",
    "    newest_unrevised_revision = get_newest_unrevised_revision(entity, bot)\n",
    "    json_readable_content = newest_unrevised_revision[\"revision\"][\"content\"].replace(\"'\", \"\\\"\")\n",
    "    content = json.loads(json_readable_content)\n",
    "\n",
    "    if newest_unrevised_revision[\"revision\"][\"trashed\"]:\n",
    "        continue\n",
    "\n",
    "    new_revision = apply_rules(content.copy())\n",
    "\n",
    "    if new_revision[\"new_revision\"] != content:\n",
    "        save_revision(\n",
    "            entity,\n",
    "            new_revision[\"new_revision\"],\n",
    "            new_revision[\"rules\"],\n",
    "            newest_unrevised_revision,\n",
    "            bot\n",
    "        )"
   ]
  }
 ],
 "metadata": {
  "kernelspec": {
   "display_name": "Python 3 (ipykernel)",
   "language": "python",
   "name": "python3"
  },
  "language_info": {
   "codemirror_mode": {
    "name": "ipython",
    "version": 3
   },
   "file_extension": ".py",
   "mimetype": "text/x-python",
   "name": "python",
   "nbconvert_exporter": "python",
   "pygments_lexer": "ipython3",
   "version": "3.10.1"
  }
 },
 "nbformat": 4,
 "nbformat_minor": 5
}
