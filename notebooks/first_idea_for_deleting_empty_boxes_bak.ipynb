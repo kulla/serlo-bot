{
 "cells": [
  {
   "cell_type": "code",
   "execution_count": 2,
   "id": "08848233",
   "metadata": {},
   "outputs": [],
   "source": [
    "import pandas as pd\n",
    "import json\n",
    "\n",
    "from serlo.mysql import db"
   ]
  },
  {
   "cell_type": "code",
   "execution_count": 3,
   "id": "c326bf8a",
   "metadata": {},
   "outputs": [],
   "source": [
    "class entity:\n",
    "    def __init__(self, id, empty_boxes):\n",
    "        self.id = id\n",
    "        self.empty_boxes = empty_boxes\n",
    "        \n",
    "    "
   ]
  },
  {
   "cell_type": "code",
   "execution_count": 4,
   "id": "4af6e6f6",
   "metadata": {},
   "outputs": [],
   "source": [
    "#def get_items(obj):\n",
    "\n",
    "def get_keys(obj, stack):\n",
    "    #print(\"this: \")\n",
    "    #print(obj)\n",
    "    for k, v in obj.items():\n",
    "      k2 = ([k] if k else []) + stack # don't return empty keys\n",
    "      if v and isinstance(v, dict):\n",
    "        for c in get_keys(v, k2):\n",
    "          yield c\n",
    "      else: # leaf\n",
    "        yield k2\n",
    "\n",
    "def get_values(obj):\n",
    "    for v in obj.values():\n",
    "      if not v: continue\n",
    "      if isinstance(v, dict):\n",
    "        for c in get_values(v):\n",
    "          yield c\n",
    "      else: # leaf\n",
    "        yield v if isinstance(v, list) else [v]\n",
    "        \n",
    "def get_value_from_key_array(obj, keys):\n",
    "    #print(keys)\n",
    "    if len(keys) == 0:\n",
    "        return\n",
    "    if len(keys) == 1:\n",
    "        return obj[keys[0]]\n",
    "    else:\n",
    "        key = keys.pop(-1)\n",
    "        #print(key)\n",
    "        return get_value_from_key_array(obj[key], keys)\n",
    "\n",
    "  #return list(get_keys(obj,[])), list(get_values(obj))"
   ]
  },
  {
   "cell_type": "code",
   "execution_count": 5,
   "id": "d3de46b9",
   "metadata": {},
   "outputs": [
    {
     "ename": "SyntaxError",
     "evalue": "invalid syntax (420016008.py, line 49)",
     "output_type": "error",
     "traceback": [
      "\u001b[0;36m  Input \u001b[0;32mIn [5]\u001b[0;36m\u001b[0m\n\u001b[0;31m    if !is_empty_object(obj[\"state\"]):\u001b[0m\n\u001b[0m       ^\u001b[0m\n\u001b[0;31mSyntaxError\u001b[0m\u001b[0;31m:\u001b[0m invalid syntax\n"
     ]
    }
   ],
   "source": [
    "def find_empty_boxes(obj):\n",
    "    empty_boxes = []\n",
    "    #print(obj)\n",
    "    keys = list(get_keys(obj, []))\n",
    "    #print(\"keys\")\n",
    "    #print(keys)\n",
    "    for i in range(len(keys)):\n",
    "        leaf = keys[i][0]\n",
    "        if leaf == \"plugin\":\n",
    "            plugin = {}\n",
    "            if len(keys[i]) == 1:\n",
    "                plugin = obj\n",
    "            else:\n",
    "                #print(\"test\")\n",
    "                plugin = get_value_from_key_array(obj, keys[i][1:])\n",
    "            if plugin[\"plugin\"] == \"box\":\n",
    "                if is_empty_box(plugin[\"state\"]):\n",
    "                    empty_boxes.append(plugin[\"state\"][\"anchorId\"])\n",
    "                    #print(1)\n",
    "        elif leaf == \"state\":\n",
    "            #print(i)\n",
    "            #print(keys[i])\n",
    "            #print(\"value\")\n",
    "            #print(get_value_from_key_array(obj, keys[i]))\n",
    "            state = get_value_from_key_array(obj, keys[i])\n",
    "            if type(state) == list:\n",
    "                for sub_obj in state:\n",
    "                    #print(\"this: \")\n",
    "                    #print(sub_obj)\n",
    "                    #print(\"theses: \")\n",
    "                    #print(find_empty_boxes(sub_obj))\n",
    "                    empty_boxes.extend(find_empty_boxes(sub_obj))\n",
    "    return empty_boxes\n",
    "                    \n",
    "def handle_boxes(boxes):\n",
    "    if boxes:\n",
    "        for box in boxes:\n",
    "            if is_empty_box(box):\n",
    "                handle_empty_box(box)\n",
    "                    \n",
    "                    \n",
    "def is_empty_box(box):\n",
    "    return is_empty_object(box[\"content\"])\n",
    "\n",
    "def is_empty_object(obj):\n",
    "    match obj[\"plugin\"]:\n",
    "        case \"rows\":\n",
    "            for row in obj[\"state\"]:\n",
    "                if !is_empty_object(obj[\"state\"]):\n",
    "                    return False\n",
    "        case \"text\":\n",
    "            for text in obj[\"state\"]:\n",
    "                if text[\"type\"] == 'p':\n",
    "                    return is_empty_text(text[\"children\"])\n",
    "                else:\n",
    "                    print(\"unhandled text type: \")\n",
    "                    print(text[\"type\"])\n",
    "                    return False\n",
    "        case _:\n",
    "            print(\"unhandled plugin: \")\n",
    "            print(obj[\"plugin\"])\n",
    "            return False\n",
    "            \n",
    "    return True\n",
    "    \n",
    "def is_empty_text(text):\n",
    "    for child in text[\"children\"]:\n",
    "        if child[\"text\"]:\n",
    "            return True\n",
    "    return False"
   ]
  },
  {
   "cell_type": "code",
   "execution_count": 6,
   "id": "e5995273",
   "metadata": {},
   "outputs": [
    {
     "name": "stderr",
     "output_type": "stream",
     "text": [
      "/home/moe/.asdf/installs/python/3.10.1/lib/python3.10/site-packages/pandas/io/sql.py:761: UserWarning: pandas only support SQLAlchemy connectable(engine/connection) ordatabase string URI or sqlite3 DBAPI2 connectionother DBAPI2 objects are not tested, please consider using SQLAlchemy\n",
      "  warnings.warn(\n"
     ]
    },
    {
     "data": {
      "text/html": [
       "<div>\n",
       "<style scoped>\n",
       "    .dataframe tbody tr th:only-of-type {\n",
       "        vertical-align: middle;\n",
       "    }\n",
       "\n",
       "    .dataframe tbody tr th {\n",
       "        vertical-align: top;\n",
       "    }\n",
       "\n",
       "    .dataframe thead th {\n",
       "        text-align: right;\n",
       "    }\n",
       "</style>\n",
       "<table border=\"1\" class=\"dataframe\">\n",
       "  <thead>\n",
       "    <tr style=\"text-align: right;\">\n",
       "      <th></th>\n",
       "      <th>id</th>\n",
       "      <th>value</th>\n",
       "    </tr>\n",
       "  </thead>\n",
       "  <tbody>\n",
       "    <tr>\n",
       "      <th>0</th>\n",
       "      <td>1495</td>\n",
       "      <td>{\"plugin\":\"article\",\"state\":{\"introduction\":{\"...</td>\n",
       "    </tr>\n",
       "    <tr>\n",
       "      <th>1</th>\n",
       "      <td>1497</td>\n",
       "      <td>{\"plugin\":\"article\",\"state\":{\"introduction\":{\"...</td>\n",
       "    </tr>\n",
       "    <tr>\n",
       "      <th>2</th>\n",
       "      <td>1499</td>\n",
       "      <td>{\"plugin\":\"article\",\"state\":{\"introduction\":{\"...</td>\n",
       "    </tr>\n",
       "    <tr>\n",
       "      <th>3</th>\n",
       "      <td>1501</td>\n",
       "      <td>{\"plugin\":\"article\",\"state\":{\"introduction\":{\"...</td>\n",
       "    </tr>\n",
       "    <tr>\n",
       "      <th>4</th>\n",
       "      <td>1503</td>\n",
       "      <td>{\"plugin\":\"article\",\"state\":{\"introduction\":{\"...</td>\n",
       "    </tr>\n",
       "  </tbody>\n",
       "</table>\n",
       "</div>"
      ],
      "text/plain": [
       "     id                                              value\n",
       "0  1495  {\"plugin\":\"article\",\"state\":{\"introduction\":{\"...\n",
       "1  1497  {\"plugin\":\"article\",\"state\":{\"introduction\":{\"...\n",
       "2  1499  {\"plugin\":\"article\",\"state\":{\"introduction\":{\"...\n",
       "3  1501  {\"plugin\":\"article\",\"state\":{\"introduction\":{\"...\n",
       "4  1503  {\"plugin\":\"article\",\"state\":{\"introduction\":{\"..."
      ]
     },
     "execution_count": 6,
     "metadata": {},
     "output_type": "execute_result"
    }
   ],
   "source": [
    "df = pd.read_sql(\"\"\"\n",
    "SELECT entity.id, value\n",
    "FROM entity_revision_field, entity\n",
    "where field = \"content\"\n",
    "    AND entity.current_revision_id = entity_revision_field.entity_revision_id;\n",
    "\"\"\", db)\n",
    "\n",
    "df.head()"
   ]
  },
  {
   "cell_type": "code",
   "execution_count": 7,
   "id": "79335fa3",
   "metadata": {},
   "outputs": [
    {
     "name": "stderr",
     "output_type": "stream",
     "text": [
      "IOPub data rate exceeded.\n",
      "The notebook server will temporarily stop sending output\n",
      "to the client in order to avoid crashing it.\n",
      "To change this limit, set the config variable\n",
      "`--NotebookApp.iopub_data_rate_limit`.\n",
      "\n",
      "Current values:\n",
      "NotebookApp.iopub_data_rate_limit=1000000.0 (bytes/sec)\n",
      "NotebookApp.rate_limit_window=3.0 (secs)\n",
      "\n"
     ]
    },
    {
     "data": {
      "text/plain": [
       "[]"
      ]
     },
     "execution_count": 7,
     "metadata": {},
     "output_type": "execute_result"
    }
   ],
   "source": [
    "entities = []\n",
    "for i, revision in df.iterrows():\n",
    "    print(\"id\")\n",
    "    print(revision[\"id\"])\n",
    "    try:\n",
    "        currentObject = json.loads(revision[\"value\"])\n",
    "        if isinstance(currentObject, dict):\n",
    "            empty_boxes = find_empty_boxes(currentObject)\n",
    "            if len(empty_boxes):\n",
    "                entities.extend(entity(revision[\"id\"], empty_boxes))\n",
    "    except:\n",
    "        print(revision[\"value\"])\n",
    "            \n",
    "entities"
   ]
  },
  {
   "cell_type": "code",
   "execution_count": 18,
   "id": "c8db002d",
   "metadata": {},
   "outputs": [
    {
     "data": {
      "text/html": [
       "<div>\n",
       "<style scoped>\n",
       "    .dataframe tbody tr th:only-of-type {\n",
       "        vertical-align: middle;\n",
       "    }\n",
       "\n",
       "    .dataframe tbody tr th {\n",
       "        vertical-align: top;\n",
       "    }\n",
       "\n",
       "    .dataframe thead th {\n",
       "        text-align: right;\n",
       "    }\n",
       "</style>\n",
       "<table border=\"1\" class=\"dataframe\">\n",
       "  <thead>\n",
       "    <tr style=\"text-align: right;\">\n",
       "      <th></th>\n",
       "      <th>id</th>\n",
       "      <th>value</th>\n",
       "    </tr>\n",
       "  </thead>\n",
       "  <tbody>\n",
       "    <tr>\n",
       "      <th>6985</th>\n",
       "      <td>16078</td>\n",
       "      <td>http://www.youtube.com/watch?v=J2IO2sBJj-4</td>\n",
       "    </tr>\n",
       "  </tbody>\n",
       "</table>\n",
       "</div>"
      ],
      "text/plain": [
       "         id                                       value\n",
       "6985  16078  http://www.youtube.com/watch?v=J2IO2sBJj-4"
      ]
     },
     "execution_count": 18,
     "metadata": {},
     "output_type": "execute_result"
    }
   ],
   "source": [
    "#df[\"id\" == 16078]\n",
    "df[df.id == 16078]"
   ]
  },
  {
   "cell_type": "code",
   "execution_count": 19,
   "id": "dae7cc7c",
   "metadata": {},
   "outputs": [
    {
     "data": {
      "text/plain": [
       "'{\"plugin\":\"solution\",\"state\":{\"prerequisite\":{\"id\":\"1827\",\"title\":\"Flächenberechnung\"},\"strategy\":{\"plugin\":\"text\",\"state\":[{\"type\":\"p\",\"children\":[{}]}]},\"steps\":{\"plugin\":\"rows\",\"state\":[{\"plugin\":\"rows\",\"state\":[{\"plugin\":\"text\",\"state\":[{\"type\":\"p\",\"children\":[{\"text\":\"Im Bereich \"},{\"type\":\"math\",\"src\":\"x=1\",\"inline\":true,\"children\":[{\"text\":\"x=1\"}]},{\"text\":\" bis \"},{\"type\":\"math\",\"src\":\"x=2\",\"inline\":true,\"children\":[{\"text\":\"x=2\"}]},{\"text\":\" ist die Funktion \"},{\"type\":\"math\",\"src\":\"f(x)=x^3\",\"inline\":true,\"children\":[{\"text\":\"f(x)=x^3\"}]},{\"text\":\" positiv und hat keine Nullstellen, so dass es reicht, das Integral in den angegebenen Grenzen zu berechnen.\"}]}]},{\"plugin\":\"text\",\"state\":[{\"type\":\"p\",\"children\":[{\"text\":\"\"},{\"type\":\"math\",\"src\":\"f(x)=x^3\",\"inline\":true,\"children\":[{\"text\":\"f(x)=x^3\"}]},{\"text\":\" , \"},{\"type\":\"math\",\"src\":\"a=1\",\"inline\":true,\"children\":[{\"text\":\"a=1\"}]},{\"text\":\" , \"},{\"type\":\"math\",\"src\":\"b=2\",\"inline\":true,\"children\":[{\"text\":\"b=2\"}]},{\"text\":\"\"}]}]},{\"plugin\":\"text\",\"state\":[{\"type\":\"p\",\"children\":[{\"text\":\"\"},{\"type\":\"a\",\"href\":\"/1595\",\"children\":[{\"text\":\"Integral\"}]},{\"text\":\"  aufstellen.\"}]}]}]},{\"plugin\":\"rows\",\"state\":[{\"plugin\":\"text\",\"state\":[{\"type\":\"p\",\"children\":[{\"text\":\"\"},{\"type\":\"math\",\"src\":\"\\\\\\\\int_1^2 x^3\\\\\\\\mathrm{d}x=\\\\\\\\left[\\\\\\\\frac14x^4\\\\\\\\right]_1^2\",\"inline\":true,\"children\":[{\"text\":\"\\\\\\\\int_1^2 x^3\\\\\\\\mathrm{d}x=\"}]},{\"text\":\"\"}]}]},{\"plugin\":\"text\",\"state\":[{\"type\":\"p\",\"children\":[{\"text\":\"\"},{\"type\":\"a\",\"href\":\"/1595\",\"children\":[{\"text\":\"Integrieren\"}]},{\"text\":\".\"}]}]}]},{\"plugin\":\"rows\",\"state\":[{\"plugin\":\"text\",\"state\":[{\"type\":\"p\",\"children\":[{\"text\":\"In die Klammer wird für \"},{\"type\":\"math\",\"src\":\"x\",\"inline\":true,\"children\":[{\"text\":\"x\"}]},{\"text\":\" der obere Wert (2) eingesetzt und minus die Klammer mit dem unteren Wert (1) gerechnet.\"}]}]}]},{\"plugin\":\"rows\",\"state\":[{\"plugin\":\"text\",\"state\":[{\"type\":\"p\",\"children\":[{\"text\":\"\"},{\"type\":\"math\",\"src\":\"=\\\\\\\\frac142^4-\\\\\\\\frac141^4\",\"inline\":true,\"children\":[{\"text\":\"=\\\\\\\\frac142^4-\\\\\\\\frac141^4\"}]},{\"text\":\"\"}]}]},{\"plugin\":\"text\",\"state\":[{\"type\":\"p\",\"children\":[{\"text\":\"\"},{\"type\":\"a\",\"href\":\"/1663\",\"children\":[{\"text\":\"Potenzen\"}]},{\"text\":\"  berechen.\"}]}]}]},{\"plugin\":\"rows\",\"state\":[{\"plugin\":\"text\",\"state\":[{\"type\":\"p\",\"children\":[{\"text\":\"\"},{\"type\":\"math\",\"src\":\"=\\\\\\\\frac{16}4-\\\\\\\\frac14\",\"inline\":true,\"children\":[{\"text\":\"=\\\\\\\\frac{16}4-\\\\\\\\frac14\"}]},{\"text\":\"\"}]}]}]},{\"plugin\":\"rows\",\"state\":[{\"plugin\":\"text\",\"state\":[{\"type\":\"p\",\"children\":[{\"text\":\"\"},{\"type\":\"math\",\"src\":\"=\\\\\\\\frac{15}4=3,75\",\"inline\":true,\"children\":[{\"text\":\"=\\\\\\\\frac{15}4=3,75\"}]},{\"text\":\"\"}]}]},{\"plugin\":\"text\",\"state\":[{\"type\":\"p\",\"children\":[{\"text\":\"Die Fläche zwischen der x-Achse und \"},{\"type\":\"math\",\"src\":\"G_f\\u200b\",\"inline\":true,\"children\":[{\"text\":\"G_f\\u200b\"}]},{\"text\":\" beträgt \"},{\"type\":\"math\",\"src\":\"A=3,75\\\\\\\\;\\\\\\\\text{FE}\",\"inline\":true,\"children\":[{\"text\":\"A=3,75\\\\\\\\;\\\\\\\\text{FE}\"}]},{\"text\":\".\"}]},{\"type\":\"p\",\"children\":[{\"text\":\"\"}]}]}]}]}}}'"
      ]
     },
     "execution_count": 19,
     "metadata": {},
     "output_type": "execute_result"
    }
   ],
   "source": [
    "bytes(df[\"value\"][400], \"latin1\").decode(\"utf8\")"
   ]
  },
  {
   "cell_type": "code",
   "execution_count": 14,
   "id": "abfa1704",
   "metadata": {},
   "outputs": [],
   "source": [
    "test = '{\"plugin\":\"article\",\"state\":{\"introduction\":{\"plugin\":\"articleIntroduction\",\"state\":{\"explanation\":{\"plugin\":\"text\",\"state\":[{\"type\":\"p\",\"children\":[{\"text\":\"In diesem Artikel werden Boxen und ihre Verwandten ausprobiert :)\"}]}]},\"multimedia\":{\"plugin\":\"image\",\"state\":{\"src\":\"\",\"caption\":{\"plugin\":\"text\",\"state\":[{\"type\":\"p\",\"children\":[{}]}]}}},\"illustrating\":true,\"width\":50}},\"content\":{\"plugin\":\"rows\",\"state\":[{\"plugin\":\"text\",\"state\":[{\"type\":\"p\",\"children\":[{\"text\":\"Text Anfang\"}]}]},{\"plugin\":\"box\",\"state\":{\"title\":{\"plugin\":\"text\",\"state\":[{\"type\":\"p\",\"children\":[{}]}]},\"content\":{\"plugin\":\"rows\",\"state\":[{\"plugin\":\"text\",\"state\":[{\"type\":\"p\",\"children\":[{\"text\":\"Das hier ist ein Merksatz. In der Plugin-Beschreibung steht auch, sodass dieser bisher wohl nicht besonders semantisch verwendet wurde.\"}]},{\"type\":\"p\",\"children\":[{\"text\":\"\"}]}]}]},\"type\":\"blank\",\"anchorId\":\"box80970\"}},{\"plugin\":\"text\",\"state\":[{\"type\":\"p\",\"children\":[{\"text\":\"Zwischentext zwischen den Elementen\"}]}]},{\"plugin\":\"box\",\"state\":{\"title\":{\"plugin\":\"text\",\"state\":[{\"type\":\"p\",\"children\":[{}]}]},\"content\":{\"plugin\":\"rows\",\"state\":[{\"plugin\":\"text\",\"state\":[{\"type\":\"p\",\"children\":[{\"text\":\"Das hier ist ein Zitat. Angeblich ist es einfach eingerückt, oder passiert hier noch mehr?\"}]},{\"type\":\"p\",\"children\":[{\"text\":\"\"}]}]}]},\"type\":\"quote\",\"anchorId\":\"box35521\"}},{\"plugin\":\"text\",\"state\":[{\"type\":\"p\",\"children\":[{\"text\":\"Noch ein schicker Zwischentext\"}]}]},{\"plugin\":\"spoiler\",\"state\":{\"title\":\"Das ist der Spoiler-Titel\",\"content\":{\"plugin\":\"rows\",\"state\":[{\"plugin\":\"text\",\"state\":[{\"type\":\"p\",\"children\":[{\"text\":\"Das ist der Spoiler-Inhalt, hoffentlich.\"}]}]}]}}},{\"plugin\":\"text\",\"state\":[{\"type\":\"p\",\"children\":[{\"text\":\"Und zum Abschluss kommt noch mal normaler Text\"}]}]},{\"plugin\":\"text\",\"state\":[{\"type\":\"p\",\"children\":[{\"text\":\"Und hier ein Experiment mit Tastendrücken: \"},{\"type\":\"math\",\"src\":\"\\\\\\\\fbox {~1~} ~\\\\\\\\fbox{Enter}~\\\\\\\\fbox{~2~} ~\\\\\\\\fbox{Enter}~\\\\\\\\fbox{~+~}\",\"inline\":true,\"children\":[{\"text\":\"1 Enter\"}]},{\"text\":\"\"}]}]},{\"plugin\":\"text\",\"state\":[{\"type\":\"p\",\"children\":[{}]}]},{\"plugin\":\"box\",\"state\":{\"type\":\"note\",\"title\":{\"plugin\":\"text\",\"state\":[{\"type\":\"p\",\"children\":[{}]}]},\"anchorId\":\"box32917\",\"content\":{\"plugin\":\"rows\",\"state\":[{\"plugin\":\"text\",\"state\":[{\"type\":\"p\",\"children\":[{\"text\":\"Das ist eine schicke neue Box.\"}]}]}]}}}]},\"exercises\":[],\"exerciseFolder\":{\"id\":\"\",\"title\":\"\"},\"relatedContent\":{\"articles\":[],\"courses\":[],\"videos\":[]},\"sources\":[]}}'"
   ]
  },
  {
   "cell_type": "code",
   "execution_count": 21,
   "id": "ca170346",
   "metadata": {},
   "outputs": [
    {
     "data": {
      "text/plain": [
       "[['plugin'],\n",
       " ['plugin', 'introduction', 'state'],\n",
       " ['plugin', 'explanation', 'state', 'introduction', 'state'],\n",
       " ['state', 'explanation', 'state', 'introduction', 'state'],\n",
       " ['plugin', 'multimedia', 'state', 'introduction', 'state'],\n",
       " ['src', 'state', 'multimedia', 'state', 'introduction', 'state'],\n",
       " ['plugin',\n",
       "  'caption',\n",
       "  'state',\n",
       "  'multimedia',\n",
       "  'state',\n",
       "  'introduction',\n",
       "  'state'],\n",
       " ['state', 'caption', 'state', 'multimedia', 'state', 'introduction', 'state'],\n",
       " ['illustrating', 'state', 'introduction', 'state'],\n",
       " ['width', 'state', 'introduction', 'state'],\n",
       " ['plugin', 'content', 'state'],\n",
       " ['state', 'content', 'state'],\n",
       " ['exercises', 'state'],\n",
       " ['id', 'exerciseFolder', 'state'],\n",
       " ['title', 'exerciseFolder', 'state'],\n",
       " ['articles', 'relatedContent', 'state'],\n",
       " ['courses', 'relatedContent', 'state'],\n",
       " ['videos', 'relatedContent', 'state'],\n",
       " ['sources', 'state']]"
      ]
     },
     "execution_count": 21,
     "metadata": {},
     "output_type": "execute_result"
    }
   ],
   "source": [
    "obj = json.loads(test)\n",
    "keys = list(get_keys(obj, []))\n",
    "keys"
   ]
  },
  {
   "cell_type": "code",
   "execution_count": 22,
   "id": "2bcbab80",
   "metadata": {},
   "outputs": [
    {
     "data": {
      "text/plain": [
       "'articleIntroduction'"
      ]
     },
     "execution_count": 22,
     "metadata": {},
     "output_type": "execute_result"
    }
   ],
   "source": [
    "key_arr = ['plugin', 'introduction', 'state']\n",
    "value = get_value_from_key_array(obj, key_arr)\n",
    "value"
   ]
  },
  {
   "cell_type": "code",
   "execution_count": null,
   "id": "51b19b5d",
   "metadata": {},
   "outputs": [],
   "source": []
  }
 ],
 "metadata": {
  "kernelspec": {
   "display_name": "Python 3 (ipykernel)",
   "language": "python",
   "name": "python3"
  },
  "language_info": {
   "codemirror_mode": {
    "name": "ipython",
    "version": 3
   },
   "file_extension": ".py",
   "mimetype": "text/x-python",
   "name": "python",
   "nbconvert_exporter": "python",
   "pygments_lexer": "ipython3",
   "version": "3.10.1"
  }
 },
 "nbformat": 4,
 "nbformat_minor": 5
}
