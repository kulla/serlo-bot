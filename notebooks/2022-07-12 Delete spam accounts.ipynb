{
 "cells": [
  {
   "cell_type": "code",
   "execution_count": 2,
   "id": "11d8747b",
   "metadata": {},
   "outputs": [
    {
     "data": {
      "text/plain": [
       "32"
      ]
     },
     "execution_count": 2,
     "metadata": {},
     "output_type": "execute_result"
    }
   ],
   "source": [
    "ids = list(set([41334,\n",
    "61630,\n",
    "90995,\n",
    "115228,\n",
    "176558,\n",
    "177397,\n",
    "179131,\n",
    "183969,\n",
    "184872,\n",
    "186793,\n",
    "187703,\n",
    "189648,\n",
    "195091,\n",
    "195857,\n",
    "196007,\n",
    "196921,\n",
    "197021,\n",
    "41334,\n",
    "41334,\n",
    "41334,\n",
    "41334,\n",
    "41334,\n",
    "41334,\n",
    "56645,\n",
    "58234,\n",
    "59551,\n",
    "59839,\n",
    "59839,\n",
    "61630,\n",
    "61630,\n",
    "61630,\n",
    "64396,\n",
    "67489,\n",
    "90995,\n",
    "90995,\n",
    "90995,\n",
    "90995,\n",
    "115228,\n",
    "175488,\n",
    "176558,\n",
    "179044,\n",
    "179044,\n",
    "179044,\n",
    "179058,\n",
    "179058,\n",
    "179131,\n",
    "181246,\n",
    "181246,\n",
    "181246,\n",
    "181246,\n",
    "181246,\n",
    "183969,\n",
    "184872,\n",
    "183969,\n",
    "186793,\n",
    "187703,\n",
    "189648,\n",
    "195857,\n",
    "196007,\n",
    "196921,\n",
    "197021,\n",
    "201249,\n",
    "223991,\n",
    "223991,\n",
    "226892,\n",
    "236675,\n",
    "240039,\n",
    "]))\n",
    "len(ids)"
   ]
  }
 ],
 "metadata": {
  "kernelspec": {
   "display_name": "Python 3 (ipykernel)",
   "language": "python",
   "name": "python3"
  },
  "language_info": {
   "codemirror_mode": {
    "name": "ipython",
    "version": 3
   },
   "file_extension": ".py",
   "mimetype": "text/x-python",
   "name": "python",
   "nbconvert_exporter": "python",
   "pygments_lexer": "ipython3",
   "version": "3.10.1"
  }
 },
 "nbformat": 4,
 "nbformat_minor": 5
}
