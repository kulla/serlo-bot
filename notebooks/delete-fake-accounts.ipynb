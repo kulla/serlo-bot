{
 "cells": [
  {
   "cell_type": "code",
   "execution_count": 1,
   "id": "9bd7a985-b598-4fc1-89ff-b9a7cb6b3922",
   "metadata": {},
   "outputs": [
    {
     "name": "stdout",
     "output_type": "stream",
     "text": [
      "MAILCHIMP_API_KEY········\n"
     ]
    }
   ],
   "source": [
    "from getpass import getpass\n",
    "import requests\n",
    "import pandas as pd\n",
    "import math\n",
    "from serlo.mysql import db\n",
    "from IPython.display import display, Markdown\n",
    "\n",
    "MAILCHIMP_API_KEY = getpass(\"MAILCHIMP_API_KEY\")\n",
    "dc = MAILCHIMP_API_KEY.split(\"-\")[1]\n",
    "\n",
    "MAILCHIMP_API_URL = f\"https://{dc}.api.mailchimp.com/3.0/lists/a7bb2bbc4f/members\""
   ]
  },
  {
   "cell_type": "code",
   "execution_count": 2,
   "id": "026021fd-2062-4dec-bd97-6d5913af262c",
   "metadata": {},
   "outputs": [],
   "source": [
    "# Hier das Datum eintragen, ab dem Subscriptions gesucht werden sollen.\n",
    "\n",
    "date = \"2020-03-01T00:00:00+00:00\""
   ]
  },
  {
   "cell_type": "code",
   "execution_count": 3,
   "id": "ff6590b4-1f48-4531-9cff-6b00891e1553",
   "metadata": {},
   "outputs": [
    {
     "name": "stderr",
     "output_type": "stream",
     "text": [
      "/tmp/ipykernel_23419/2075254977.py:2: UserWarning: pandas only supports SQLAlchemy connectable (engine/connection) or database string URI or sqlite3 DBAPI2 connection. Other DBAPI2 objects are not tested. Please consider using SQLAlchemy.\n",
      "  df = pd.read_sql(\n"
     ]
    }
   ],
   "source": [
    "# TODO: Entscheiden, ob die Description hier rausgenommen wird, da es ein anderer Anwendungsfall ist\n",
    "df = pd.read_sql(\n",
    "    \"\"\"\n",
    "    Select\n",
    "        user.id as serlo_id,\n",
    "        user.username,\n",
    "        user.description,\n",
    "        user.date,\n",
    "        sum(events.edits) as edits,\n",
    "        sum(events.reviews) as reviews,\n",
    "        sum(events.comments) as comments,\n",
    "        sum(events.taxonomy) as taxonomy\n",
    "    From (\n",
    "        SELECT\n",
    "            IF(event_log.event_id = 5, 1, 0) as edits,\n",
    "            IF(event_log.event_id in (6,11), 1, 0) as reviews,\n",
    "            IF(event_log.event_id in (8,9,14,16), 1, 0) as comments,\n",
    "            IF(event_log.event_id in (1,2,12,15,17), 1, 0) as taxonomy,\n",
    "            event_log.actor_id\n",
    "        FROM event_log\n",
    "        WHERE event_log.event_id IN (5,6,11,8,9,14,16,1,2,12,15,17)\n",
    "    ) events\n",
    "    right join user on user.id = events.actor_id\n",
    "    group by user.id\n",
    "\"\"\",\n",
    "    db,\n",
    ")\n",
    "\n",
    "df.fillna(0, inplace=True)\n",
    "\n",
    "df[\"date\"] = df[\"date\"].map(pd.to_datetime)\n",
    "inactive_users = df[\n",
    "    (df[\"edits\"] + df[\"reviews\"] + df[\"taxonomy\"] == 0)\n",
    "    & (df[\"description\"] != \"NULL\")\n",
    "    & (df[\"description\"] != \"\")\n",
    "    & (df[\"date\"] < pd.to_datetime(\"2021-12-01\"))\n",
    "].copy()\n",
    "inactive_users.sort_values([\"date\"], inplace=True)\n",
    "inactive_users\n",
    "\n",
    "compact_inactive_users = inactive_users[[\"serlo_id\", \"username\"]]"
   ]
  },
  {
   "cell_type": "code",
   "execution_count": 4,
   "id": "3dfcca8d-78c9-4bd2-a7fb-6048f41c7ddf",
   "metadata": {},
   "outputs": [
    {
     "data": {
      "text/markdown": [
       "### Anzahl der Newsletter-Subscriptions: 8189"
      ],
      "text/plain": [
       "<IPython.core.display.Markdown object>"
      ]
     },
     "metadata": {},
     "output_type": "display_data"
    }
   ],
   "source": [
    "subscribers = requests.get(\n",
    "    MAILCHIMP_API_URL,\n",
    "    params={\n",
    "        \"apikey\": MAILCHIMP_API_KEY,\n",
    "        \"status\": \"subscribed\",\n",
    "        \"fields\": \"total_items\",\n",
    "    },\n",
    ")\n",
    "total_subscribers = subscribers.json()[\"total_items\"]\n",
    "\n",
    "display(Markdown(f\"### Anzahl der Newsletter-Subscriptions: {total_subscribers}\"))"
   ]
  },
  {
   "cell_type": "code",
   "execution_count": 5,
   "id": "a5991636-8d9b-47d4-bbbc-2e99ebc39454",
   "metadata": {},
   "outputs": [],
   "source": [
    "subscribers = []\n",
    "\n",
    "for i in range(math.ceil(total_subscribers / 1000)):\n",
    "    subscribers.extend(\n",
    "        requests.get(\n",
    "            MAILCHIMP_API_URL,\n",
    "            params={\n",
    "                \"apikey\": MAILCHIMP_API_KEY,\n",
    "                \"status\": \"subscribed\",\n",
    "                \"since_timestamp_opt\": date,\n",
    "                \"offset\": (i * 1000),\n",
    "                \"count\": 1000,\n",
    "            },\n",
    "        ).json()[\"members\"]\n",
    "    )"
   ]
  },
  {
   "cell_type": "code",
   "execution_count": 7,
   "id": "91eb6d7b-4cef-4a6c-ac5b-d1036af17f25",
   "metadata": {},
   "outputs": [
    {
     "data": {
      "text/markdown": [
       "### Anzahl Subscriber, die keinen Newsletter geöffnet haben: 3175"
      ],
      "text/plain": [
       "<IPython.core.display.Markdown object>"
      ]
     },
     "metadata": {},
     "output_type": "display_data"
    }
   ],
   "source": [
    "subscribers_not_opened_newsletter = [\n",
    "    subscriber\n",
    "    for subscriber in subscribers\n",
    "    if subscriber[\"stats\"][\"avg_open_rate\"] == 0\n",
    "]\n",
    "\n",
    "subscribers_with_revealing_email_client = [\n",
    "    subscriber\n",
    "    for subscriber in subscribers_not_opened_newsletter\n",
    "    if subscriber[\"email_address\"].split(\"@\")[1] not in [\"protonmail.com\"]\n",
    "]\n",
    "\n",
    "display(\n",
    "    Markdown(\n",
    "        f\"### Anzahl Subscriber, die keinen Newsletter geöffnet haben: {len(subscribers_with_revealing_email_client)}\"\n",
    "    )\n",
    ")"
   ]
  },
  {
   "cell_type": "code",
   "execution_count": 8,
   "id": "493793f7-d2f9-4c9d-a6a8-80f2bbf53607",
   "metadata": {},
   "outputs": [
    {
     "data": {
      "text/markdown": [
       "### Anzahl Users, die sich bei der Registrierung für den Newsletter subscribed haben: 40\n",
       "        Anm.: Es ist kaum zu glauben, dass es so wenig ist. Wir überprüfen die Daten nochmal"
      ],
      "text/plain": [
       "<IPython.core.display.Markdown object>"
      ]
     },
     "metadata": {},
     "output_type": "display_data"
    }
   ],
   "source": [
    "merged_data = {}\n",
    "\n",
    "for subscriber in subscribers_with_revealing_email_client:\n",
    "    unique_key = subscriber[\"merge_fields\"][\"UNAME\"]\n",
    "    merged_data[unique_key] = subscriber\n",
    "\n",
    "for _, user in compact_inactive_users.iterrows():\n",
    "    unique_key = user[\"username\"]\n",
    "    if unique_key in merged_data:\n",
    "        merged_data[unique_key].update(user)\n",
    "\n",
    "linked_accounts = [\n",
    "    value\n",
    "    for value in merged_data.values()\n",
    "    if all(key in value for key in (\"serlo_id\", \"id\"))\n",
    "]\n",
    "\n",
    "df = pd.json_normalize(linked_accounts)\n",
    "df.rename(columns={\"id\": \"mailchimp_id\"}, inplace=True)\n",
    "number_of_linked_accounts = len(df)\n",
    "\n",
    "display(\n",
    "    Markdown(\n",
    "        f\"\"\"### Anzahl Users, die sich bei der Registrierung für den Newsletter subscribed haben: {number_of_linked_accounts}\n",
    "        {\"Anm.: Es ist kaum zu glauben, dass es so wenig ist. Wir überprüfen die Daten nochmal\" \n",
    "            if number_of_linked_accounts < 100 else ' '\n",
    "        }\"\"\"\n",
    "    )\n",
    ")"
   ]
  },
  {
   "cell_type": "code",
   "execution_count": null,
   "id": "afc6c896-40da-4af8-8f5d-49ea7618fca3",
   "metadata": {},
   "outputs": [],
   "source": [
    "\"\"\"\n",
    "Das ist Code, den ich zum Testen verwende.\n",
    "\n",
    "MY_TEST_MAILCHIMP_API_KEY = \"\"\n",
    "dc2 = MY_TEST_MAILCHIMP_API_KEY.split('-')[1]\n",
    "act_url = f\"https://{dc2}.api.mailchimp.com/3.0/lists/66709f13c5/members\"\n",
    "activity = requests.get(act_url, params = {\"apikey\": MY_TEST_MAILCHIMP_API_KEY})\n",
    "activity.json()\n",
    "\"\"\""
   ]
  },
  {
   "cell_type": "code",
   "execution_count": null,
   "id": "52fb8c26-3d63-4e92-bb88-de8ec77cef92",
   "metadata": {},
   "outputs": [],
   "source": [
    "\"\"\"\n",
    "members = activity.json()[\"members\"]\n",
    "test = filter(lambda member: (member[\"stats\"][\"avg_open_rate\"] != 0) & (member[\"status\"] == \"subscribed\"), members)\n",
    "list(test)\n",
    "\"\"\""
   ]
  },
  {
   "cell_type": "code",
   "execution_count": 9,
   "id": "386dbb53-54e2-462f-be71-d3641ee6db58",
   "metadata": {},
   "outputs": [
    {
     "data": {
      "text/markdown": [
       "### Anzahl Subscriber, die keinen Newsletter geöffnet haben und keine Aktivität auf serlo.org haben: 40"
      ],
      "text/plain": [
       "<IPython.core.display.Markdown object>"
      ]
     },
     "metadata": {},
     "output_type": "display_data"
    }
   ],
   "source": [
    "def is_possible_fake_account(subscriber):\n",
    "    return subscriber[\"merge_fields\"][\"UNAME\"] in [\n",
    "        user[\"username\"] for _, user in compact_inactive_users.iterrows()\n",
    "    ]\n",
    "\n",
    "\n",
    "filtered = [account for account in linked_accounts if is_possible_fake_account(account)]\n",
    "\n",
    "display(\n",
    "    Markdown(\n",
    "        f\"### Anzahl Subscriber, die keinen Newsletter geöffnet haben und keine Aktivität auf serlo.org haben: {len(filtered)}\"\n",
    "    )\n",
    ")\n",
    "\n",
    "# display(Markdown(f\"Ids: {[user['id'] for user in filtered]}\"))"
   ]
  },
  {
   "cell_type": "code",
   "execution_count": null,
   "id": "782f3278-3a05-4dab-be13-916007a6fcbf",
   "metadata": {},
   "outputs": [],
   "source": [
    "### Das sind alles Subscriber, von denen wir auch den Account auf serlo.org kennen.\n",
    "### You can check the profile of the users here: serlo.org/{id}\n",
    "### Die Liste der Ids samt Usernamen, die von Serlo gelöscht werden sollen, bitte an moritz@serlo.org schicken oder,\n",
    "### falls nicht verfügbar, an den Admin eures Vertrauens ;)\n",
    "### Falls nur die Subscription gelöscht werden soll, bitte in den nächsten Abschnitt schauen."
   ]
  },
  {
   "cell_type": "code",
   "execution_count": null,
   "id": "d44f41f7-e29c-4959-a5cc-ccc56317eb03",
   "metadata": {},
   "outputs": [],
   "source": [
    "# TODO: Which information is relevant?\n",
    "not_linked_subscribers = list(\n",
    "    filter(\n",
    "        lambda member: not member[\"merge_fields\"][\"UNAME\"],\n",
    "        subscribers_with_revealing_email_client,\n",
    "    )\n",
    ")\n",
    "# print(\n",
    "#     pd.json_normalize(not_linked_subscribers)[\n",
    "#         [\"id\", \"email_address\", \"full_name\", \"timestamp_signup\"]\n",
    "#     ]\n",
    "# )"
   ]
  },
  {
   "cell_type": "code",
   "execution_count": null,
   "id": "e12e4f96-2470-41f7-a058-f2e9dad4a73e",
   "metadata": {},
   "outputs": [],
   "source": [
    "# Fill in here the mailchimp id (important: not the serlo id!) of the subscribers\n",
    "# you want to remove from the newsletter list like that [id1, id2, id3, ...]\n",
    "ids_to_remove = []"
   ]
  },
  {
   "cell_type": "code",
   "execution_count": null,
   "id": "c610ad3b-910c-4de0-9640-7fe6c64e7424",
   "metadata": {},
   "outputs": [],
   "source": [
    "def delete_url(subscriber_hash):\n",
    "    return f\"/lists/a7bb2bbc4f/members/{subscriber_hash}/actions/delete-permanent\"\n",
    "\n",
    "\n",
    "# Uncomment if we are supposed to delete accounts automatically\n",
    "# for subscriber_hash in ids_to_remove:\n",
    "#     requests.post(delete_url(subscriber_hash), key: MAILCHIMP_API_KEY)"
   ]
  }
 ],
 "metadata": {
  "kernelspec": {
   "display_name": "Python 3 (ipykernel)",
   "language": "python",
   "name": "python3"
  },
  "language_info": {
   "codemirror_mode": {
    "name": "ipython",
    "version": 3
   },
   "file_extension": ".py",
   "mimetype": "text/x-python",
   "name": "python",
   "nbconvert_exporter": "python",
   "pygments_lexer": "ipython3",
   "version": "3.8.10"
  }
 },
 "nbformat": 4,
 "nbformat_minor": 5
}
