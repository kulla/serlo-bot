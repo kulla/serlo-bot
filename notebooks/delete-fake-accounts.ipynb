{
 "cells": [
  {
   "cell_type": "code",
   "execution_count": null,
   "id": "9bd7a985-b598-4fc1-89ff-b9a7cb6b3922",
   "metadata": {},
   "outputs": [],
   "source": [
    "import requests\n",
    "\n",
    "import pandas as pd\n",
    "\n",
    "from serlo.mysql import db\n",
    "#import mysql.connector as mysql\n",
    "MAILCHIMP_API_KEY = \"\"\n",
    "dc = MAILCHIMP_API_KEY.split('-')[1]\n",
    "\n",
    "url = f\"https://{dc}.api.mailchimp.com/3.0/lists/a7bb2bbc4f/members\""
   ]
  },
  {
   "cell_type": "code",
   "execution_count": null,
   "id": "ff6590b4-1f48-4531-9cff-6b00891e1553",
   "metadata": {},
   "outputs": [],
   "source": [
    "df = pd.read_sql(\"\"\"\n",
    "    Select\n",
    "        user.id,\n",
    "        user.username,\n",
    "        user.description,\n",
    "        user.date,\n",
    "        sum(events.edits) as edits,\n",
    "        sum(events.reviews) as reviews,\n",
    "        sum(events.comments) as comments,\n",
    "        sum(events.taxonomy) as taxonomy\n",
    "    From (\n",
    "        SELECT\n",
    "            IF(event_log.event_id = 5, 1, 0) as edits,\n",
    "            IF(event_log.event_id in (6,11), 1, 0) as reviews,\n",
    "            IF(event_log.event_id in (8,9,14,16), 1, 0) as comments,\n",
    "            IF(event_log.event_id in (1,2,12,15,17), 1, 0) as taxonomy,\n",
    "            event_log.actor_id\n",
    "        FROM event_log\n",
    "        WHERE event_log.event_id IN (5,6,11,8,9,14,16,1,2,12,15,17)\n",
    "    ) events\n",
    "    right join user on user.id = events.actor_id\n",
    "    group by user.id\n",
    "\"\"\", db)\n",
    "df.fillna(0, inplace=True)\n",
    "\n",
    "df[\"date\"] = df[\"date\"].map(pd.to_datetime)\n",
    "inactive_users = df[\n",
    "    (df[\"edits\"] + df[\"reviews\"] + df[\"taxonomy\"] == 0) &\n",
    "    (df[\"description\"] != \"NULL\") & (df[\"description\"] != \"\") &\n",
    "    (df[\"date\"] < pd.to_datetime(\"2021-12-01\"))\n",
    "].copy()\n",
    "inactive_users.sort_values([\"date\"], inplace=True)"
   ]
  },
  {
   "cell_type": "code",
   "execution_count": null,
   "id": "a5991636-8d9b-47d4-bbbc-2e99ebc39454",
   "metadata": {},
   "outputs": [],
   "source": [
    "subscribers = requests.get(url, params = {\"apikey\": MAILCHIMP_API_KEY, \"count\": 14000})\n",
    "subscribers.json()"
   ]
  },
  {
   "cell_type": "code",
   "execution_count": null,
   "id": "3dfcca8d-78c9-4bd2-a7fb-6048f41c7ddf",
   "metadata": {},
   "outputs": [],
   "source": [
    "subscribers = requests.get(url, params = {\"apikey\": MAILCHIMP_API_KEY, \"status\": \"subscribed\", \"fields\": \"total_items\"})\n",
    "subscribers.json()"
   ]
  },
  {
   "cell_type": "code",
   "execution_count": null,
   "id": "493793f7-d2f9-4c9d-a6a8-80f2bbf53607",
   "metadata": {},
   "outputs": [],
   "source": [
    "subscribers.reason"
   ]
  },
  {
   "cell_type": "code",
   "execution_count": null,
   "id": "afc6c896-40da-4af8-8f5d-49ea7618fca3",
   "metadata": {},
   "outputs": [],
   "source": [
    "act_url = f\"https://{dc}.api.mailchimp.com/3.0/lists/a7bb2bbc4f\"\n",
    "activity = requests.get(act_url, params = {\"apikey\": MAILCHIMP_API_KEY})\n",
    "activity.json()"
   ]
  },
  {
   "cell_type": "code",
   "execution_count": null,
   "id": "9cb11f31-ce7f-4530-a6d7-337331dc8a60",
   "metadata": {},
   "outputs": [],
   "source": [
    "is_possible_fake_account(subscriber):\n",
    "    if !(subscriber in inactive_users) || subscriber.stats.avg_open_rate > 0\n",
    "        return false\n",
    "    return true\n",
    "    "
   ]
  },
  {
   "cell_type": "code",
   "execution_count": null,
   "id": "386dbb53-54e2-462f-be71-d3641ee6db58",
   "metadata": {},
   "outputs": [],
   "source": [
    "filtered = filter(lambda subscriber: is_possible_fake_account(subscriber))\n",
    "filtered.id"
   ]
  },
  {
   "cell_type": "code",
   "execution_count": null,
   "id": "782f3278-3a05-4dab-be13-916007a6fcbf",
   "metadata": {},
   "outputs": [],
   "source": [
    "### You can check the profile of the user here: serlo.org/{id}"
   ]
  },
  {
   "cell_type": "code",
   "execution_count": null,
   "id": "c610ad3b-910c-4de0-9640-7fe6c64e7424",
   "metadata": {},
   "outputs": [],
   "source": [
    "delete_url = \"/lists/a7bb2bbc4f/members/{subscriber_hash}/actions/delete-permanent\n",
    "\n",
    "delete_from_newsletter():\n",
    "    requests.post(delete_url, key: MAILCHIMP_API_KEY)"
   ]
  }
 ],
 "metadata": {
  "kernelspec": {
   "display_name": "Python 3 (ipykernel)",
   "language": "python",
   "name": "python3"
  },
  "language_info": {
   "codemirror_mode": {
    "name": "ipython",
    "version": 3
   },
   "file_extension": ".py",
   "mimetype": "text/x-python",
   "name": "python",
   "nbconvert_exporter": "python",
   "pygments_lexer": "ipython3",
   "version": "3.11.4"
  }
 },
 "nbformat": 4,
 "nbformat_minor": 5
}
