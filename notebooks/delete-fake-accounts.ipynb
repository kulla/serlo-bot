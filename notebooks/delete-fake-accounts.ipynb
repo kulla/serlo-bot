{
 "cells": [
  {
   "cell_type": "code",
   "execution_count": 1,
   "id": "9bd7a985-b598-4fc1-89ff-b9a7cb6b3922",
   "metadata": {},
   "outputs": [
    {
     "name": "stdout",
     "output_type": "stream",
     "text": [
      "MAILCHIMP_API_KEY········\n"
     ]
    }
   ],
   "source": [
    "from getpass import getpass\n",
    "import requests\n",
    "import pandas as pd\n",
    "import math\n",
    "from serlo.mysql import db\n",
    "\n",
    "MAILCHIMP_API_KEY = getpass(\"MAILCHIMP_API_KEY\")\n",
    "dc = MAILCHIMP_API_KEY.split(\"-\")[1]\n",
    "\n",
    "mailchimp_api_url = f\"https://{dc}.api.mailchimp.com/3.0/lists/a7bb2bbc4f/members\""
   ]
  },
  {
   "cell_type": "code",
   "execution_count": 2,
   "id": "026021fd-2062-4dec-bd97-6d5913af262c",
   "metadata": {},
   "outputs": [],
   "source": [
    "# Hier das Datum eintragen, ab dem Subscriptions gesucht werden sollen.\n",
    "\n",
    "date = \"2020-03-01T00:00:00+00:00\""
   ]
  },
  {
   "cell_type": "code",
   "execution_count": 3,
   "id": "ff6590b4-1f48-4531-9cff-6b00891e1553",
   "metadata": {},
   "outputs": [
    {
     "name": "stderr",
     "output_type": "stream",
     "text": [
      "/tmp/ipykernel_20865/2075254977.py:2: UserWarning: pandas only supports SQLAlchemy connectable (engine/connection) or database string URI or sqlite3 DBAPI2 connection. Other DBAPI2 objects are not tested. Please consider using SQLAlchemy.\n",
      "  df = pd.read_sql(\n"
     ]
    }
   ],
   "source": [
    "# TODO: Entscheiden, ob die Description hier rausgenommen wird, da es ein anderer Anwendungsfall ist\n",
    "df = pd.read_sql(\n",
    "    \"\"\"\n",
    "    Select\n",
    "        user.id as serlo_id,\n",
    "        user.username,\n",
    "        user.description,\n",
    "        user.date,\n",
    "        sum(events.edits) as edits,\n",
    "        sum(events.reviews) as reviews,\n",
    "        sum(events.comments) as comments,\n",
    "        sum(events.taxonomy) as taxonomy\n",
    "    From (\n",
    "        SELECT\n",
    "            IF(event_log.event_id = 5, 1, 0) as edits,\n",
    "            IF(event_log.event_id in (6,11), 1, 0) as reviews,\n",
    "            IF(event_log.event_id in (8,9,14,16), 1, 0) as comments,\n",
    "            IF(event_log.event_id in (1,2,12,15,17), 1, 0) as taxonomy,\n",
    "            event_log.actor_id\n",
    "        FROM event_log\n",
    "        WHERE event_log.event_id IN (5,6,11,8,9,14,16,1,2,12,15,17)\n",
    "    ) events\n",
    "    right join user on user.id = events.actor_id\n",
    "    group by user.id\n",
    "\"\"\",\n",
    "    db,\n",
    ")\n",
    "\n",
    "df.fillna(0, inplace=True)\n",
    "\n",
    "df[\"date\"] = df[\"date\"].map(pd.to_datetime)\n",
    "inactive_users = df[\n",
    "    (df[\"edits\"] + df[\"reviews\"] + df[\"taxonomy\"] == 0)\n",
    "    & (df[\"description\"] != \"NULL\")\n",
    "    & (df[\"description\"] != \"\")\n",
    "    & (df[\"date\"] < pd.to_datetime(\"2021-12-01\"))\n",
    "].copy()\n",
    "inactive_users.sort_values([\"date\"], inplace=True)\n",
    "inactive_users\n",
    "\n",
    "compact_inactive_users = inactive_users[[\"serlo_id\", \"username\"]]"
   ]
  },
  {
   "cell_type": "code",
   "execution_count": 4,
   "id": "3dfcca8d-78c9-4bd2-a7fb-6048f41c7ddf",
   "metadata": {},
   "outputs": [
    {
     "name": "stdout",
     "output_type": "stream",
     "text": [
      "Anzahl der Newsletter-Subscriptions: 8189\n"
     ]
    }
   ],
   "source": [
    "subscribers = requests.get(\n",
    "    mailchimp_api_url,\n",
    "    params={\n",
    "        \"apikey\": MAILCHIMP_API_KEY,\n",
    "        \"status\": \"subscribed\",\n",
    "        \"fields\": \"total_items\",\n",
    "    },\n",
    ")\n",
    "total_subs = subscribers.json()[\"total_items\"]\n",
    "print(f\"Anzahl der Newsletter-Subscriptions: {total_subs}\")"
   ]
  },
  {
   "cell_type": "code",
   "execution_count": 5,
   "id": "a5991636-8d9b-47d4-bbbc-2e99ebc39454",
   "metadata": {},
   "outputs": [],
   "source": [
    "subscribers = []\n",
    "for i in range(math.ceil(total_subs / 1000)):\n",
    "    subscribers.extend(\n",
    "        requests.get(\n",
    "            mailchimp_api_url,\n",
    "            params={\n",
    "                \"apikey\": MAILCHIMP_API_KEY,\n",
    "                \"status\": \"subscribed\",\n",
    "                \"since_timestamp_opt\": date,\n",
    "                \"offset\": (i * 1000),\n",
    "                \"count\": 1000,\n",
    "            },\n",
    "        ).json()[\"members\"]\n",
    "    )"
   ]
  },
  {
   "cell_type": "code",
   "execution_count": 6,
   "id": "91eb6d7b-4cef-4a6c-ac5b-d1036af17f25",
   "metadata": {},
   "outputs": [
    {
     "name": "stdout",
     "output_type": "stream",
     "text": [
      "Anzahl Subscriber, die keinen Newsletter geöffnet haben: 3215\n"
     ]
    }
   ],
   "source": [
    "has_not_opened_newsletter = list(\n",
    "    filter(lambda subscriber: (subscriber[\"stats\"][\"avg_open_rate\"] == 0), subscribers)\n",
    ")\n",
    "\n",
    "print(\n",
    "    f\"Anzahl Subscriber, die keinen Newsletter geöffnet haben: {len(has_not_opened_newsletter)}\"\n",
    ")"
   ]
  },
  {
   "cell_type": "code",
   "execution_count": 7,
   "id": "493793f7-d2f9-4c9d-a6a8-80f2bbf53607",
   "metadata": {},
   "outputs": [
    {
     "data": {
      "text/plain": [
       "41"
      ]
     },
     "execution_count": 7,
     "metadata": {},
     "output_type": "execute_result"
    }
   ],
   "source": [
    "merged_data = {}\n",
    "\n",
    "for subscriber in has_not_opened_newsletter:\n",
    "    unique_key = subscriber[\"merge_fields\"][\"UNAME\"]\n",
    "    merged_data[unique_key] = subscriber\n",
    "\n",
    "for index, user in compact_inactive_users.iterrows():\n",
    "    #     print(user)\n",
    "    unique_key = user[\"username\"]\n",
    "    if unique_key in merged_data:\n",
    "        merged_data[unique_key].update(user)\n",
    "\n",
    "linked_account = list(\n",
    "    value\n",
    "    for value in merged_data.values()\n",
    "    if all(key in value for key in (\"serlo_id\", \"id\"))\n",
    ")\n",
    "df = pd.json_normalize(linked_account)\n",
    "df.rename(columns={\"id\": \"mailchimp_id\"}, inplace=True)\n",
    "len(df)"
   ]
  },
  {
   "cell_type": "code",
   "execution_count": 8,
   "id": "afc6c896-40da-4af8-8f5d-49ea7618fca3",
   "metadata": {},
   "outputs": [
    {
     "data": {
      "text/plain": [
       "'\\nDas ist Code, den ich zum Testen verwende.\\n\\nMY_TEST_MAILCHIMP_API_KEY = \"\"\\ndc2 = MY_TEST_MAILCHIMP_API_KEY.split(\\'-\\')[1]\\nact_url = f\"https://{dc2}.api.mailchimp.com/3.0/lists/66709f13c5/members\"\\nactivity = requests.get(act_url, params = {\"apikey\": MY_TEST_MAILCHIMP_API_KEY})\\nactivity.json()\\n'"
      ]
     },
     "execution_count": 8,
     "metadata": {},
     "output_type": "execute_result"
    }
   ],
   "source": [
    "\"\"\"\n",
    "Das ist Code, den ich zum Testen verwende.\n",
    "\n",
    "MY_TEST_MAILCHIMP_API_KEY = \"\"\n",
    "dc2 = MY_TEST_MAILCHIMP_API_KEY.split('-')[1]\n",
    "act_url = f\"https://{dc2}.api.mailchimp.com/3.0/lists/66709f13c5/members\"\n",
    "activity = requests.get(act_url, params = {\"apikey\": MY_TEST_MAILCHIMP_API_KEY})\n",
    "activity.json()\n",
    "\"\"\""
   ]
  },
  {
   "cell_type": "code",
   "execution_count": 9,
   "id": "52fb8c26-3d63-4e92-bb88-de8ec77cef92",
   "metadata": {},
   "outputs": [
    {
     "data": {
      "text/plain": [
       "'\\nmembers = activity.json()[\"members\"]\\ntest = filter(lambda member: (member[\"stats\"][\"avg_open_rate\"] != 0) & (member[\"status\"] == \"subscribed\"), members)\\nlist(test)\\n'"
      ]
     },
     "execution_count": 9,
     "metadata": {},
     "output_type": "execute_result"
    }
   ],
   "source": [
    "\"\"\"\n",
    "members = activity.json()[\"members\"]\n",
    "test = filter(lambda member: (member[\"stats\"][\"avg_open_rate\"] != 0) & (member[\"status\"] == \"subscribed\"), members)\n",
    "list(test)\n",
    "\"\"\""
   ]
  },
  {
   "cell_type": "code",
   "execution_count": 10,
   "id": "386dbb53-54e2-462f-be71-d3641ee6db58",
   "metadata": {},
   "outputs": [
    {
     "name": "stdout",
     "output_type": "stream",
     "text": [
      "Anzahl Subscriber, die keinen Newsletter geöffnet haben und keine Aktivität auf serlo.org haben: 41\n",
      "Ids: ['691f6292ad2656478a067149db04e7da', 'c8d54ff1aad00299498ab075125f6295', '951fec9d40ceb5a160af31de6a403ae8', '821a2ca232ae87b80ae539e0ccd1e59b', '2f15929b9959851fb67a4ffc774a2849', '77d6dd0226118c71886626103c7ab326', '1f65ee1fcb0af5526d44347837c725e0', '80433639f86df9f7ae20f4a452295875', '7e16779e687bd00b1899e85cd9eeaaf3', '42a75916c4319f6d0ec9b66d87031098', 'a2d270b1839c9a32862ecdf223d6513d', '86af5b350ff9cdf802ac717ae552d0be', '98bd23e4668b78a4992ac4c9beacd7ee', 'ab2f597b9df7c63c84047b84e4d81c9c', '1b9530ab2307d45dfe7a5220a5b3dd4a', 'f9da855441a49a629d820703399527ef', '31be3e67edaa25a2b773b03a4f00676e', '73e48bb2a3e5e87729584f0a73eec3cf', '4633c1253d613b59ffee770123865a9c', 'e50156013a0add6cf42bf09963660603', 'f2b4c3268de285ffb21402aab5567de0', '401997bd486191814894905096222fc1', 'e10b1d5c16d76d8f6fe42cfc7dd2eb2f', '85620a47f6d276b61ff1ba73cadabe82', '478c85627404732927a7616e904311dc', '10a04f4d9f00d818e3ab98d42b4285ad', '89602d588d455130e8a9f4937f827d3f', '875c9b5766fd915b953321e72f048209', 'fe5a2798b4bff1d968dd0b1074f5f09b', '7f9f840098c2983a9607fdfdf2786ece', '6af931b52be57759919ff2ce01460086', '84a20183652f5a358f935ca5ddf3c95e', '54061aab47e4845540cab746bde74247', 'ab43587e77cc013c9430e9742593add5', 'b07960608d1d8f86ddd84657dcb3b751', 'd09ea6d450477025e1fcde378b57ea2d', 'd2ff9b588ed3593d4022c3fdb2776f36', 'd5be01067b4d93e688b063394e1dab85', 'aa6284e3eaa0a6bb8fbfb637180596f3', '5d1770ed2d54209d6ca7afb102427b0d', 'b316a93041c7d2a9b3bcf8f69b6ff968']\n"
     ]
    }
   ],
   "source": [
    "def is_possible_fake_account(subscriber):\n",
    "    return subscriber['merge_fields'][\"UNAME\"] in [user['username'] for index, user in compact_inactive_users.iterrows()]\n",
    "\n",
    "filtered = [account for account in linked_account if is_possible_fake_account(account)]\n",
    "print(\n",
    "    f\"Anzahl Subscriber, die keinen Newsletter geöffnet haben und keine Aktivität auf serlo.org haben: {len(filtered)}\"\n",
    ")\n",
    "\n",
    "print(f\"Ids: {[user['id'] for user in filtered]}\")"
   ]
  },
  {
   "cell_type": "code",
   "execution_count": 11,
   "id": "782f3278-3a05-4dab-be13-916007a6fcbf",
   "metadata": {},
   "outputs": [],
   "source": [
    "### Das sind alles Subscriber, von denen wir auch den Account auf serlo.org kennen.\n",
    "### You can check the profile of the users here: serlo.org/{id}\n",
    "### Die Liste der Ids samt Usernamen, die von Serlo gelöscht werden sollen, bitte an moritz@serlo.org schicken oder,\n",
    "### falls nicht verfügbar, an den Admin eures Vertrauens ;)\n",
    "### Falls nur die Subscription gelöscht werden soll, bitte in den nächsten Abschnitt schauen."
   ]
  },
  {
   "cell_type": "code",
   "execution_count": 12,
   "id": "d44f41f7-e29c-4959-a5cc-ccc56317eb03",
   "metadata": {},
   "outputs": [],
   "source": [
    "# TODO: Which information is relevant?\n",
    "not_linked_subscribers = list(\n",
    "    filter(\n",
    "        lambda member: not member[\"merge_fields\"][\"UNAME\"], has_not_opened_newsletter\n",
    "    )\n",
    ")\n",
    "# print(\n",
    "#     pd.json_normalize(not_linked_subscribers)[\n",
    "#         [\"id\", \"email_address\", \"full_name\", \"timestamp_signup\"]\n",
    "#     ]\n",
    "# )"
   ]
  },
  {
   "cell_type": "code",
   "execution_count": 13,
   "id": "e12e4f96-2470-41f7-a058-f2e9dad4a73e",
   "metadata": {},
   "outputs": [],
   "source": [
    "# Fill in here the mailchimp id (important: not the serlo id!) of the subscribers \n",
    "# you want to remove from the newsletter list like that [id1, id2, id3, ...]\n",
    "ids_to_remove = []"
   ]
  },
  {
   "cell_type": "code",
   "execution_count": 14,
   "id": "c610ad3b-910c-4de0-9640-7fe6c64e7424",
   "metadata": {},
   "outputs": [],
   "source": [
    "def delete_url(subscriber_hash):\n",
    "    return f\"/lists/a7bb2bbc4f/members/{subscriber_hash}/actions/delete-permanent\"\n",
    "\n",
    "# Uncomment if we are supposed to delete accounts automatically\n",
    "# for subscriber_hash in ids_to_remove:\n",
    "#     requests.post(delete_url(subscriber_hash), key: MAILCHIMP_API_KEY)"
   ]
  }
 ],
 "metadata": {
  "kernelspec": {
   "display_name": "Python 3 (ipykernel)",
   "language": "python",
   "name": "python3"
  },
  "language_info": {
   "codemirror_mode": {
    "name": "ipython",
    "version": 3
   },
   "file_extension": ".py",
   "mimetype": "text/x-python",
   "name": "python",
   "nbconvert_exporter": "python",
   "pygments_lexer": "ipython3",
   "version": "3.8.10"
  }
 },
 "nbformat": 4,
 "nbformat_minor": 5
}
