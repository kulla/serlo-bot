{
 "cells": [
  {
   "cell_type": "code",
   "execution_count": 7,
   "id": "9bd7a985-b598-4fc1-89ff-b9a7cb6b3922",
   "metadata": {},
   "outputs": [
    {
     "name": "stdout",
     "output_type": "stream",
     "text": [
      "MAILCHIMP_API_KEY········\n"
     ]
    }
   ],
   "source": [
    "from getpass import getpass\n",
    "import requests\n",
    "import pandas as pd\n",
    "import math\n",
    "from serlo.mysql import db\n",
    "\n",
    "MAILCHIMP_API_KEY = getpass(\"MAILCHIMP_API_KEY\")\n",
    "dc = MAILCHIMP_API_KEY.split(\"-\")[1]\n",
    "\n",
    "mailchimp_api_url = f\"https://{dc}.api.mailchimp.com/3.0/lists/a7bb2bbc4f/members\""
   ]
  },
  {
   "cell_type": "code",
   "execution_count": 8,
   "id": "026021fd-2062-4dec-bd97-6d5913af262c",
   "metadata": {},
   "outputs": [],
   "source": [
    "# Hier das Datum eintragen, ab dem Subscriptions gesucht werden sollen.\n",
    "\n",
    "date = \"2020-03-01T00:00:00+00:00\""
   ]
  },
  {
   "cell_type": "code",
   "execution_count": 16,
   "id": "ff6590b4-1f48-4531-9cff-6b00891e1553",
   "metadata": {},
   "outputs": [
    {
     "name": "stderr",
     "output_type": "stream",
     "text": [
      "/tmp/ipykernel_8762/1782927800.py:2: UserWarning: pandas only supports SQLAlchemy connectable (engine/connection) or database string URI or sqlite3 DBAPI2 connection. Other DBAPI2 objects are not tested. Please consider using SQLAlchemy.\n",
      "  df = pd.read_sql(\"\"\"\n"
     ]
    }
   ],
   "source": [
    "# TODO: Entscheiden, ob die Description hier rausgenommen wird, da es ein anderer Anwendungsfall ist\n",
    "df = pd.read_sql(\n",
    "    \"\"\"\n",
    "    Select\n",
    "        user.id as serlo_id,\n",
    "        user.username,\n",
    "        user.description,\n",
    "        user.date,\n",
    "        sum(events.edits) as edits,\n",
    "        sum(events.reviews) as reviews,\n",
    "        sum(events.comments) as comments,\n",
    "        sum(events.taxonomy) as taxonomy\n",
    "    From (\n",
    "        SELECT\n",
    "            IF(event_log.event_id = 5, 1, 0) as edits,\n",
    "            IF(event_log.event_id in (6,11), 1, 0) as reviews,\n",
    "            IF(event_log.event_id in (8,9,14,16), 1, 0) as comments,\n",
    "            IF(event_log.event_id in (1,2,12,15,17), 1, 0) as taxonomy,\n",
    "            event_log.actor_id\n",
    "        FROM event_log\n",
    "        WHERE event_log.event_id IN (5,6,11,8,9,14,16,1,2,12,15,17)\n",
    "    ) events\n",
    "    right join user on user.id = events.actor_id\n",
    "    group by user.id\n",
    "\"\"\",\n",
    "    db,\n",
    ")\n",
    "\n",
    "df.fillna(0, inplace=True)\n",
    "\n",
    "df[\"date\"] = df[\"date\"].map(pd.to_datetime)\n",
    "inactive_users = df[\n",
    "    (df[\"edits\"] + df[\"reviews\"] + df[\"taxonomy\"] == 0)\n",
    "    & (df[\"description\"] != \"NULL\")\n",
    "    & (df[\"description\"] != \"\")\n",
    "    & (df[\"date\"] < pd.to_datetime(\"2021-12-01\"))\n",
    "].copy()\n",
    "inactive_users.sort_values([\"date\"], inplace=True)\n",
    "inactive_users\n",
    "\n",
    "compact_inactive_users = inactive_users[[\"serlo_id\", \"username\"]]"
   ]
  },
  {
   "cell_type": "code",
   "execution_count": 17,
   "id": "3dfcca8d-78c9-4bd2-a7fb-6048f41c7ddf",
   "metadata": {},
   "outputs": [
    {
     "name": "stdout",
     "output_type": "stream",
     "text": [
      "Anzahl der Newsletter-Subscriptions: 8189\n"
     ]
    }
   ],
   "source": [
    "subscribers = requests.get(\n",
    "    mailchimp_api_url,\n",
    "    params={\n",
    "        \"apikey\": MAILCHIMP_API_KEY,\n",
    "        \"status\": \"subscribed\",\n",
    "        \"fields\": \"total_items\",\n",
    "    },\n",
    ")\n",
    "total_subs = subscribers.json()[\"total_items\"]\n",
    "print(f\"Anzahl der Newsletter-Subscriptions: {total_subs}\")"
   ]
  },
  {
   "cell_type": "code",
   "execution_count": 18,
   "id": "a5991636-8d9b-47d4-bbbc-2e99ebc39454",
   "metadata": {},
   "outputs": [],
   "source": [
    "subscribers = []\n",
    "for i in range(math.ceil(total_subs / 1000)):\n",
    "    subscribers.extend(\n",
    "        requests.get(\n",
    "            mailchimp_api_url,\n",
    "            params={\n",
    "                \"apikey\": MAILCHIMP_API_KEY,\n",
    "                \"status\": \"subscribed\",\n",
    "                \"since_timestamp_opt\": date,\n",
    "                \"offset\": (i * 1000),\n",
    "                \"count\": 1000,\n",
    "            },\n",
    "        ).json()[\"members\"]\n",
    "    )"
   ]
  },
  {
   "cell_type": "code",
   "execution_count": null,
   "id": "91eb6d7b-4cef-4a6c-ac5b-d1036af17f25",
   "metadata": {},
   "outputs": [],
   "source": [
    "has_not_opened_newsletter = list(\n",
    "    filter(lambda subscriber: (subscriber[\"stats\"][\"avg_open_rate\"] == 0), subscribers)\n",
    ")\n",
    "\n",
    "print(\n",
    "    f\"Anzahl Subscriber, die keinen Newsletter geöffnet haben: {len(has_not_opened_newsletter)}\"\n",
    ")"
   ]
  },
  {
   "cell_type": "code",
   "execution_count": 55,
   "id": "493793f7-d2f9-4c9d-a6a8-80f2bbf53607",
   "metadata": {},
   "outputs": [
    {
     "data": {
      "text/html": [
       "<div>\n",
       "<style scoped>\n",
       "    .dataframe tbody tr th:only-of-type {\n",
       "        vertical-align: middle;\n",
       "    }\n",
       "\n",
       "    .dataframe tbody tr th {\n",
       "        vertical-align: top;\n",
       "    }\n",
       "\n",
       "    .dataframe thead th {\n",
       "        text-align: right;\n",
       "    }\n",
       "</style>\n",
       "<table border=\"1\" class=\"dataframe\">\n",
       "  <thead>\n",
       "    <tr style=\"text-align: right;\">\n",
       "      <th></th>\n",
       "    </tr>\n",
       "  </thead>\n",
       "  <tbody>\n",
       "  </tbody>\n",
       "</table>\n",
       "</div>"
      ],
      "text/plain": [
       "Empty DataFrame\n",
       "Columns: []\n",
       "Index: []"
      ]
     },
     "execution_count": 55,
     "metadata": {},
     "output_type": "execute_result"
    }
   ],
   "source": [
    "merged_data = {}\n",
    "\n",
    "for subscriber in has_not_opened_newsletter:\n",
    "    unique_key = subscriber[\"merge_fields\"][\"UNAME\"]\n",
    "    merged_data[unique_key] = subscriber\n",
    "\n",
    "for index, user in compact_inactive_users.iterrows():\n",
    "    #     print(user)\n",
    "    unique_key = user[\"username\"]\n",
    "    if unique_key in merged_data:\n",
    "        merged_data[unique_key].update(user)\n",
    "\n",
    "linked_account = list(\n",
    "    value\n",
    "    for value in merged_data.values()\n",
    "    if all(key in value for key in (\"serlo_id\", \"id\"))\n",
    ")\n",
    "df = pd.json_normalize(linked_account)\n",
    "df.rename(columns={\"id\": \"mailchimp_id\"}, inplace=True)\n",
    "# print(df[\"serlo_id\", \"username\", \"mailchimp_id\", \"email_address\", \"full_name\",])\n",
    "df"
   ]
  },
  {
   "cell_type": "code",
   "execution_count": null,
   "id": "afc6c896-40da-4af8-8f5d-49ea7618fca3",
   "metadata": {},
   "outputs": [],
   "source": [
    "\"\"\"\n",
    "Das ist Code, den ich zum Testen verwende.\n",
    "\n",
    "MY_TEST_MAILCHIMP_API_KEY = \"\"\n",
    "dc2 = MY_TEST_MAILCHIMP_API_KEY.split('-')[1]\n",
    "act_url = f\"https://{dc2}.api.mailchimp.com/3.0/lists/66709f13c5/members\"\n",
    "activity = requests.get(act_url, params = {\"apikey\": MY_TEST_MAILCHIMP_API_KEY})\n",
    "activity.json()\n",
    "\"\"\""
   ]
  },
  {
   "cell_type": "code",
   "execution_count": null,
   "id": "52fb8c26-3d63-4e92-bb88-de8ec77cef92",
   "metadata": {},
   "outputs": [],
   "source": [
    "\"\"\"\n",
    "members = activity.json()[\"members\"]\n",
    "test = filter(lambda member: (member[\"stats\"][\"avg_open_rate\"] != 0) & (member[\"status\"] == \"subscribed\"), members)\n",
    "list(test)\n",
    "\"\"\""
   ]
  },
  {
   "cell_type": "code",
   "execution_count": 57,
   "id": "9cb11f31-ce7f-4530-a6d7-337331dc8a60",
   "metadata": {},
   "outputs": [],
   "source": [
    "def is_possible_fake_account(subscriber):\n",
    "    return subscriber[\"UNAME\"] in [user[\"username\"] for user in compact_inactive_users]"
   ]
  },
  {
   "cell_type": "code",
   "execution_count": 59,
   "id": "386dbb53-54e2-462f-be71-d3641ee6db58",
   "metadata": {},
   "outputs": [
    {
     "ename": "KeyError",
     "evalue": "'UNAME'",
     "output_type": "error",
     "traceback": [
      "\u001b[0;31m---------------------------------------------------------------------------\u001b[0m",
      "\u001b[0;31mKeyError\u001b[0m                                  Traceback (most recent call last)",
      "Cell \u001b[0;32mIn[59], line 2\u001b[0m\n\u001b[1;32m      1\u001b[0m \u001b[38;5;66;03m# filtered = filter(lambda subscriber: is_possible_fake_account(subscriber), linked_account)\u001b[39;00m\n\u001b[0;32m----> 2\u001b[0m filtered \u001b[38;5;241m=\u001b[39m \u001b[38;5;28mfilter\u001b[39m(\u001b[43mis_possible_fake_account\u001b[49m\u001b[43m(\u001b[49m\u001b[43msubscriber\u001b[49m\u001b[43m)\u001b[49m, linked_account)\n\u001b[1;32m      3\u001b[0m \u001b[38;5;28mprint\u001b[39m(\u001b[38;5;124m\"\u001b[39m\u001b[38;5;124mAnzahl Subscriber, die keinen Newsletter geöffnet haben und keine Aktivität auf serlo.org haben: \u001b[39m\u001b[38;5;124m\"\u001b[39m \u001b[38;5;241m+\u001b[39m \u001b[38;5;28mlen\u001b[39m(filtered))\n\u001b[1;32m      4\u001b[0m \u001b[38;5;28mprint\u001b[39m(\u001b[38;5;124m\"\u001b[39m\u001b[38;5;124mIds: \u001b[39m\u001b[38;5;124m\"\u001b[39m \u001b[38;5;241m+\u001b[39m filtered\u001b[38;5;241m.\u001b[39mid)\n",
      "Cell \u001b[0;32mIn[57], line 2\u001b[0m, in \u001b[0;36mis_possible_fake_account\u001b[0;34m(subscriber)\u001b[0m\n\u001b[1;32m      1\u001b[0m \u001b[38;5;28;01mdef\u001b[39;00m \u001b[38;5;21mis_possible_fake_account\u001b[39m(subscriber):\n\u001b[0;32m----> 2\u001b[0m     \u001b[38;5;28;01mreturn\u001b[39;00m \u001b[43msubscriber\u001b[49m\u001b[43m[\u001b[49m\u001b[38;5;124;43m\"\u001b[39;49m\u001b[38;5;124;43mUNAME\u001b[39;49m\u001b[38;5;124;43m\"\u001b[39;49m\u001b[43m]\u001b[49m \u001b[38;5;129;01min\u001b[39;00m [user[\u001b[38;5;124m\"\u001b[39m\u001b[38;5;124musername\u001b[39m\u001b[38;5;124m\"\u001b[39m] \u001b[38;5;28;01mfor\u001b[39;00m user \u001b[38;5;129;01min\u001b[39;00m compact_inactive_users]\n",
      "\u001b[0;31mKeyError\u001b[0m: 'UNAME'"
     ]
    }
   ],
   "source": [
    "# filtered = filter(lambda subscriber: is_possible_fake_account(subscriber), linked_account)\n",
    "filtered = filter(is_possible_fake_account(subscriber), linked_account)\n",
    "print(\n",
    "    \"Anzahl Subscriber, die keinen Newsletter geöffnet haben und keine Aktivität auf serlo.org haben: \"\n",
    "    + len(filtered)\n",
    ")\n",
    "print(\"Ids: \" + filtered.id)"
   ]
  },
  {
   "cell_type": "code",
   "execution_count": null,
   "id": "782f3278-3a05-4dab-be13-916007a6fcbf",
   "metadata": {},
   "outputs": [],
   "source": [
    "### Das sind alles Subscriber, von denen wir auch den Account auf serlo.org kennen.\n",
    "### You can check the profile of the users here: serlo.org/{id}\n",
    "### Die Liste der Ids samt Usernamen, die von Serlo gelöscht werden sollen, bitte an moritz@serlo.org schicken oder,\n",
    "### falls nicht verfügbar, an den Admin eures Vertrauens ;)\n",
    "### Falls nur die Subscription gelöscht werden soll, bitte in den nächsten Abschnitt schauen."
   ]
  },
  {
   "cell_type": "code",
   "execution_count": 60,
   "id": "d44f41f7-e29c-4959-a5cc-ccc56317eb03",
   "metadata": {},
   "outputs": [
    {
     "ename": "KeyError",
     "evalue": "\"['stats.timestamp_signup'] not in index\"",
     "output_type": "error",
     "traceback": [
      "\u001b[0;31m---------------------------------------------------------------------------\u001b[0m",
      "\u001b[0;31mKeyError\u001b[0m                                  Traceback (most recent call last)",
      "Cell \u001b[0;32mIn[60], line 3\u001b[0m\n\u001b[1;32m      1\u001b[0m \u001b[38;5;66;03m# TODO: Which information is relevant?\u001b[39;00m\n\u001b[1;32m      2\u001b[0m not_linked_subscribers \u001b[38;5;241m=\u001b[39m \u001b[38;5;28mlist\u001b[39m(\u001b[38;5;28mfilter\u001b[39m(\u001b[38;5;28;01mlambda\u001b[39;00m member: \u001b[38;5;129;01mnot\u001b[39;00m member[\u001b[38;5;124m\"\u001b[39m\u001b[38;5;124mmerge_fields\u001b[39m\u001b[38;5;124m\"\u001b[39m][\u001b[38;5;124m\"\u001b[39m\u001b[38;5;124mUNAME\u001b[39m\u001b[38;5;124m\"\u001b[39m], has_not_opened_newsletter))\n\u001b[0;32m----> 3\u001b[0m \u001b[38;5;28mprint\u001b[39m(\u001b[43mpd\u001b[49m\u001b[38;5;241;43m.\u001b[39;49m\u001b[43mjson_normalize\u001b[49m\u001b[43m(\u001b[49m\u001b[43mnot_linked_subscribers\u001b[49m\u001b[43m)\u001b[49m\u001b[43m[\u001b[49m\u001b[43m[\u001b[49m\u001b[38;5;124;43m\"\u001b[39;49m\u001b[38;5;124;43mid\u001b[39;49m\u001b[38;5;124;43m\"\u001b[39;49m\u001b[43m,\u001b[49m\u001b[43m \u001b[49m\u001b[38;5;124;43m\"\u001b[39;49m\u001b[38;5;124;43memail_address\u001b[39;49m\u001b[38;5;124;43m\"\u001b[39;49m\u001b[43m,\u001b[49m\u001b[43m \u001b[49m\u001b[38;5;124;43m\"\u001b[39;49m\u001b[38;5;124;43mfull_name\u001b[39;49m\u001b[38;5;124;43m\"\u001b[39;49m\u001b[43m,\u001b[49m\u001b[43m \u001b[49m\u001b[38;5;124;43m\"\u001b[39;49m\u001b[38;5;124;43mstats.timestamp_signup\u001b[39;49m\u001b[38;5;124;43m\"\u001b[39;49m\u001b[43m]\u001b[49m\u001b[43m]\u001b[49m)\n",
      "File \u001b[0;32m~/.local/lib/python3.8/site-packages/pandas/core/frame.py:3767\u001b[0m, in \u001b[0;36mDataFrame.__getitem__\u001b[0;34m(self, key)\u001b[0m\n\u001b[1;32m   3765\u001b[0m     \u001b[38;5;28;01mif\u001b[39;00m is_iterator(key):\n\u001b[1;32m   3766\u001b[0m         key \u001b[38;5;241m=\u001b[39m \u001b[38;5;28mlist\u001b[39m(key)\n\u001b[0;32m-> 3767\u001b[0m     indexer \u001b[38;5;241m=\u001b[39m \u001b[38;5;28;43mself\u001b[39;49m\u001b[38;5;241;43m.\u001b[39;49m\u001b[43mcolumns\u001b[49m\u001b[38;5;241;43m.\u001b[39;49m\u001b[43m_get_indexer_strict\u001b[49m\u001b[43m(\u001b[49m\u001b[43mkey\u001b[49m\u001b[43m,\u001b[49m\u001b[43m \u001b[49m\u001b[38;5;124;43m\"\u001b[39;49m\u001b[38;5;124;43mcolumns\u001b[39;49m\u001b[38;5;124;43m\"\u001b[39;49m\u001b[43m)\u001b[49m[\u001b[38;5;241m1\u001b[39m]\n\u001b[1;32m   3769\u001b[0m \u001b[38;5;66;03m# take() does not accept boolean indexers\u001b[39;00m\n\u001b[1;32m   3770\u001b[0m \u001b[38;5;28;01mif\u001b[39;00m \u001b[38;5;28mgetattr\u001b[39m(indexer, \u001b[38;5;124m\"\u001b[39m\u001b[38;5;124mdtype\u001b[39m\u001b[38;5;124m\"\u001b[39m, \u001b[38;5;28;01mNone\u001b[39;00m) \u001b[38;5;241m==\u001b[39m \u001b[38;5;28mbool\u001b[39m:\n",
      "File \u001b[0;32m~/.local/lib/python3.8/site-packages/pandas/core/indexes/base.py:5877\u001b[0m, in \u001b[0;36mIndex._get_indexer_strict\u001b[0;34m(self, key, axis_name)\u001b[0m\n\u001b[1;32m   5874\u001b[0m \u001b[38;5;28;01melse\u001b[39;00m:\n\u001b[1;32m   5875\u001b[0m     keyarr, indexer, new_indexer \u001b[38;5;241m=\u001b[39m \u001b[38;5;28mself\u001b[39m\u001b[38;5;241m.\u001b[39m_reindex_non_unique(keyarr)\n\u001b[0;32m-> 5877\u001b[0m \u001b[38;5;28;43mself\u001b[39;49m\u001b[38;5;241;43m.\u001b[39;49m\u001b[43m_raise_if_missing\u001b[49m\u001b[43m(\u001b[49m\u001b[43mkeyarr\u001b[49m\u001b[43m,\u001b[49m\u001b[43m \u001b[49m\u001b[43mindexer\u001b[49m\u001b[43m,\u001b[49m\u001b[43m \u001b[49m\u001b[43maxis_name\u001b[49m\u001b[43m)\u001b[49m\n\u001b[1;32m   5879\u001b[0m keyarr \u001b[38;5;241m=\u001b[39m \u001b[38;5;28mself\u001b[39m\u001b[38;5;241m.\u001b[39mtake(indexer)\n\u001b[1;32m   5880\u001b[0m \u001b[38;5;28;01mif\u001b[39;00m \u001b[38;5;28misinstance\u001b[39m(key, Index):\n\u001b[1;32m   5881\u001b[0m     \u001b[38;5;66;03m# GH 42790 - Preserve name from an Index\u001b[39;00m\n",
      "File \u001b[0;32m~/.local/lib/python3.8/site-packages/pandas/core/indexes/base.py:5941\u001b[0m, in \u001b[0;36mIndex._raise_if_missing\u001b[0;34m(self, key, indexer, axis_name)\u001b[0m\n\u001b[1;32m   5938\u001b[0m     \u001b[38;5;28;01mraise\u001b[39;00m \u001b[38;5;167;01mKeyError\u001b[39;00m(\u001b[38;5;124mf\u001b[39m\u001b[38;5;124m\"\u001b[39m\u001b[38;5;124mNone of [\u001b[39m\u001b[38;5;132;01m{\u001b[39;00mkey\u001b[38;5;132;01m}\u001b[39;00m\u001b[38;5;124m] are in the [\u001b[39m\u001b[38;5;132;01m{\u001b[39;00maxis_name\u001b[38;5;132;01m}\u001b[39;00m\u001b[38;5;124m]\u001b[39m\u001b[38;5;124m\"\u001b[39m)\n\u001b[1;32m   5940\u001b[0m not_found \u001b[38;5;241m=\u001b[39m \u001b[38;5;28mlist\u001b[39m(ensure_index(key)[missing_mask\u001b[38;5;241m.\u001b[39mnonzero()[\u001b[38;5;241m0\u001b[39m]]\u001b[38;5;241m.\u001b[39munique())\n\u001b[0;32m-> 5941\u001b[0m \u001b[38;5;28;01mraise\u001b[39;00m \u001b[38;5;167;01mKeyError\u001b[39;00m(\u001b[38;5;124mf\u001b[39m\u001b[38;5;124m\"\u001b[39m\u001b[38;5;132;01m{\u001b[39;00mnot_found\u001b[38;5;132;01m}\u001b[39;00m\u001b[38;5;124m not in index\u001b[39m\u001b[38;5;124m\"\u001b[39m)\n",
      "\u001b[0;31mKeyError\u001b[0m: \"['stats.timestamp_signup'] not in index\""
     ]
    }
   ],
   "source": [
    "# TODO: Which information is relevant?\n",
    "not_linked_subscribers = list(\n",
    "    filter(\n",
    "        lambda member: not member[\"merge_fields\"][\"UNAME\"], has_not_opened_newsletter\n",
    "    )\n",
    ")\n",
    "print(\n",
    "    pd.json_normalize(not_linked_subscribers)[\n",
    "        [\"id\", \"email_address\", \"full_name\", \"stats.timestamp_signup\"]\n",
    "    ]\n",
    ")"
   ]
  },
  {
   "cell_type": "code",
   "execution_count": null,
   "id": "e12e4f96-2470-41f7-a058-f2e9dad4a73e",
   "metadata": {},
   "outputs": [],
   "source": [
    "# Fill in here the mailchimp id (important: not the serlo id!) of the subscribers you want to remove from the newsletter list like that [id1, id2, id3, ...]\n",
    "# TODO: Abklären, ob die komplett gelöscht werden sollen oder nur unsubscribed.\n",
    "ids_to_remove = []"
   ]
  },
  {
   "cell_type": "code",
   "execution_count": null,
   "id": "c610ad3b-910c-4de0-9640-7fe6c64e7424",
   "metadata": {},
   "outputs": [],
   "source": [
    "delete_url(subscriber_hash):\n",
    "    return f\"/lists/a7bb2bbc4f/members/{subscriber_hash}/actions/delete-permanent\"\n",
    "\n",
    "# for subscriber_hash in ids_to_remove:\n",
    "#     requests.post(delete_url(subscriber_hash), key: MAILCHIMP_API_KEY)"
   ]
  },
  {
   "cell_type": "code",
   "execution_count": null,
   "id": "4d7af3cb-4fe2-4591-9cc2-1ae63bdd0df8",
   "metadata": {},
   "outputs": [],
   "source": []
  }
 ],
 "metadata": {
  "kernelspec": {
   "display_name": "Python 3 (ipykernel)",
   "language": "python",
   "name": "python3"
  },
  "language_info": {
   "codemirror_mode": {
    "name": "ipython",
    "version": 3
   },
   "file_extension": ".py",
   "mimetype": "text/x-python",
   "name": "python",
   "nbconvert_exporter": "python",
   "pygments_lexer": "ipython3",
   "version": "3.8.10"
  }
 },
 "nbformat": 4,
 "nbformat_minor": 5
}
