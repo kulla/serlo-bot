{
 "cells": [
  {
   "cell_type": "code",
   "execution_count": 1,
   "id": "e23a6409",
   "metadata": {},
   "outputs": [
    {
     "name": "stdout",
     "output_type": "stream",
     "text": [
      "Serlo-Username: ········\n",
      "Serlo-Password: ········\n"
     ]
    }
   ],
   "source": [
    "from serlo import SerloBot, Environment\n",
    "\n",
    "bot = SerloBot(Environment.STAGING)\n",
    "bot.login()"
   ]
  },
  {
   "cell_type": "code",
   "execution_count": 4,
   "id": "7c43272d",
   "metadata": {
    "scrolled": true
   },
   "outputs": [
    {
     "data": {
      "text/plain": [
       "{'revisionId': 1496,\n",
       " 'entityId': 1495,\n",
       " 'repositoryId': 1495,\n",
       " 'type': 'article',\n",
       " 'title': 'Addition',\n",
       " 'content': '[[{\"col\":24,\"content\":\"Die **Addition**, umgangssprachlich auch **Plus-Rechnen** genannt, ist eine der vier  [Grundrechenarten](/1871) . In der Grundschule und in der Umgangssprache verwendet man meist den Ausdruck **Zusammenz\\\\u00e4hlen** f\\\\u00fcr die Addition von zwei oder mehr Zahlen, da Addition den Vorgang des Z\\\\u00e4hlens beschreibt.\\\\n\\\\n\\\\u00a0\\\\n\\\\nDie Elemente bzw. Operanden einer Addition werden\\\\u00a0**Summanden**\\\\u00a0und das Ergebnis\\\\u00a0**Summe**\\\\u00a0genannt:\\\\u00a0\\\\n\\\\n1. Summand + 2. Summand = Summe\\\\n\\\\nEine Summe muss aber nicht nur aus 2 Summanden bestehen, sie kann auch aus mehreren Summanden bestehen.\\\\u00a0\\\\n\\\\n\\\\u00a0\\\\n\\\\nIm Allgemeinen ist die Addition nicht f\\\\u00fcr f\\\\u00fcr Zahlen definiert. Vektoren kann man zum Beispiel auch miteinander addieren. Die Grundrechenart, die eine Addition \\\\\"r\\\\u00fcckg\\\\u00e4ngig\\\\\" macht, ist\\\\u00a0** [Subtraktion](/1507) **.\\\\u00a0\\\\n\\\\n\\\\n# Anschauung\\\\n\\\\nDie Addition beschreibt der Vorgang des Zusammenz\\\\u00e4hlens. \\\\u00a0Man bringt also zwei Zahlen (oder zwei Sachen) zusammen, und macht daraus eine neue.\\\\n\\\\n\\\\u00a0\\\\n\\\\n\\\\n### Beispiel\\\\n\\\\n\"}],[{\"col\":12,\"content\":\"Nimmt man zwei Kreise, und tut 3 Kreise dazu, so bekommt man 5 Kreise.\"},{\"col\":12,\"content\":\"\\\\n\\\\n![Geogebra File: \\\\/uploads\\\\/legacy\\\\/7881_M0szn1FMdb.xml](\\\\/uploads\\\\/legacy\\\\/7882_Zr8ENblk1o.png)\"}],[{\"col\":24,\"content\":\"\\\\n\\\\n\\\\u00a0 \\\\u00a0\\\\n\\\\n\\\\n# Rechenregeln\\\\n\\\\nGrunds\\\\u00e4tzlich gelten f\\\\u00fcr die Addition folgende Rechengesetze:\\\\n\\\\n\\\\u00a0\\\\n\\\\n\\\\n## Summanden vertauschen - Kommutativgesetz\\\\u00a0 [Artikel zum Thema](/1679) \\\\n\\\\nMan kann zwei Summanden miteinander vertauschen, ohne das Ergebnis zu ver\\\\u00e4ndern.\\\\n\\\\n\\\\u00a0\\\\n\\\\n\"}],[{\"col\":12,\"content\":\"### Beispiel\\\\n\\\\nNimmt man nun 3 Kreise, und z\\\\u00e4hlt 2 dazu, so bekommt man wieder 5 Kreise.\"},{\"col\":12,\"content\":\"\\\\n\\\\n![Geogebra File: \\\\/uploads\\\\/legacy\\\\/7883_ves6ZfxdeD.xml](\\\\/uploads\\\\/legacy\\\\/7884_Qdvczaa6WD.png)\"}],[{\"col\":24,\"content\":\"\\\\n\\\\n\\\\u00a0\\\\u00a0\\\\n\\\\n\\\\n## Klammergesetz - Assoziativgesetz  [Artikel zum Thema](/1671) \\\\n\\\\nBeim Rechnen mit mehreren Zahlen benutzen wir Klammern um zu zeigen, welche Teile man zuerst rechnen will. Beim addieren darf man die Klammern beliebig umplatzieren, ohne das Ergebnis zu ver\\\\u00e4ndern.\\\\n\\\\n\"}],[{\"col\":12,\"content\":\"### Beispiel\\\\n\\\\nZ\\\\u00e4hlt man 1 Kreis und 2 Kreise zuerst zusammen, dann 3 dazu, bekommt man 6 Kreise.\\\\n\\\\nZ\\\\u00e4hlt man nun zuerst die zwei Kreise mit den 3 Kreisen zusammen, dann den einen Kreis dazu, bekommt man auch 6 Kreise.\"},{\"col\":12,\"content\":\"\\\\n\\\\n![Geogebra File: \\\\/uploads\\\\/legacy\\\\/7891_JT3ZPEhuGx.xml](\\\\/uploads\\\\/legacy\\\\/7892_IuG4ObbrA9.png)\"}],[{\"col\":24,\"content\":\"\\\\n\\\\n\\\\u00a0 \\\\u00a0\\\\n\\\\n\\\\n## Die besondere Zahl - Null\\\\n\\\\nF\\\\u00fcr die Zahl Null gilt:\\\\n\\\\n\\\\n\\\\n1. Z\\\\u00e4hlt man zu etwas 0 dazu, so bleibt die Summe gleich.\\\\n\\\\n2. Wenn man zu eine Zahl etwas addiert und die Summe sich nicht \\\\u00e4ndert, dann war es die Null, die man dazu addiert hat. Mit Formeln ausgedr\\\\u00fctckt: falls f\\\\u00fcr zwei Zahlen a und b gilt a + b = a, dann muss gelten b = 0.\\\\n\\\\n\\\\u00a0 \\\\u00a0\\\\n\\\\n\\\\n# Addition von kleine Zahlen\\\\n\\\\nEs gibt verschiedene M\\\\u00f6glichkeiten eine Summe von einstellige Zahlen zu berechnen.\\\\u00a0\\\\n\\\\n\\\\u00a0 \\\\u00a0\\\\n\\\\nAddition mit Zahlengerade  [Artikel zum Thema](/2067) \\\\n\\\\nZahlengerade zu benutzen ist die anschaulichste M\\\\u00f6glichkeit, eine einfache Summe zu berechnen. Um zum Beispiel \\\\u00a02 + 3\\\\u00a0zu berechnen, markiert man zuerst die Zahl 2 auf der Zahlengerade, und geht von dort aus um 3 nach rechts. Die nun markierte Zahl auf dem Zahlengerade ist dann das Ergebnis.\\\\u00a0\\\\n\\\\n![Geogebra File: \\\\/uploads\\\\/legacy\\\\/7997_Gt90w4vq78.xml](\\\\/uploads\\\\/legacy\\\\/7998_DmDKGEe0jr.png)\\\\n\\\\nMit dieser Methode kann man sich zwar die Addition gut vorstellen, sie ist aber nur f\\\\u00fcr kleine Zahlen geeignet, und kostet sehr viel Zeit.\\\\n\\\\n\\\\u00a0\\\\u00a0\\\\n\\\\n\\\\n## Merktabelle\\\\n\\\\nUm sp\\\\u00e4ter gr\\\\u00f6\\\\u00dfere Zahlen addieren zu k\\\\u00f6nnen, ist es schneller die Summe von kleinen Zahlen auswendig zu lernen. (Wegen der Kommutativit\\\\u00e4t muss die Reihenfolge nicht beachtet werden.) Diese Tabelle schaut sehr riesig aus, ist aber nicht schwer zu merken, da man im Alltag ohnehin oft Sachen zusammenz\\\\u00e4hlt.\\\\n\\\\n\"}],[{\"col\":24,\"content\":\"<table>\\\\n<tr> <td> **+** <\\\\/td>\\\\n\\\\n<td> **0** <\\\\/td>\\\\n\\\\n<td> **1** <\\\\/td>\\\\n\\\\n<td> **2** <\\\\/td>\\\\n\\\\n<td> **3** <\\\\/td>\\\\n\\\\n<td> **4** <\\\\/td>\\\\n\\\\n<td> **5** <\\\\/td>\\\\n\\\\n<td> **6** <\\\\/td>\\\\n\\\\n<td> **7** <\\\\/td>\\\\n\\\\n<td> **8** <\\\\/td>\\\\n\\\\n<td> **9** <\\\\/td> <\\\\/tr>\\\\n<\\\\/table>\"}],[{\"col\":24,\"content\":\"<table>\\\\n<tr>\\\\n\\\\n <td> **0** <\\\\/td>\\\\n\\\\n<td> 0 <\\\\/td>\\\\n\\\\n<td> 1 <\\\\/td>\\\\n\\\\n<td> 2 <\\\\/td>\\\\n\\\\n<td> 3 <\\\\/td>\\\\n\\\\n<td> 4 <\\\\/td>\\\\n\\\\n<td> 5 <\\\\/td>\\\\n\\\\n<td> 6 <\\\\/td>\\\\n\\\\n<td> 7 <\\\\/td>\\\\n\\\\n<td> 8 <\\\\/td>\\\\n\\\\n<td> 9 <\\\\/td> <\\\\/tr>\\\\n<\\\\/table>\"}],[{\"col\":24,\"content\":\"<table>\\\\n<tr>\\\\n\\\\n <td> **1** <\\\\/td>\\\\n\\\\n<td> 1 <\\\\/td>\\\\n\\\\n<td> 2 <\\\\/td>\\\\n\\\\n<td> 3 <\\\\/td>\\\\n\\\\n<td> 4 <\\\\/td>\\\\n\\\\n<td> 5 <\\\\/td>\\\\n\\\\n<td> 6 <\\\\/td>\\\\n\\\\n<td> 7 <\\\\/td>\\\\n\\\\n<td> 8 <\\\\/td>\\\\n\\\\n<td> 9 <\\\\/td>\\\\n\\\\n<td> 10 <\\\\/td> <\\\\/tr>\\\\n<\\\\/table>\"}],[{\"col\":24,\"content\":\"<table>\\\\n<tr>\\\\n\\\\n <td> **2** <\\\\/td>\\\\n\\\\n<td> 2 <\\\\/td>\\\\n\\\\n<td> 3 <\\\\/td>\\\\n\\\\n<td> 4 <\\\\/td>\\\\n\\\\n<td> 5 <\\\\/td>\\\\n\\\\n<td> 6 <\\\\/td>\\\\n\\\\n<td> 7 <\\\\/td>\\\\n\\\\n<td> 8 <\\\\/td>\\\\n\\\\n<td> 9 <\\\\/td>\\\\n\\\\n<td> 10 <\\\\/td>\\\\n\\\\n<td> 11 <\\\\/td> <\\\\/tr>\\\\n<\\\\/table>\"}],[{\"col\":24,\"content\":\"<table>\\\\n<tr>\\\\n\\\\n <td> **3** <\\\\/td>\\\\n\\\\n<td> 3 <\\\\/td>\\\\n\\\\n<td> 4 <\\\\/td>\\\\n\\\\n<td> 5 <\\\\/td>\\\\n\\\\n<td> 6 <\\\\/td>\\\\n\\\\n<td> 7 <\\\\/td>\\\\n\\\\n<td> 8 <\\\\/td>\\\\n\\\\n<td> 9 <\\\\/td>\\\\n\\\\n<td> 10 <\\\\/td>\\\\n\\\\n<td> 11 <\\\\/td>\\\\n\\\\n<td> 12 <\\\\/td> <\\\\/tr>\\\\n<\\\\/table>\"}],[{\"col\":24,\"content\":\"<table>\\\\n<tr>\\\\n\\\\n <td> **4** <\\\\/td>\\\\n\\\\n<td> 4 <\\\\/td>\\\\n\\\\n<td> 5 <\\\\/td>\\\\n\\\\n<td> 6 <\\\\/td>\\\\n\\\\n<td> 7 <\\\\/td>\\\\n\\\\n<td> 8 <\\\\/td>\\\\n\\\\n<td> 9 <\\\\/td>\\\\n\\\\n<td> 10 <\\\\/td>\\\\n\\\\n<td> 11 <\\\\/td>\\\\n\\\\n<td> 12 <\\\\/td>\\\\n\\\\n<td> 13 <\\\\/td> <\\\\/tr>\\\\n<\\\\/table>\"}],[{\"col\":24,\"content\":\"<table>\\\\n<tr>\\\\n\\\\n <td> **5** <\\\\/td>\\\\n\\\\n<td> 5 <\\\\/td>\\\\n\\\\n<td> 6 <\\\\/td>\\\\n\\\\n<td> 7 <\\\\/td>\\\\n\\\\n<td> 8 <\\\\/td>\\\\n\\\\n<td> 9 <\\\\/td>\\\\n\\\\n<td> 10 <\\\\/td>\\\\n\\\\n<td> 11 <\\\\/td>\\\\n\\\\n<td> 12 <\\\\/td>\\\\n\\\\n<td> 13 <\\\\/td>\\\\n\\\\n<td> 14 <\\\\/td> <\\\\/tr>\\\\n<\\\\/table>\"}],[{\"col\":24,\"content\":\"<table>\\\\n<tr>\\\\n\\\\n <td> **6** <\\\\/td>\\\\n\\\\n<td> 6 <\\\\/td>\\\\n\\\\n<td> 7 <\\\\/td>\\\\n\\\\n<td> 8 <\\\\/td>\\\\n\\\\n<td> 9 <\\\\/td>\\\\n\\\\n<td> 10 <\\\\/td>\\\\n\\\\n<td> 11 <\\\\/td>\\\\n\\\\n<td> 12 <\\\\/td>\\\\n\\\\n<td> 13 <\\\\/td>\\\\n\\\\n<td> 14 <\\\\/td>\\\\n\\\\n<td> 15 <\\\\/td> <\\\\/tr>\\\\n<\\\\/table>\"}],[{\"col\":24,\"content\":\"<table>\\\\n<tr>\\\\n\\\\n <td> **7** <\\\\/td>\\\\n\\\\n<td> 7 <\\\\/td>\\\\n\\\\n<td> 8 <\\\\/td>\\\\n\\\\n<td> 9 <\\\\/td>\\\\n\\\\n<td> 10 <\\\\/td>\\\\n\\\\n<td> 11 <\\\\/td>\\\\n\\\\n<td> 12 <\\\\/td>\\\\n\\\\n<td> 13 <\\\\/td>\\\\n\\\\n<td> 14 <\\\\/td>\\\\n\\\\n<td> 15 <\\\\/td>\\\\n\\\\n<td> 16 <\\\\/td> <\\\\/tr>\\\\n<\\\\/table>\"}],[{\"col\":24,\"content\":\"<table>\\\\n<tr>\\\\n\\\\n <td> **8 \\\\u00a0** <\\\\/td>\\\\n\\\\n<td> 8 <\\\\/td>\\\\n\\\\n<td> 9 <\\\\/td>\\\\n\\\\n<td> 10 <\\\\/td>\\\\n\\\\n<td> 11 <\\\\/td>\\\\n\\\\n<td> 12 <\\\\/td>\\\\n\\\\n<td> 13 <\\\\/td>\\\\n\\\\n<td> 14 <\\\\/td>\\\\n\\\\n<td> 15 <\\\\/td>\\\\n\\\\n<td> 16 <\\\\/td>\\\\n\\\\n<td> 17 <\\\\/td> <\\\\/tr>\\\\n<\\\\/table>\"}],[{\"col\":24,\"content\":\"<table>\\\\n<tr>\\\\n\\\\n <td> **9** <\\\\/td>\\\\n\\\\n<td> 9 <\\\\/td>\\\\n\\\\n<td> 10 <\\\\/td>\\\\n\\\\n<td> 11 <\\\\/td>\\\\n\\\\n<td> 12 <\\\\/td>\\\\n\\\\n<td> 13 <\\\\/td>\\\\n\\\\n<td> 14 <\\\\/td>\\\\n\\\\n<td> 15 <\\\\/td>\\\\n\\\\n<td> 16 <\\\\/td>\\\\n\\\\n<td> 17 <\\\\/td>\\\\n\\\\n<td> 18 <\\\\/td> <\\\\/tr>\\\\n<\\\\/table>\"}],[{\"col\":24,\"content\":\"\\\\n\\\\n\\\\u00a0\\\\u00a0\\\\n\\\\n\\\\n### Wie benutzt man die Merktabelle?\\\\n\\\\n\\\\n\\\\n- Suche am roten Randstreifen der erst Summand und liegt der Zeigefinger der linken Hand darauf.\\\\n\\\\n- Suche mit dem rechten Zeigefinger den zweiten Summand unter den blauen Zahlen.\\\\u00a0\\\\n\\\\n- Bewege jetzt beide H\\\\u00e4nde jeweils in den Reihen und Spalten aufeinander zu, bis sie sich treffen. Die Zahl, die jetzt unter beiden Zeigefinger liegt, ist das Ergebnis.\\\\n\\\\n\\\\n### \\\\u00a0\\\\n\\\\n\\\\n### Beispiel\\\\n\\\\nIn der folgenden Animation wird die Vorgehensweise anhand von dem Beispiel 2 + 3 = 5 gezeigt.\\\\n\\\\n**[Youtube Video](http:\\\\/\\\\/www.youtube.com\\\\/embed\\\\/elZlZGA0BwA)**\\\\n\\\\n\\\\u00a0\\\\u00a0\\\\n\\\\n\\\\n### \\\\u00dcbungsaufgaben\\\\n\\\\nFinde die folgende Summen in der Additionstabelle:\\\\n\\\\n\\\\n\\\\n1. 9 + 4\\\\n\\\\n2. 8 + 2\\\\n\\\\n\\\\u00a0 \\\\/\\\\/\\\\/ L\\\\u00f6sung\\\\n\\\\n1. 9 + 4 = 13\\\\n\\\\n![Additionstabelle: 9 + 4](\\\\/uploads\\\\/legacy\\\\/8049_aBs4M1wzRD.png \\\\\"Additionstabelle: 9 + 4\\\\\")\\\\n\\\\n\\\\u00a0\\\\n\\\\n2. 8 + 2 = 10\\\\n\\\\n![Additionstabelle:8+2](\\\\/uploads\\\\/legacy\\\\/8052_9kdm56PwrQ.png \\\\\"Additionstabelle:8+2\\\\\")\\\\n\\\\n\\\\u00a0\\\\u00a0 \\\\/\\\\/\\\\/\\\\n\\\\n\\\\u00a0\\\\u00a0\\\\n\\\\n\\\\n# Schriftliche Addition\\\\u00a0 [Artikel zum Thema](/2153) \\\\n\\\\nF\\\\u00fcr Addition mit gr\\\\u00f6\\\\u00dferen Zahlen benutzt man die **schriftliche Addition**.\\\\n\\\\nBei der schriftlichen Addition werden die Summanden untereinander geschrieben und dann von der Einerstelle ausgehend addiert. Bei mehreren Zahlen werden alle Summanden untereinander geschrieben, die Vorgehensweise ist wie bei zwei Zahlen.\\\\n\\\\n\\\\u00a0\\\\u00a0\\\\n\\\\nBeispiel\\\\n\\\\n\"}],[{\"col\":12,\"content\":\"%%\\\\\\\\begin{array}{l}\\\\\\\\underline{\\\\\\\\begin{array}{cccc}\\\\\\\\;&3&6&5\\\\\\\\\\\\\\\\+&\\\\\\\\;&1_1&5\\\\\\\\end{array}}\\\\\\\\\\\\\\\\\\\\\\\\begin{array}{cccc}\\\\\\\\;\\\\\\\\;&3&8\\\\\\\\;&0\\\\\\\\end{array}\\\\\\\\end{array}%% \\\\u00a0\\\\u00a0\"},{\"col\":12,\"content\":\"\\\\n\\\\n1. **Einerstelle addieren:**\\\\u00a0 %%5+5=10%% %%\\\\\\\\;\\\\\\\\;\\\\\\\\Rightarrow\\\\\\\\;\\\\\\\\;%% \\\\u00a0An der Einerstelle des Ergebnisses (unter dem Strich) steht eine 0 und es muss ein Zehner addiert werden %%\\\\\\\\;\\\\\\\\rightarrow\\\\\\\\;%% also 1 bei den 10ern anmerken.\\\\n\\\\n2. **Zehnerstelle addieren:**\\\\u00a0 %%6+1+1=8\\\\\\\\;\\\\\\\\;\\\\\\\\Rightarrow\\\\\\\\;\\\\\\\\;%% Die Zehnerstelle des Ergebnisses ist 8.\\\\n\\\\n3. **Hunderterstellen addieren:\\\\u00a0** %%3+0=3\\\\\\\\;\\\\\\\\;\\\\\\\\Rightarrow\\\\\\\\;\\\\\\\\;%% Die Hunderterstelle des Ergebnisses ist 3.\"}],[{\"col\":24,\"content\":\"\\\\n\\\\n\\\\u00a0\\\\u00a0\\\\n\\\\n\\\\n# Tricks\\\\n\\\\nWegen der Kommutativit\\\\u00e4t und Assoziativit\\\\u00e4t der Addition kann man die Reihenfolge der Summanden beliebig vertauschen. Das liefert einige praktische Tricks bei der Addition vor allem von mehreren Zahlen.\\\\n\\\\n\\\\u00a0 \\\\u00a0\\\\n\\\\n\\\\n## 10er sammeln\\\\n\\\\nBevor man anf\\\\u00e4ngt, mehrere Zahlen von Links nach Rechts zu addieren, kann man versuchen zuerst nach Zahlen zu suchen, die zusammen 10 ergeben. Denn Addition von 10er ist besonders einfach! Daf\\\\u00fcr m\\\\u00fcssen diese Zahlen ist nicht nebeneinander stehen, die Reihenfolge der Addition ist ja egal.\\\\n\\\\n\\\\n### \\\\n\\\\n\\\\n### Beispiel\\\\n\\\\n %%\\\\\\\\begin{array}{l}{\\\\\\\\color[rgb]{0.0, 0.0, 1.0}15}+{\\\\\\\\color[rgb]{0.5, 0.0, 0.0}7}+{\\\\\\\\color[rgb]{0.0, 0.5, 0.0}8}+{\\\\\\\\color[rgb]{0.5, 0.0, 0.0}3}+{\\\\\\\\color[rgb]{0.0, 0.5, 0.0}2}+{\\\\\\\\color[rgb]{0.0, 0.0, 1.0}5}=\\\\\\\\\\\\\\\\=({\\\\\\\\color[rgb]{0.0, 0.0, 1.0}15}+{\\\\\\\\color[rgb]{0.0, 0.0, 1.0}5})+({\\\\\\\\color[rgb]{0.5, 0.0, 0.0}7}+{\\\\\\\\color[rgb]{0.5, 0.0, 0.0}3})+({\\\\\\\\color[rgb]{0.0, 0.5, 0.0}8}+{\\\\\\\\color[rgb]{0.0, 0.5, 0.0}2})\\\\\\\\\\\\\\\\={\\\\\\\\color[rgb]{0.0, 0.0, 1.0}20}+{\\\\\\\\color[rgb]{0.5, 0.0, 0.0}10}+{\\\\\\\\color[rgb]{0.0, 0.5, 0.0}10}\\\\\\\\\\\\\\\\=40\\\\\\\\end{array}%%\\\\n\\\\n\\\\u00a0 \\\\u00a0\\\\n\\\\n\\\\n## Zahlen aufspalten\\\\n\\\\nManchmal ist es einfacher, eine Zahl als eine Summe vorzustellen. Man kann damit oft die Addition auf Addition von einstellige Zahlen reduzieren und sich damit die schriftliche Addition ersparen. Ein einfaches Beispiel zeigt die Vorgehensweise:\\\\n\\\\n\\\\n### Beispiel 1\\\\n\\\\n %%\\\\\\\\begin{array}{l}{\\\\\\\\color[rgb]{0.0, 0.5, 0.0}15}+4=\\\\\\\\\\\\\\\\={\\\\\\\\color[rgb]{0.0, 0.5, 0.0}(}{\\\\\\\\color[rgb]{0.0, 0.5, 0.0}10}{\\\\\\\\color[rgb]{0.0, 0.5, 0.0}+}{\\\\\\\\color[rgb]{0.0, 0.5, 0.0}5}{\\\\\\\\color[rgb]{0.0, 0.5, 0.0})}+4\\\\\\\\\\\\\\\\=10+(5+4)\\\\\\\\\\\\\\\\=10+9\\\\\\\\end{array}%%\\\\n\\\\n\\\\u00a0 \\\\u00a0\\\\n\\\\nDieses Beispiel ist so einfach, dass man gar keine Tricks h\\\\u00e4tte anwenden m\\\\u00fcssen. Allerdings gibt es auch andere Rechnungen, bei denen sich dieser Trick als n\\\\u00fctzlich erweist:\\\\n\\\\n\\\\n### Beispiel 2\\\\n\\\\n %%\\\\\\\\begin{array}{l}{\\\\\\\\color[rgb]{0.0, 0.5, 0.0}401}+126\\\\\\\\\\\\\\\\={\\\\\\\\color[rgb]{0.0, 0.5, 0.0}(}{\\\\\\\\color[rgb]{0.0, 0.5, 0.0}400}{\\\\\\\\color[rgb]{0.0, 0.5, 0.0}+}{\\\\\\\\color[rgb]{0.0, 0.5, 0.0}1}{\\\\\\\\color[rgb]{0.0, 0.5, 0.0})}+126\\\\\\\\\\\\\\\\=(400+126)+1\\\\\\\\\\\\\\\\=526+1\\\\\\\\\\\\\\\\=527\\\\\\\\end{array}%%\\\\n\\\\n\\\\u00a0 \\\\u00a0\\\\n\\\\nMan kann diesen Trick auch in Kombination mit Multiplikation benutzen. Vor allem kann man die Einfachheit des \\\\u00a0\\\\\"Verdoppelns\\\\\" ausnutzen.\\\\n\\\\n\\\\n### Beispiel 3\\\\n\\\\n %%\\\\\\\\begin{array}{l}25+{\\\\\\\\color[rgb]{0.0, 0.5, 0.0}26}\\\\\\\\\\\\\\\\=25+{\\\\\\\\color[rgb]{0.0, 0.5, 0.0}(}{\\\\\\\\color[rgb]{0.0, 0.5, 0.0}25}{\\\\\\\\color[rgb]{0.0, 0.5, 0.0}+}{\\\\\\\\color[rgb]{0.0, 0.5, 0.0}1}{\\\\\\\\color[rgb]{0.0, 0.5, 0.0})}\\\\\\\\\\\\\\\\=25\\\\\\\\cdot2+1\\\\\\\\\\\\\\\\=50+1=51\\\\\\\\end{array}%%\\\\n\\\\n\\\\u00a0 \\\\u00a0\\\\n\\\\n\\\\n## Zahlen aufrunden\\\\n\\\\nIst eine Zahl fast \\\\\"rund\\\\\", das hei\\\\u00dft nahe an einer 100er oder 10er Zahl, kann man es aunutzen um die Addition zu vereinfachen.\\\\n\\\\n\\\\n### Beispiel\\\\n\\\\n %%\\\\\\\\begin{array}{l}{\\\\\\\\color[rgb]{0.0, 0.5, 0.0}395}+126=\\\\\\\\\\\\\\\\={\\\\\\\\color[rgb]{0.0, 0.5, 0.0}(}{\\\\\\\\color[rgb]{0.0, 0.5, 0.0}400}{\\\\\\\\color[rgb]{0.0, 0.5, 0.0}-}{\\\\\\\\color[rgb]{0.0, 0.5, 0.0}5}{\\\\\\\\color[rgb]{0.0, 0.5, 0.0})}+126\\\\\\\\\\\\\\\\=400+126-5\\\\\\\\\\\\\\\\=526-5\\\\\\\\\\\\\\\\=521\\\\\\\\end{array}%%\\\\n\\\\n\\\\u00a0 \\\\u00a0\\\\u00a0\\\\n\\\\n\\\\u00a0\\\\n\\\\n\\\\n# Besondere Additionen\\\\n\\\\n\\\\u00a0Addition kann man nicht nur f\\\\u00fcr Zahlen definieren, auch andere Objekte. Siehe dazu\\\\n\\\\n\\\\n\\\\n-  [Br\\\\u00fcche addieren](/1619) \\\\n\\\\n-  [Vektoren addieren](/1573) \\\\n\\\\n- Addition mit negativen Zahlen\"}]]'}"
      ]
     },
     "execution_count": 4,
     "metadata": {},
     "output_type": "execute_result"
    }
   ],
   "source": [
    "import json\n",
    "import mysql.connector\n",
    "\n",
    "from serlo.mysql import query\n",
    "from IPython.display import display, Markdown, HTML\n",
    "\n",
    "def getAllEntityRevisions():\n",
    "    results = query(\"\"\"\n",
    "        select\n",
    "            max(entity_revision.id),\n",
    "            max(entity.id),\n",
    "            max(type.name),\n",
    "            json_objectagg(entity_revision_field.field, entity_revision_field.value) as fields\n",
    "        from entity_revision\n",
    "            join entity on entity_revision.repository_id = entity.id\n",
    "            join type on entity.type_id = type.id\n",
    "            join entity_revision_field on entity_revision_field.entity_revision_id = entity_revision.id\n",
    "        group by entity_revision.id\n",
    "    \"\"\")\n",
    "    \n",
    "    return [{\n",
    "        \"revisionId\": result[0],\n",
    "        \"entityId\": result[1],\n",
    "        \"repositoryId\": result[1],\n",
    "        \"type\": result[2],\n",
    "        **json.loads(result[3])\n",
    "    } for result in results]\n",
    "\n",
    "getAllEntityRevisions()[0]"
   ]
  },
  {
   "cell_type": "code",
   "execution_count": 5,
   "id": "dfa16f75",
   "metadata": {},
   "outputs": [
    {
     "data": {
      "text/plain": [
       "{'revisionId': 16258,\n",
       " 'repositoryId': 16256,\n",
       " 'title': 'Das Team',\n",
       " 'content': '[[{\"col\":24,\"content\":\"Einen maÃ\\x9fgeblichen Beitrag zu Serlo leisten die aktiven Nutzer, die sich mit der Ausarbeitung und Verbesserung  von LÃ¶sungen und Artikeln beschÃ¤ftigen. Jeder, der aktiv an Serlo arbeitet, kann Mitglied in dem Verein werden. Serlo ist Gemeingut und gehÃ¶rt keinem festen Personenkreis.\\\\n\\\\nOrganisation\\\\n\"}],[{\"col\":6,\"content\":\"![Simon KÃ¶hl](/attachment/file/16257/5)\\\\n>[zum Profil](10)\"},{\"col\":6,\"content\":\"\"},{\"col\":6,\"content\":\"\"},{\"col\":6,\"content\":\"\"}]]',\n",
       " 'date': datetime.datetime(2014, 3, 7, 0, 28, 9),\n",
       " 'trashed': 0,\n",
       " 'type': 'page'}"
      ]
     },
     "execution_count": 5,
     "metadata": {},
     "output_type": "execute_result"
    }
   ],
   "source": [
    "def getAllPageRevisions():\n",
    "    results = query(\"\"\"\n",
    "        select\n",
    "            id, page_repository_id, title, content, date, trashed\n",
    "        from page_revision\n",
    "    \"\"\")\n",
    "    \n",
    "    return [{\n",
    "        \"revisionId\": result[0],\n",
    "        \"repositoryId\": result[1],\n",
    "        \"title\": result[2],\n",
    "        \"content\": result[3],\n",
    "        \"date\": result[4],\n",
    "        \"trashed\": result[5],\n",
    "        \"type\": \"page\"\n",
    "    } for result in results]\n",
    "\n",
    "getAllPageRevisions()[0]"
   ]
  },
  {
   "cell_type": "code",
   "execution_count": 7,
   "id": "e007f420",
   "metadata": {},
   "outputs": [],
   "source": [
    "def parseEdtrState(content):\n",
    "    try:\n",
    "        state = json.loads(content)\n",
    "    except:\n",
    "        return None\n",
    "    \n",
    "    if \"plugin\" not in state:\n",
    "        return None\n",
    "    \n",
    "    return state\n",
    "\n",
    "def stateHasPlugin(plugin, state):\n",
    "    if isinstance(state, dict):\n",
    "        if \"plugin\" in state and state[\"plugin\"] == plugin:\n",
    "            return True\n",
    "        \n",
    "        return any(stateHasPlugin(plugin, value) for value in state.values())\n",
    "    elif isinstance(state, list):\n",
    "        return any(stateHasPlugin(plugin, value) for value in state)\n",
    "    else:\n",
    "        return False\n",
    "\n",
    "def revisionHasPlugin(plugin, revision):\n",
    "    if \"content\" not in revision:\n",
    "        return False\n",
    "    \n",
    "    state = parseEdtrState(revision[\"content\"])\n",
    "    \n",
    "    return stateHasPlugin(plugin, state) if state != None else False"
   ]
  },
  {
   "cell_type": "code",
   "execution_count": 9,
   "id": "5fb8728a",
   "metadata": {},
   "outputs": [
    {
     "data": {
      "text/plain": [
       "2983"
      ]
     },
     "execution_count": 9,
     "metadata": {},
     "output_type": "execute_result"
    }
   ],
   "source": [
    "revisions = getAllPageRevisions() + getAllEntityRevisions()\n",
    "affected_revisions = (r for r in revisions if revisionHasPlugin(\"important\", r) or revisionHasPlugin(\"blockquote\", r))\n",
    "affected_ids = [106081, 41107] + [r[\"revisionId\"] for r in affected_revisions]\n",
    "\n",
    "len(affected_ids)"
   ]
  },
  {
   "cell_type": "code",
   "execution_count": 11,
   "id": "923523fb",
   "metadata": {},
   "outputs": [
    {
     "name": "stdout",
     "output_type": "stream",
     "text": [
      "{'_cache': {'update': {'success': True}}}\n",
      "{'_cache': {'update': {'success': True}}}\n",
      "{'_cache': {'update': {'success': True}}}\n",
      "{'_cache': {'update': {'success': True}}}\n",
      "{'_cache': {'update': {'success': True}}}\n",
      "{'_cache': {'update': {'success': True}}}\n",
      "{'_cache': {'update': {'success': True}}}\n",
      "{'_cache': {'update': {'success': True}}}\n",
      "{'_cache': {'update': {'success': True}}}\n",
      "{'_cache': {'update': {'success': True}}}\n",
      "{'_cache': {'update': {'success': True}}}\n",
      "{'_cache': {'update': {'success': True}}}\n",
      "{'_cache': {'update': {'success': True}}}\n",
      "{'_cache': {'update': {'success': True}}}\n",
      "{'_cache': {'update': {'success': True}}}\n",
      "{'_cache': {'update': {'success': True}}}\n",
      "{'_cache': {'update': {'success': True}}}\n",
      "{'_cache': {'update': {'success': True}}}\n",
      "{'_cache': {'update': {'success': True}}}\n",
      "{'_cache': {'update': {'success': True}}}\n",
      "{'_cache': {'update': {'success': True}}}\n",
      "{'_cache': {'update': {'success': True}}}\n",
      "{'_cache': {'update': {'success': True}}}\n",
      "{'_cache': {'update': {'success': True}}}\n",
      "{'_cache': {'update': {'success': True}}}\n",
      "{'_cache': {'update': {'success': True}}}\n",
      "{'_cache': {'update': {'success': True}}}\n",
      "{'_cache': {'update': {'success': True}}}\n",
      "{'_cache': {'update': {'success': True}}}\n",
      "{'_cache': {'update': {'success': True}}}\n"
     ]
    }
   ],
   "source": [
    "def uuid_key(uuid):\n",
    "    return \"de.serlo.org/api/uuid/%s\" % uuid\n",
    "\n",
    "def update_cache(ids, chunk_size=100):\n",
    "    chunks = [ids[i:i+chunk_size] for i in range(0, len(ids), chunk_size)]\n",
    "    \n",
    "    for chunk in chunks:\n",
    "        result = bot.api_call(\"\"\"\n",
    "            mutation($input: CacheUpdateInput!) {\n",
    "                _cache {\n",
    "                    update(input: $input) {\n",
    "                        success\n",
    "                    }\n",
    "                }\n",
    "            }\n",
    "        \"\"\", variables= {\n",
    "            \"input\": {\n",
    "                \"keys\": [uuid_key(uuid) for uuid in chunk]\n",
    "            }\n",
    "        })\n",
    "        \n",
    "        print(result)\n",
    "\n",
    "update_cache(affected_ids)"
   ]
  }
 ],
 "metadata": {
  "kernelspec": {
   "display_name": "Python 3 (ipykernel)",
   "language": "python",
   "name": "python3"
  },
  "language_info": {
   "codemirror_mode": {
    "name": "ipython",
    "version": 3
   },
   "file_extension": ".py",
   "mimetype": "text/x-python",
   "name": "python",
   "nbconvert_exporter": "python",
   "pygments_lexer": "ipython3",
   "version": "3.10.1"
  }
 },
 "nbformat": 4,
 "nbformat_minor": 5
}
