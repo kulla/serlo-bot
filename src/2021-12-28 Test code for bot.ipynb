{
 "cells": [
  {
   "cell_type": "code",
   "execution_count": 146,
   "id": "7e31a49d",
   "metadata": {},
   "outputs": [
    {
     "name": "stdout",
     "output_type": "stream",
     "text": [
      "https://api.serlo-staging.dev/\n",
      "https://serlo-staging.dev/a\n",
      "('serloteam', 'serloteam')\n"
     ]
    }
   ],
   "source": [
    "import urllib.parse\n",
    "\n",
    "from enum import Enum\n",
    "\n",
    "class Environment(Enum):\n",
    "    PRODUCTION = \"serlo.org\"\n",
    "    STAGING = \"serlo-staging.dev\"\n",
    "    \n",
    "class SerloEnvironment:\n",
    "    def __init__(self, env=Environment.STAGING):\n",
    "        self.env = env\n",
    "        \n",
    "    @property\n",
    "    def domain(self):\n",
    "        return self.env.value\n",
    "    \n",
    "    def get_url(self, scheme=\"https\", subdomain=\"\", path=\"/\", query=\"\"):\n",
    "        return urllib.parse.urlunparse((scheme, self.get_netloc(subdomain), path, \"\", query, \"\"))\n",
    "    \n",
    "    def get_auth(self):\n",
    "        return (\"serloteam\", \"serloteam\") if self.env == Environment.STAGING else None\n",
    "    \n",
    "    def get_netloc(self, subdomain):\n",
    "        return \".\".join([subdomain, self.domain]) if subdomain else self.domain\n",
    "\n",
    "print(SerloEnvironment().get_url(subdomain=\"api\"))\n",
    "print(SerloEnvironment().get_url(path=\"/a\"))\n",
    "print(SerloEnvironment().get_auth())"
   ]
  },
  {
   "cell_type": "code",
   "execution_count": 172,
   "id": "00d4b1f2",
   "metadata": {},
   "outputs": [
    {
     "name": "stdout",
     "output_type": "stream",
     "text": [
      "serlo-staging.org\n",
      "api\n",
      "0\n"
     ]
    }
   ],
   "source": [
    "import requests\n",
    "import urllib.parse\n",
    "\n",
    "def get_domain(url):\n",
    "    netloc = urllib.parse.urlparse(url).netloc\n",
    "    \n",
    "    return \".\".join(netloc.split(\".\")[-2:])\n",
    "\n",
    "def get_subdomain(url):\n",
    "    netloc = urllib.parse.urlparse(url).netloc\n",
    "    \n",
    "    return \".\".join(netloc.split(\".\")[:-2])\n",
    "        \n",
    "print(get_domain(\"http://api.serlo-staging.org/p\"))\n",
    "print(get_subdomain(\"http://api.serlo-staging.org/p\"))\n",
    "print(len(get_subdomain(\"http://serlo-staging.org/p\")))"
   ]
  },
  {
   "cell_type": "code",
   "execution_count": 177,
   "id": "6fb42bf5",
   "metadata": {},
   "outputs": [
    {
     "name": "stdout",
     "output_type": "stream",
     "text": [
      "Username········\n",
      "Password········\n"
     ]
    }
   ],
   "source": [
    "from getpass import getpass\n",
    "\n",
    "username = getpass(\"Username\")\n",
    "password = getpass(\"Password\")"
   ]
  },
  {
   "cell_type": "code",
   "execution_count": 179,
   "id": "13bcd892",
   "metadata": {
    "scrolled": false
   },
   "outputs": [
    {
     "data": {
      "text/plain": [
       "{'user': {'deleteBots': {'success': True}}}"
      ]
     },
     "execution_count": 179,
     "metadata": {},
     "output_type": "execute_result"
    }
   ],
   "source": [
    "import requests\n",
    "\n",
    "import json\n",
    "import logging\n",
    "from bs4 import BeautifulSoup\n",
    "\n",
    "from http.client import HTTPConnection\n",
    "\n",
    "# print statements from `http.client.HTTPConnection` to console/stdout\n",
    "HTTPConnection.debuglevel = 0\n",
    "\n",
    "class SerloSession(requests.Session):\n",
    "    def __init__(self, env):\n",
    "        self.env = env\n",
    "        \n",
    "        super().__init__()\n",
    "        \n",
    "    def prepare_request(self, request):\n",
    "        if self.is_serlo_domain(request.url) and get_subdomain(request.url) in [\"en\", \"de\", \"es\", \"hi\", \"ta\"]:\n",
    "            request.auth = self.env.get_auth()\n",
    "        \n",
    "        return super().prepare_request(request)\n",
    "    \n",
    "    def should_strip_auth(self, old_url, new_url):\n",
    "        if self.is_serlo_domain(old_url) and self.is_serlo_domain(new_url):\n",
    "            return False\n",
    "        \n",
    "        return super().should_strip_auth(old_url, new_url)\n",
    "    \n",
    "    def is_serlo_domain(self, url):\n",
    "        return get_domain(url) == self.env.domain\n",
    "\n",
    "class SerloBot:\n",
    "    def __init__(self, env=Environment.STAGING):\n",
    "        self.env = SerloEnvironment(env)\n",
    "        self.session = SerloSession(self.env)\n",
    "    \n",
    "    def login(self, username, password):\n",
    "        login_page = self.session.get(self.env.get_url(subdomain=\"en\", path=\"/api/auth/login\"),\n",
    "                                      headers = {\"Referer\": self.env.get_url(subdomain=\"en\")})\n",
    "        \n",
    "        login_page.raise_for_status()\n",
    "        login_form = BeautifulSoup(login_page.text).find(\"form\", id=\"login\")\n",
    "        \n",
    "        after_login = self.session.post(login_page.url, data={\n",
    "            \"csrf\": login_form.select('input[name=\"csrf\"]')[0][\"value\"],\n",
    "            \"login_challenge\": login_form.select('input[name=\"login_challenge\"]')[0][\"value\"],\n",
    "            \"email\": username,\n",
    "            \"password\": password,\n",
    "            \"submit\": \"Login\",\n",
    "            \"remember\": [\"0\", \"1\"]\n",
    "        })\n",
    "        \n",
    "        after_login.raise_for_status()\n",
    "    \n",
    "    def api_call(self, query, variables={}):\n",
    "        headers = {\n",
    "            \"Content-Type\": \"application/json\",\n",
    "            \"Referer\": self.env.get_url(subdomain=\"en\")\n",
    "        }\n",
    "        access_token = self.get_access_token()\n",
    "        \n",
    "        if access_token:\n",
    "            headers[\"Authorization\"] = \"Bearer \" + access_token\n",
    "        \n",
    "        response = self.session.post(self.env.get_url(subdomain=\"api\", path=\"/graphql\"),\n",
    "            headers = headers,\n",
    "            json = { \"query\": query, \"variables\": variables })\n",
    "        \n",
    "        if response.status_code not in [200,400]:\n",
    "            response.raise_for_status()\n",
    "        \n",
    "        result = response.json()\n",
    "        \n",
    "        if \"errors\" in result and result[\"errors\"]:\n",
    "            raise requests.HTTPError(result[\"errors\"][0][\"message\"], response=response)\n",
    "        \n",
    "        return result[\"data\"]\n",
    "    \n",
    "    def get_access_token(self):\n",
    "        auth_token = self.session.cookies.get(\"auth-token\", domain=self.env.get_netloc(\"en\"))\n",
    "        \n",
    "        if auth_token != None:\n",
    "            try:\n",
    "                return json.loads(auth_token).get(\"access_token\", None)\n",
    "            except json.JSONDecodeError:\n",
    "                return None\n",
    "        \n",
    "        return None\n",
    "    \n",
    "bot = SerloBot(Environment.PRODUCTION)\n",
    "bot.login(username, password)\n",
    "bot.api_call(query=\"\"\"\n",
    "        mutation {\n",
    "            user {\n",
    "                deleteBots(input: {botIds: [234104]}) {\n",
    "                    success\n",
    "                }\n",
    "            }\n",
    "        }\n",
    "    \"\"\")"
   ]
  }
 ],
 "metadata": {
  "kernelspec": {
   "display_name": "Python 3 (ipykernel)",
   "language": "python",
   "name": "python3"
  },
  "language_info": {
   "codemirror_mode": {
    "name": "ipython",
    "version": 3
   },
   "file_extension": ".py",
   "mimetype": "text/x-python",
   "name": "python",
   "nbconvert_exporter": "python",
   "pygments_lexer": "ipython3",
   "version": "3.10.1"
  }
 },
 "nbformat": 4,
 "nbformat_minor": 5
}
